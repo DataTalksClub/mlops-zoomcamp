{
 "cells": [
  {
   "cell_type": "markdown",
   "metadata": {},
   "source": [
    "## MLOps Zoomcamp: Homework for Module 1\n",
    "\n",
    "By: Matheus Moreno"
   ]
  },
  {
   "cell_type": "code",
   "execution_count": 34,
   "metadata": {},
   "outputs": [],
   "source": [
    "import pandas as pd\n",
    "from sklearn.feature_extraction import DictVectorizer\n",
    "from sklearn.linear_model import LinearRegression\n",
    "from sklearn.metrics import mean_squared_error"
   ]
  },
  {
   "cell_type": "code",
   "execution_count": 35,
   "metadata": {},
   "outputs": [],
   "source": [
    "CATEGORICAL = ['PUlocationID', 'DOlocationID']\n",
    "TARGET = 'duration'"
   ]
  },
  {
   "cell_type": "code",
   "execution_count": 36,
   "metadata": {},
   "outputs": [],
   "source": [
    "df_jan = pd.read_parquet('https://nyc-tlc.s3.amazonaws.com/trip+data/fhv_tripdata_2021-01.parquet')\n",
    "df_feb = pd.read_parquet('https://nyc-tlc.s3.amazonaws.com/trip+data/fhv_tripdata_2021-02.parquet')"
   ]
  },
  {
   "cell_type": "code",
   "execution_count": 45,
   "metadata": {},
   "outputs": [],
   "source": [
    "def read_dataframe(path: str) -> pd.DataFrame:\n",
    "    # Retrieve Parquet file\n",
    "    dataframe = pd.read_parquet(path)\n",
    "    print(f\"Retrieved dataset {path} of size {dataframe.shape}.\")\n",
    "\n",
    "    # Generate duration column\n",
    "    dataframe['duration'] = dataframe.dropOff_datetime - dataframe.pickup_datetime\n",
    "    dataframe.duration = dataframe.duration.apply(lambda t: t.total_seconds() / 60)\n",
    "    print(f\"Mean trip duration time: {dataframe.duration.mean()}m\")\n",
    "\n",
    "    # Filter outliers\n",
    "    dataframe = dataframe[(dataframe.duration >= 1) & (dataframe.duration <= 60)].copy()\n",
    "\n",
    "    # Fill and convert categorical values\n",
    "    dataframe[CATEGORICAL] = dataframe[CATEGORICAL].fillna(-1)\n",
    "    dataframe[CATEGORICAL] = dataframe[CATEGORICAL].astype(str)\n",
    "    print(f\"Percentage of values: {(df_jan.PUlocationID.value_counts(normalize=True) * 100)}%\")\n",
    "\n",
    "    return dataframe"
   ]
  },
  {
   "cell_type": "code",
   "execution_count": 47,
   "metadata": {},
   "outputs": [],
   "source": [
    "def train(x_train: pd.DataFrame, y_train: pd.DataFrame) -> LinearRegression:\n",
    "    lr = LinearRegression()\n",
    "    lr.fit(x_train, y_train)\n",
    "    return lr"
   ]
  },
  {
   "cell_type": "code",
   "execution_count": 48,
   "metadata": {},
   "outputs": [
    {
     "name": "stdout",
     "output_type": "stream",
     "text": [
      "Retrieved dataset https://nyc-tlc.s3.amazonaws.com/trip+data/fhv_tripdata_2021-01.parquet of size (1154112, 7).\n",
      "Mean trip duration time: 19.167224093791006m\n",
      "Percentage of values: 221.0    4.366208\n",
      "206.0    3.639613\n",
      "129.0    2.785366\n",
      "92.0     2.667416\n",
      "115.0    2.095535\n",
      "           ...   \n",
      "111.0    0.003064\n",
      "34.0     0.002553\n",
      "27.0     0.002042\n",
      "2.0      0.001021\n",
      "110.0    0.000511\n",
      "Name: PUlocationID, Length: 261, dtype: float64%\n"
     ]
    }
   ],
   "source": [
    "df_jan = read_dataframe('https://nyc-tlc.s3.amazonaws.com/trip+data/fhv_tripdata_2021-01.parquet')"
   ]
  },
  {
   "cell_type": "code",
   "execution_count": 49,
   "metadata": {},
   "outputs": [
    {
     "name": "stdout",
     "output_type": "stream",
     "text": [
      "Retrieved dataset https://nyc-tlc.s3.amazonaws.com/trip+data/fhv_tripdata_2021-02.parquet of size (1037692, 7).\n",
      "Mean trip duration time: 20.706986225199763m\n",
      "Percentage of values: -1.0     83.527328\n",
      "221.0     0.750568\n",
      "206.0     0.612438\n",
      "129.0     0.484671\n",
      "115.0     0.367805\n",
      "           ...    \n",
      "111.0     0.000451\n",
      "27.0      0.000360\n",
      "34.0      0.000270\n",
      "2.0       0.000180\n",
      "110.0     0.000090\n",
      "Name: PUlocationID, Length: 262, dtype: float64%\n"
     ]
    }
   ],
   "source": [
    "df_feb = read_dataframe('https://nyc-tlc.s3.amazonaws.com/trip+data/fhv_tripdata_2021-02.parquet')"
   ]
  },
  {
   "cell_type": "code",
   "execution_count": 53,
   "metadata": {},
   "outputs": [
    {
     "data": {
      "text/plain": [
       "10.528519395347283"
      ]
     },
     "execution_count": 53,
     "metadata": {},
     "output_type": "execute_result"
    }
   ],
   "source": [
    "train_dicts = df_jan[CATEGORICAL].to_dict(orient='records')\n",
    "vectorizer = DictVectorizer()\n",
    "\n",
    "x_train = vectorizer.fit_transform(train_dicts)\n",
    "model = train(x_train, df_jan[TARGET].values)\n",
    "\n",
    "y_pred = model.predict(x_train)\n",
    "\n",
    "mean_squared_error(df_jan[TARGET].values, y_pred, squared=False)"
   ]
  },
  {
   "cell_type": "code",
   "execution_count": 54,
   "metadata": {},
   "outputs": [
    {
     "data": {
      "text/plain": [
       "11.014287883358007"
      ]
     },
     "execution_count": 54,
     "metadata": {},
     "output_type": "execute_result"
    }
   ],
   "source": [
    "train_dicts = df_feb[CATEGORICAL].to_dict(orient='records')\n",
    "x_val = vectorizer.transform(train_dicts)\n",
    "\n",
    "y_pred_val = model.predict(x_val)\n",
    "\n",
    "mean_squared_error(df_feb[TARGET].values, y_pred_val, squared=False)"
   ]
  }
 ],
 "metadata": {
  "interpreter": {
   "hash": "6425d542b326045aacffe23d9694f100660f3c1d59dc026127ff78fe8ae32dca"
  },
  "kernelspec": {
   "display_name": "Python 3.9.12 ('zoomcamp')",
   "language": "python",
   "name": "python3"
  },
  "language_info": {
   "codemirror_mode": {
    "name": "ipython",
    "version": 3
   },
   "file_extension": ".py",
   "mimetype": "text/x-python",
   "name": "python",
   "nbconvert_exporter": "python",
   "pygments_lexer": "ipython3",
   "version": "3.9.12"
  },
  "orig_nbformat": 4
 },
 "nbformat": 4,
 "nbformat_minor": 2
}
