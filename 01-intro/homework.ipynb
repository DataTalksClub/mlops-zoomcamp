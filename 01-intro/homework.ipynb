{
 "cells": [
  {
   "cell_type": "code",
   "execution_count": 1,
   "id": "97264733-4d2f-4dfe-8bc6-38a1de205359",
   "metadata": {
    "execution": {
     "iopub.execute_input": "2022-05-18T09:17:38.118311Z",
     "iopub.status.busy": "2022-05-18T09:17:38.117932Z",
     "iopub.status.idle": "2022-05-18T09:17:38.535164Z",
     "shell.execute_reply": "2022-05-18T09:17:38.534578Z",
     "shell.execute_reply.started": "2022-05-18T09:17:38.118284Z"
    },
    "tags": []
   },
   "outputs": [],
   "source": [
    "import numpy as np\n",
    "import pandas as pd"
   ]
  },
  {
   "cell_type": "code",
   "execution_count": 2,
   "id": "1f88a290-3586-4552-9b84-a9742a0722c6",
   "metadata": {
    "execution": {
     "iopub.execute_input": "2022-05-18T09:17:39.159432Z",
     "iopub.status.busy": "2022-05-18T09:17:39.158908Z",
     "iopub.status.idle": "2022-05-18T09:17:40.136299Z",
     "shell.execute_reply": "2022-05-18T09:17:40.135705Z",
     "shell.execute_reply.started": "2022-05-18T09:17:39.159402Z"
    },
    "tags": []
   },
   "outputs": [],
   "source": [
    "import seaborn as sns\n",
    "import matplotlib.pyplot as plt\n",
    "from sklearn.feature_extraction import DictVectorizer\n",
    "from sklearn.linear_model import LinearRegression\n",
    "from sklearn.metrics import mean_squared_error"
   ]
  },
  {
   "cell_type": "code",
   "execution_count": 3,
   "id": "993ba91b-ac07-447e-8e57-3d2b9b1ebea9",
   "metadata": {
    "execution": {
     "iopub.execute_input": "2022-05-18T09:17:40.141964Z",
     "iopub.status.busy": "2022-05-18T09:17:40.141740Z",
     "iopub.status.idle": "2022-05-18T09:17:40.402952Z",
     "shell.execute_reply": "2022-05-18T09:17:40.402471Z",
     "shell.execute_reply.started": "2022-05-18T09:17:40.141946Z"
    },
    "tags": []
   },
   "outputs": [],
   "source": [
    "df_jan = pd.read_parquet('data/fhv_tripdata_2021-01.parquet')"
   ]
  },
  {
   "cell_type": "markdown",
   "id": "9ee95a1a-6080-45a9-b687-354745b5f1ed",
   "metadata": {},
   "source": [
    "### Q1. Downloading the data"
   ]
  },
  {
   "cell_type": "code",
   "execution_count": 4,
   "id": "01795b84-364a-4862-bc27-64707e4fbb4c",
   "metadata": {
    "execution": {
     "iopub.execute_input": "2022-05-18T09:17:42.870705Z",
     "iopub.status.busy": "2022-05-18T09:17:42.870334Z",
     "iopub.status.idle": "2022-05-18T09:17:42.874604Z",
     "shell.execute_reply": "2022-05-18T09:17:42.874229Z",
     "shell.execute_reply.started": "2022-05-18T09:17:42.870678Z"
    },
    "tags": []
   },
   "outputs": [
    {
     "data": {
      "text/plain": [
       "1154112"
      ]
     },
     "execution_count": 4,
     "metadata": {},
     "output_type": "execute_result"
    }
   ],
   "source": [
    "df_jan.shape[0]"
   ]
  },
  {
   "cell_type": "markdown",
   "id": "aecb8f35-aec5-4ad4-bf13-23f3a3a41294",
   "metadata": {},
   "source": [
    "### Q2. Computing duration"
   ]
  },
  {
   "cell_type": "code",
   "execution_count": 5,
   "id": "ecae9a72-0c1b-4b69-9221-4ac010bdc2f9",
   "metadata": {
    "execution": {
     "iopub.execute_input": "2022-05-18T09:17:44.338317Z",
     "iopub.status.busy": "2022-05-18T09:17:44.337919Z",
     "iopub.status.idle": "2022-05-18T09:17:44.350366Z",
     "shell.execute_reply": "2022-05-18T09:17:44.349969Z",
     "shell.execute_reply.started": "2022-05-18T09:17:44.338289Z"
    },
    "tags": []
   },
   "outputs": [
    {
     "data": {
      "text/html": [
       "<div>\n",
       "<style scoped>\n",
       "    .dataframe tbody tr th:only-of-type {\n",
       "        vertical-align: middle;\n",
       "    }\n",
       "\n",
       "    .dataframe tbody tr th {\n",
       "        vertical-align: top;\n",
       "    }\n",
       "\n",
       "    .dataframe thead th {\n",
       "        text-align: right;\n",
       "    }\n",
       "</style>\n",
       "<table border=\"1\" class=\"dataframe\">\n",
       "  <thead>\n",
       "    <tr style=\"text-align: right;\">\n",
       "      <th></th>\n",
       "      <th>dispatching_base_num</th>\n",
       "      <th>pickup_datetime</th>\n",
       "      <th>dropOff_datetime</th>\n",
       "      <th>PUlocationID</th>\n",
       "      <th>DOlocationID</th>\n",
       "      <th>SR_Flag</th>\n",
       "      <th>Affiliated_base_number</th>\n",
       "    </tr>\n",
       "  </thead>\n",
       "  <tbody>\n",
       "    <tr>\n",
       "      <th>0</th>\n",
       "      <td>B00009</td>\n",
       "      <td>2021-01-01 00:27:00</td>\n",
       "      <td>2021-01-01 00:44:00</td>\n",
       "      <td>NaN</td>\n",
       "      <td>NaN</td>\n",
       "      <td>None</td>\n",
       "      <td>B00009</td>\n",
       "    </tr>\n",
       "    <tr>\n",
       "      <th>1</th>\n",
       "      <td>B00009</td>\n",
       "      <td>2021-01-01 00:50:00</td>\n",
       "      <td>2021-01-01 01:07:00</td>\n",
       "      <td>NaN</td>\n",
       "      <td>NaN</td>\n",
       "      <td>None</td>\n",
       "      <td>B00009</td>\n",
       "    </tr>\n",
       "    <tr>\n",
       "      <th>2</th>\n",
       "      <td>B00013</td>\n",
       "      <td>2021-01-01 00:01:00</td>\n",
       "      <td>2021-01-01 01:51:00</td>\n",
       "      <td>NaN</td>\n",
       "      <td>NaN</td>\n",
       "      <td>None</td>\n",
       "      <td>B00013</td>\n",
       "    </tr>\n",
       "    <tr>\n",
       "      <th>3</th>\n",
       "      <td>B00037</td>\n",
       "      <td>2021-01-01 00:13:09</td>\n",
       "      <td>2021-01-01 00:21:26</td>\n",
       "      <td>NaN</td>\n",
       "      <td>72.0</td>\n",
       "      <td>None</td>\n",
       "      <td>B00037</td>\n",
       "    </tr>\n",
       "    <tr>\n",
       "      <th>4</th>\n",
       "      <td>B00037</td>\n",
       "      <td>2021-01-01 00:38:31</td>\n",
       "      <td>2021-01-01 00:53:44</td>\n",
       "      <td>NaN</td>\n",
       "      <td>61.0</td>\n",
       "      <td>None</td>\n",
       "      <td>B00037</td>\n",
       "    </tr>\n",
       "  </tbody>\n",
       "</table>\n",
       "</div>"
      ],
      "text/plain": [
       "  dispatching_base_num     pickup_datetime    dropOff_datetime  PUlocationID  \\\n",
       "0               B00009 2021-01-01 00:27:00 2021-01-01 00:44:00           NaN   \n",
       "1               B00009 2021-01-01 00:50:00 2021-01-01 01:07:00           NaN   \n",
       "2               B00013 2021-01-01 00:01:00 2021-01-01 01:51:00           NaN   \n",
       "3               B00037 2021-01-01 00:13:09 2021-01-01 00:21:26           NaN   \n",
       "4               B00037 2021-01-01 00:38:31 2021-01-01 00:53:44           NaN   \n",
       "\n",
       "   DOlocationID SR_Flag Affiliated_base_number  \n",
       "0           NaN    None                 B00009  \n",
       "1           NaN    None                 B00009  \n",
       "2           NaN    None                 B00013  \n",
       "3          72.0    None                 B00037  \n",
       "4          61.0    None                 B00037  "
      ]
     },
     "execution_count": 5,
     "metadata": {},
     "output_type": "execute_result"
    }
   ],
   "source": [
    "df_jan.head()"
   ]
  },
  {
   "cell_type": "code",
   "execution_count": 6,
   "id": "d8d42ca9-a9ba-4a20-b182-3ec82602e077",
   "metadata": {
    "execution": {
     "iopub.execute_input": "2022-05-18T09:17:45.691965Z",
     "iopub.status.busy": "2022-05-18T09:17:45.691432Z",
     "iopub.status.idle": "2022-05-18T09:17:52.178536Z",
     "shell.execute_reply": "2022-05-18T09:17:52.178089Z",
     "shell.execute_reply.started": "2022-05-18T09:17:45.691937Z"
    },
    "tags": []
   },
   "outputs": [],
   "source": [
    "df_jan.dropOff_datetime = pd.to_datetime(df_jan.dropOff_datetime)\n",
    "df_jan.pickup_datetime = pd.to_datetime(df_jan.pickup_datetime)\n",
    "df_jan['duration'] = df_jan.dropOff_datetime - df_jan.pickup_datetime\n",
    "df_jan['duration'] = df_jan['duration'].apply(lambda td: td.total_seconds() / 60)"
   ]
  },
  {
   "cell_type": "code",
   "execution_count": 7,
   "id": "c502e4f9-d50c-4607-912a-17984e96ad30",
   "metadata": {
    "execution": {
     "iopub.execute_input": "2022-05-18T09:17:55.507402Z",
     "iopub.status.busy": "2022-05-18T09:17:55.506947Z",
     "iopub.status.idle": "2022-05-18T09:17:55.514181Z",
     "shell.execute_reply": "2022-05-18T09:17:55.513462Z",
     "shell.execute_reply.started": "2022-05-18T09:17:55.507371Z"
    },
    "tags": []
   },
   "outputs": [
    {
     "data": {
      "text/plain": [
       "19.1672240937939"
      ]
     },
     "execution_count": 7,
     "metadata": {},
     "output_type": "execute_result"
    }
   ],
   "source": [
    "df_jan['duration'].mean()"
   ]
  },
  {
   "cell_type": "markdown",
   "id": "9aeacab3-a05c-439a-a60c-dd9f210921dc",
   "metadata": {},
   "source": [
    "### Data preparation"
   ]
  },
  {
   "cell_type": "code",
   "execution_count": 8,
   "id": "ebfeb492-e214-442f-b66f-213d2bc0aeb7",
   "metadata": {
    "execution": {
     "iopub.execute_input": "2022-05-18T09:18:05.878735Z",
     "iopub.status.busy": "2022-05-18T09:18:05.878205Z",
     "iopub.status.idle": "2022-05-18T09:18:05.974106Z",
     "shell.execute_reply": "2022-05-18T09:18:05.973603Z",
     "shell.execute_reply.started": "2022-05-18T09:18:05.878707Z"
    },
    "tags": []
   },
   "outputs": [],
   "source": [
    "df_jan = df_jan.loc[(df_jan['duration'] >= 1) & (df_jan['duration'] <= 60)].copy()"
   ]
  },
  {
   "cell_type": "code",
   "execution_count": 9,
   "id": "fba1de53-f361-4748-aaab-9ee2319ec570",
   "metadata": {
    "execution": {
     "iopub.execute_input": "2022-05-18T09:18:11.177035Z",
     "iopub.status.busy": "2022-05-18T09:18:11.176617Z",
     "iopub.status.idle": "2022-05-18T09:18:11.181871Z",
     "shell.execute_reply": "2022-05-18T09:18:11.181263Z",
     "shell.execute_reply.started": "2022-05-18T09:18:11.177004Z"
    },
    "tags": []
   },
   "outputs": [
    {
     "data": {
      "text/plain": [
       "1109826"
      ]
     },
     "execution_count": 9,
     "metadata": {},
     "output_type": "execute_result"
    }
   ],
   "source": [
    "df_jan.shape[0]"
   ]
  },
  {
   "cell_type": "markdown",
   "id": "876216cf-98ec-48b7-b2f5-746c163cf18b",
   "metadata": {},
   "source": [
    "### Q3. Missing values"
   ]
  },
  {
   "cell_type": "code",
   "execution_count": 10,
   "id": "50a84000-9244-4ae0-9705-b0c1fdd5a1ae",
   "metadata": {
    "execution": {
     "iopub.execute_input": "2022-05-18T09:18:25.027469Z",
     "iopub.status.busy": "2022-05-18T09:18:25.027077Z",
     "iopub.status.idle": "2022-05-18T09:18:25.041372Z",
     "shell.execute_reply": "2022-05-18T09:18:25.040765Z",
     "shell.execute_reply.started": "2022-05-18T09:18:25.027438Z"
    },
    "tags": []
   },
   "outputs": [
    {
     "data": {
      "text/html": [
       "<div>\n",
       "<style scoped>\n",
       "    .dataframe tbody tr th:only-of-type {\n",
       "        vertical-align: middle;\n",
       "    }\n",
       "\n",
       "    .dataframe tbody tr th {\n",
       "        vertical-align: top;\n",
       "    }\n",
       "\n",
       "    .dataframe thead th {\n",
       "        text-align: right;\n",
       "    }\n",
       "</style>\n",
       "<table border=\"1\" class=\"dataframe\">\n",
       "  <thead>\n",
       "    <tr style=\"text-align: right;\">\n",
       "      <th></th>\n",
       "      <th>dispatching_base_num</th>\n",
       "      <th>pickup_datetime</th>\n",
       "      <th>dropOff_datetime</th>\n",
       "      <th>PUlocationID</th>\n",
       "      <th>DOlocationID</th>\n",
       "      <th>SR_Flag</th>\n",
       "      <th>Affiliated_base_number</th>\n",
       "      <th>duration</th>\n",
       "    </tr>\n",
       "  </thead>\n",
       "  <tbody>\n",
       "    <tr>\n",
       "      <th>0</th>\n",
       "      <td>B00009</td>\n",
       "      <td>2021-01-01 00:27:00</td>\n",
       "      <td>2021-01-01 00:44:00</td>\n",
       "      <td>NaN</td>\n",
       "      <td>NaN</td>\n",
       "      <td>None</td>\n",
       "      <td>B00009</td>\n",
       "      <td>17.000000</td>\n",
       "    </tr>\n",
       "    <tr>\n",
       "      <th>1</th>\n",
       "      <td>B00009</td>\n",
       "      <td>2021-01-01 00:50:00</td>\n",
       "      <td>2021-01-01 01:07:00</td>\n",
       "      <td>NaN</td>\n",
       "      <td>NaN</td>\n",
       "      <td>None</td>\n",
       "      <td>B00009</td>\n",
       "      <td>17.000000</td>\n",
       "    </tr>\n",
       "    <tr>\n",
       "      <th>3</th>\n",
       "      <td>B00037</td>\n",
       "      <td>2021-01-01 00:13:09</td>\n",
       "      <td>2021-01-01 00:21:26</td>\n",
       "      <td>NaN</td>\n",
       "      <td>72.0</td>\n",
       "      <td>None</td>\n",
       "      <td>B00037</td>\n",
       "      <td>8.283333</td>\n",
       "    </tr>\n",
       "    <tr>\n",
       "      <th>4</th>\n",
       "      <td>B00037</td>\n",
       "      <td>2021-01-01 00:38:31</td>\n",
       "      <td>2021-01-01 00:53:44</td>\n",
       "      <td>NaN</td>\n",
       "      <td>61.0</td>\n",
       "      <td>None</td>\n",
       "      <td>B00037</td>\n",
       "      <td>15.216667</td>\n",
       "    </tr>\n",
       "    <tr>\n",
       "      <th>5</th>\n",
       "      <td>B00037</td>\n",
       "      <td>2021-01-01 00:59:02</td>\n",
       "      <td>2021-01-01 01:08:05</td>\n",
       "      <td>NaN</td>\n",
       "      <td>71.0</td>\n",
       "      <td>None</td>\n",
       "      <td>B00037</td>\n",
       "      <td>9.050000</td>\n",
       "    </tr>\n",
       "  </tbody>\n",
       "</table>\n",
       "</div>"
      ],
      "text/plain": [
       "  dispatching_base_num     pickup_datetime    dropOff_datetime  PUlocationID  \\\n",
       "0               B00009 2021-01-01 00:27:00 2021-01-01 00:44:00           NaN   \n",
       "1               B00009 2021-01-01 00:50:00 2021-01-01 01:07:00           NaN   \n",
       "3               B00037 2021-01-01 00:13:09 2021-01-01 00:21:26           NaN   \n",
       "4               B00037 2021-01-01 00:38:31 2021-01-01 00:53:44           NaN   \n",
       "5               B00037 2021-01-01 00:59:02 2021-01-01 01:08:05           NaN   \n",
       "\n",
       "   DOlocationID SR_Flag Affiliated_base_number   duration  \n",
       "0           NaN    None                 B00009  17.000000  \n",
       "1           NaN    None                 B00009  17.000000  \n",
       "3          72.0    None                 B00037   8.283333  \n",
       "4          61.0    None                 B00037  15.216667  \n",
       "5          71.0    None                 B00037   9.050000  "
      ]
     },
     "execution_count": 10,
     "metadata": {},
     "output_type": "execute_result"
    }
   ],
   "source": [
    "df_jan.head()"
   ]
  },
  {
   "cell_type": "code",
   "execution_count": 11,
   "id": "ce2d0515-5dc4-4fbf-8f36-bd517efb1dd0",
   "metadata": {
    "execution": {
     "iopub.execute_input": "2022-05-18T09:18:26.406984Z",
     "iopub.status.busy": "2022-05-18T09:18:26.406580Z",
     "iopub.status.idle": "2022-05-18T09:18:26.426578Z",
     "shell.execute_reply": "2022-05-18T09:18:26.426059Z",
     "shell.execute_reply.started": "2022-05-18T09:18:26.406956Z"
    },
    "tags": []
   },
   "outputs": [],
   "source": [
    "df_jan.loc[:, ['PUlocationID', 'DOlocationID']] = df_jan.loc[:, ['PUlocationID', 'DOlocationID']].fillna(-1)"
   ]
  },
  {
   "cell_type": "code",
   "execution_count": 12,
   "id": "af05df42-b1cf-4516-8b62-84c06895192f",
   "metadata": {
    "execution": {
     "iopub.execute_input": "2022-05-18T09:18:27.144924Z",
     "iopub.status.busy": "2022-05-18T09:18:27.144494Z",
     "iopub.status.idle": "2022-05-18T09:18:27.152703Z",
     "shell.execute_reply": "2022-05-18T09:18:27.151929Z",
     "shell.execute_reply.started": "2022-05-18T09:18:27.144897Z"
    },
    "tags": []
   },
   "outputs": [
    {
     "data": {
      "text/plain": [
       "0.8352732770722617"
      ]
     },
     "execution_count": 12,
     "metadata": {},
     "output_type": "execute_result"
    }
   ],
   "source": [
    "(df_jan['PUlocationID'] == -1).mean()"
   ]
  },
  {
   "cell_type": "markdown",
   "id": "cc404cf6-4101-4718-8f8a-46bab724fa0e",
   "metadata": {},
   "source": [
    "### Q4. One-hot encoding"
   ]
  },
  {
   "cell_type": "code",
   "execution_count": 19,
   "id": "8aa4d981-9ba2-42fd-ad9e-e781c797cdee",
   "metadata": {
    "execution": {
     "iopub.execute_input": "2022-05-18T09:30:23.336822Z",
     "iopub.status.busy": "2022-05-18T09:30:23.336420Z",
     "iopub.status.idle": "2022-05-18T09:30:27.520368Z",
     "shell.execute_reply": "2022-05-18T09:30:27.519829Z",
     "shell.execute_reply.started": "2022-05-18T09:30:23.336794Z"
    },
    "tags": []
   },
   "outputs": [],
   "source": [
    "dv = DictVectorizer()\n",
    "df_jan_dict = df_jan[['PUlocationID', 'DOlocationID']].astype('str').to_dict(orient='records')\n",
    "df_jan_val = dv.fit_transform(df_jan_dict)"
   ]
  },
  {
   "cell_type": "code",
   "execution_count": 22,
   "id": "2cf24e44-9a35-4602-9a30-5ce5018f923e",
   "metadata": {
    "execution": {
     "iopub.execute_input": "2022-05-18T09:31:05.460515Z",
     "iopub.status.busy": "2022-05-18T09:31:05.460121Z",
     "iopub.status.idle": "2022-05-18T09:31:05.465318Z",
     "shell.execute_reply": "2022-05-18T09:31:05.464552Z",
     "shell.execute_reply.started": "2022-05-18T09:31:05.460487Z"
    },
    "tags": []
   },
   "outputs": [
    {
     "data": {
      "text/plain": [
       "2"
      ]
     },
     "execution_count": 22,
     "metadata": {},
     "output_type": "execute_result"
    }
   ],
   "source": [
    "df_jan_val.ndim"
   ]
  },
  {
   "cell_type": "markdown",
   "id": "de94393a-43d4-44d3-8615-37d4adf9bc4c",
   "metadata": {},
   "source": [
    "### Q5. Training a model"
   ]
  },
  {
   "cell_type": "code",
   "execution_count": 23,
   "id": "4248a13f-67c5-41b9-bd38-0cd2d1b40d25",
   "metadata": {
    "execution": {
     "iopub.execute_input": "2022-05-18T09:34:31.075453Z",
     "iopub.status.busy": "2022-05-18T09:34:31.075046Z",
     "iopub.status.idle": "2022-05-18T09:34:37.506313Z",
     "shell.execute_reply": "2022-05-18T09:34:37.505882Z",
     "shell.execute_reply.started": "2022-05-18T09:34:31.075423Z"
    }
   },
   "outputs": [
    {
     "data": {
      "text/plain": [
       "LinearRegression()"
      ]
     },
     "execution_count": 23,
     "metadata": {},
     "output_type": "execute_result"
    }
   ],
   "source": [
    "from sklearn.linear_model import LinearRegression\n",
    "\n",
    "lin_reg = LinearRegression()\n",
    "lin_reg.fit(df_jan_val, df_jan['duration'])"
   ]
  },
  {
   "cell_type": "code",
   "execution_count": 24,
   "id": "fdcc5c3b-f368-499a-91b6-5ac9a9a5b4de",
   "metadata": {
    "execution": {
     "iopub.execute_input": "2022-05-18T09:35:19.953327Z",
     "iopub.status.busy": "2022-05-18T09:35:19.952867Z",
     "iopub.status.idle": "2022-05-18T09:35:19.962893Z",
     "shell.execute_reply": "2022-05-18T09:35:19.962297Z",
     "shell.execute_reply.started": "2022-05-18T09:35:19.953297Z"
    }
   },
   "outputs": [],
   "source": [
    "y_pred = lin_reg.predict(df_jan_val)"
   ]
  },
  {
   "cell_type": "code",
   "execution_count": 25,
   "id": "ae7c7217-c83e-4f1b-94ca-51cc32bef59e",
   "metadata": {
    "execution": {
     "iopub.execute_input": "2022-05-18T09:37:25.160394Z",
     "iopub.status.busy": "2022-05-18T09:37:25.159595Z",
     "iopub.status.idle": "2022-05-18T09:37:25.168936Z",
     "shell.execute_reply": "2022-05-18T09:37:25.168417Z",
     "shell.execute_reply.started": "2022-05-18T09:37:25.160364Z"
    }
   },
   "outputs": [
    {
     "data": {
      "text/plain": [
       "10.528519107205959"
      ]
     },
     "execution_count": 25,
     "metadata": {},
     "output_type": "execute_result"
    }
   ],
   "source": [
    "from sklearn.metrics import mean_squared_error\n",
    "\n",
    "mean_squared_error(df_jan['duration'], y_pred)**0.5"
   ]
  },
  {
   "cell_type": "markdown",
   "id": "c01790a5-f15f-46f8-a4ce-2b9e22f6d9fc",
   "metadata": {},
   "source": [
    "### Q6. Evaluating the model"
   ]
  },
  {
   "cell_type": "code",
   "execution_count": 26,
   "id": "a7d3b68c-f9df-4a11-865a-e7d6c2b1839a",
   "metadata": {
    "execution": {
     "iopub.execute_input": "2022-05-18T09:42:34.143650Z",
     "iopub.status.busy": "2022-05-18T09:42:34.143165Z",
     "iopub.status.idle": "2022-05-18T09:42:44.626690Z",
     "shell.execute_reply": "2022-05-18T09:42:44.625970Z",
     "shell.execute_reply.started": "2022-05-18T09:42:34.143617Z"
    }
   },
   "outputs": [
    {
     "data": {
      "text/plain": [
       "11.01428314240328"
      ]
     },
     "execution_count": 26,
     "metadata": {},
     "output_type": "execute_result"
    }
   ],
   "source": [
    "df_feb = pd.read_parquet('data/fhv_tripdata_2021-02.parquet')\n",
    "df_feb.dropOff_datetime = pd.to_datetime(df_feb.dropOff_datetime)\n",
    "df_feb.pickup_datetime = pd.to_datetime(df_feb.pickup_datetime)\n",
    "df_feb['duration'] = df_feb.dropOff_datetime - df_feb.pickup_datetime\n",
    "df_feb['duration'] = df_feb['duration'].apply(lambda td: td.total_seconds() / 60)\n",
    "df_feb = df_feb.loc[(df_feb['duration'] >= 1) & (df_feb['duration'] <= 60)].copy()\n",
    "df_feb.loc[:, ['PUlocationID', 'DOlocationID']] = df_feb.loc[:, ['PUlocationID', 'DOlocationID']].fillna(-1)\n",
    "df_feb_dict = df_feb[['PUlocationID', 'DOlocationID']].astype('str').to_dict(orient='records')\n",
    "df_feb_val = dv.transform(df_feb_dict)\n",
    "y_valid_pred = lin_reg.predict(df_feb_val)\n",
    "mean_squared_error(df_feb['duration'], y_valid_pred)**0.5"
   ]
  }
 ],
 "metadata": {
  "kernelspec": {
   "display_name": "mlops-zoomcamp",
   "language": "python",
   "name": "mlops-zoomcamp"
  },
  "language_info": {
   "codemirror_mode": {
    "name": "ipython",
    "version": 3
   },
   "file_extension": ".py",
   "mimetype": "text/x-python",
   "name": "python",
   "nbconvert_exporter": "python",
   "pygments_lexer": "ipython3",
   "version": "3.9.12"
  }
 },
 "nbformat": 4,
 "nbformat_minor": 5
}
