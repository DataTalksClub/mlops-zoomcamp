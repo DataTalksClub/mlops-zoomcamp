import numpy as np
import pandas as pd


import seaborn as sns
import matplotlib.pyplot as plt
from sklearn.feature_extraction import DictVectorizer
from sklearn.linear_model import LinearRegression
from sklearn.metrics import mean_squared_error


df = pd.read_parquet('data/green_tripdata_2021-01.parquet')


df.head()


df.lpep_dropoff_datetime = pd.to_datetime(df.lpep_dropoff_datetime)
df.lpep_pickup_datetime = pd.to_datetime(df.lpep_pickup_datetime)
df['duration'] = df.lpep_dropoff_datetime - df.lpep_pickup_datetime
df['duration'] = df['duration'].apply(lambda td: td.total_seconds() / 60)


# df = df.loc[df.trip_type == 2].copy()


df.shape


df.duration.describe(percentiles=[0.95, 0.98, 0.99])


df = df.loc[(df.duration >= 1) & (df.duration <= 60)].copy()


df.shape


df.head()


categorical = ['PULocationID', 'DOLocationID']
numerical = ['trip_distance']


df[categorical] = df[categorical].astype(str)


df.head()


dv = DictVectorizer()


train_dicts = df[categorical + numerical].to_dict(orient='records')


dv = DictVectorizer()
X_train = dv.fit_transform(train_dicts)


target = 'duration'
y_train = df[target].values


y_train


lr = LinearRegression()
lr.fit(X_train, y_train)


y_pred = lr.predict(X_train)


sns.distplot(y_pred, label='prediction')
sns.distplot(y_train, label='actual')
plt.legend()


mean_squared_error(y_train, y_pred, squared=False)


X_train



