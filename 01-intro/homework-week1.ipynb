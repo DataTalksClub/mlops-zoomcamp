{
 "cells": [
  {
   "cell_type": "code",
   "execution_count": 1,
   "id": "41062d8a",
   "metadata": {},
   "outputs": [],
   "source": [
    "# Import Libraries\n",
    "import pandas as pd\n",
    "import numpy as np\n",
    "import pickle\n",
    "\n",
    "import seaborn as sns\n",
    "import matplotlib.pyplot as plt\n",
    "\n",
    "from sklearn.feature_extraction import DictVectorizer\n",
    "from sklearn.linear_model import LinearRegression\n",
    "from sklearn.linear_model import Lasso\n",
    "from sklearn.linear_model import Ridge\n",
    "\n",
    "from sklearn.metrics import mean_squared_error"
   ]
  },
  {
   "cell_type": "code",
   "execution_count": 2,
   "id": "d096401c",
   "metadata": {},
   "outputs": [
    {
     "name": "stdout",
     "output_type": "stream",
     "text": [
      "--2022-05-22 11:27:02--  https://nyc-tlc.s3.amazonaws.com/trip+data/fhv_tripdata_2021-01.parquet\n",
      "Resolving nyc-tlc.s3.amazonaws.com (nyc-tlc.s3.amazonaws.com)... 54.231.167.57\n",
      "Connecting to nyc-tlc.s3.amazonaws.com (nyc-tlc.s3.amazonaws.com)|54.231.167.57|:443... connected.\n",
      "HTTP request sent, awaiting response... 200 OK\n",
      "Length: 11886281 (11M) [binary/octet-stream]\n",
      "Saving to: ‘../data/fhv_tripdata_2021-01.parquet.1’\n",
      "\n",
      "fhv_tripdata_2021-0 100%[===================>]  11.33M  --.-KB/s    in 0.1s    \n",
      "\n",
      "2022-05-22 11:27:03 (105 MB/s) - ‘../data/fhv_tripdata_2021-01.parquet.1’ saved [11886281/11886281]\n",
      "\n"
     ]
    }
   ],
   "source": [
    "# Lets import the data for January\n",
    "!wget https://nyc-tlc.s3.amazonaws.com/trip+data/fhv_tripdata_2021-01.parquet -P ../data"
   ]
  },
  {
   "cell_type": "code",
   "execution_count": 3,
   "id": "e582a573",
   "metadata": {},
   "outputs": [
    {
     "name": "stdout",
     "output_type": "stream",
     "text": [
      "--2022-05-22 11:27:03--  https://nyc-tlc.s3.amazonaws.com/trip+data/fhv_tripdata_2021-02.parquet\n",
      "Resolving nyc-tlc.s3.amazonaws.com (nyc-tlc.s3.amazonaws.com)... 52.217.160.153\n",
      "Connecting to nyc-tlc.s3.amazonaws.com (nyc-tlc.s3.amazonaws.com)|52.217.160.153|:443... connected.\n",
      "HTTP request sent, awaiting response... 200 OK\n",
      "Length: 10645466 (10M) [binary/octet-stream]\n",
      "Saving to: ‘../data/fhv_tripdata_2021-02.parquet.1’\n",
      "\n",
      "fhv_tripdata_2021-0 100%[===================>]  10.15M  --.-KB/s    in 0.1s    \n",
      "\n",
      "2022-05-22 11:27:03 (102 MB/s) - ‘../data/fhv_tripdata_2021-02.parquet.1’ saved [10645466/10645466]\n",
      "\n"
     ]
    }
   ],
   "source": [
    "# Lets import the data for February\n",
    "!wget https://nyc-tlc.s3.amazonaws.com/trip+data/fhv_tripdata_2021-02.parquet -P ../data"
   ]
  },
  {
   "cell_type": "code",
   "execution_count": 4,
   "id": "977f6bff",
   "metadata": {},
   "outputs": [
    {
     "data": {
      "text/plain": [
       "1154112"
      ]
     },
     "execution_count": 4,
     "metadata": {},
     "output_type": "execute_result"
    }
   ],
   "source": [
    "# Q1 Records for January\n",
    "df = pd.read_parquet('../data/fhv_tripdata_2021-01.parquet')\n",
    "\n",
    "# Total records\n",
    "df.shape[0]"
   ]
  },
  {
   "cell_type": "code",
   "execution_count": 5,
   "id": "11f228ce",
   "metadata": {},
   "outputs": [
    {
     "data": {
      "text/plain": [
       "(19.1672240937939, 13.4)"
      ]
     },
     "execution_count": 5,
     "metadata": {},
     "output_type": "execute_result"
    }
   ],
   "source": [
    "# Q2 Lets get duration\n",
    "df['duration'] = df.dropOff_datetime - df.pickup_datetime\n",
    "df.duration = df.duration.apply(lambda td: td.total_seconds() / 60)\n",
    "\n",
    "# Average duration\n",
    "df.duration.mean(), df.duration.median()"
   ]
  },
  {
   "cell_type": "code",
   "execution_count": 6,
   "id": "c7756492",
   "metadata": {},
   "outputs": [
    {
     "name": "stdout",
     "output_type": "stream",
     "text": [
      "count    1154112.00\n",
      "mean          19.17\n",
      "std          398.69\n",
      "min            0.02\n",
      "25%            7.77\n",
      "50%           13.40\n",
      "75%           22.28\n",
      "max       423371.05\n",
      "Name: duration, dtype: float64\n",
      "count    1154112.0\n",
      "mean          19.0\n",
      "std          399.0\n",
      "min            0.0\n",
      "50%           13.0\n",
      "90%           36.0\n",
      "95%           47.0\n",
      "99%           90.0\n",
      "max       423371.0\n",
      "Name: duration, dtype: float64 2\n"
     ]
    }
   ],
   "source": [
    "# Q2.2 Lets get the distribution of the duration\n",
    "print(round(df.duration.describe(),2))\n",
    "\n",
    "\n",
    "print(round(df.duration.describe(percentiles=[0.9, 0.95,0.99])),2)"
   ]
  },
  {
   "cell_type": "code",
   "execution_count": 7,
   "id": "68bdef60",
   "metadata": {},
   "outputs": [
    {
     "name": "stderr",
     "output_type": "stream",
     "text": [
      "/home/ubuntu/anaconda3/lib/python3.9/site-packages/seaborn/distributions.py:2619: FutureWarning: `distplot` is a deprecated function and will be removed in a future version. Please adapt your code to use either `displot` (a figure-level function with similar flexibility) or `histplot` (an axes-level function for histograms).\n",
      "  warnings.warn(msg, FutureWarning)\n"
     ]
    },
    {
     "data": {
      "text/plain": [
       "<AxesSubplot:xlabel='duration', ylabel='Density'>"
      ]
     },
     "execution_count": 7,
     "metadata": {},
     "output_type": "execute_result"
    },
    {
     "data": {
      "image/png": "[encoded data removed]",
      "text/plain": [
       "<Figure size 432x288 with 1 Axes>"
      ]
     },
     "metadata": {
      "needs_background": "light"
     },
     "output_type": "display_data"
    }
   ],
   "source": [
    "# Highly skewed distribution\n",
    "sns.distplot(df.duration)"
   ]
  },
  {
   "cell_type": "code",
   "execution_count": 8,
   "id": "d5ebb989",
   "metadata": {},
   "outputs": [
    {
     "name": "stdout",
     "output_type": "stream",
     "text": [
      "44286\n"
     ]
    }
   ],
   "source": [
    "# Keeping rides between 1 and 60 minutes\n",
    "\n",
    "df_filtered = df[(df.duration >= 1) & (df.duration <= 60)]\n",
    "\n",
    "# Number of records dropped\n",
    "\n",
    "print(df.shape[0] - df_filtered.shape[0])"
   ]
  },
  {
   "cell_type": "code",
   "execution_count": 9,
   "id": "d6971e22",
   "metadata": {},
   "outputs": [
    {
     "name": "stdout",
     "output_type": "stream",
     "text": [
      "Missing Values for each column \n",
      "\n",
      " dispatching_base_num            0\n",
      "pickup_datetime                 0\n",
      "dropOff_datetime                0\n",
      "PUlocationID               927008\n",
      "DOlocationID               147907\n",
      "SR_Flag                   1109826\n",
      "Affiliated_base_number        773\n",
      "duration                        0\n",
      "dtype: int64\n"
     ]
    },
    {
     "name": "stderr",
     "output_type": "stream",
     "text": [
      "/tmp/ipykernel_11663/2939371770.py:4: SettingWithCopyWarning: \n",
      "A value is trying to be set on a copy of a slice from a DataFrame.\n",
      "Try using .loc[row_indexer,col_indexer] = value instead\n",
      "\n",
      "See the caveats in the documentation: https://pandas.pydata.org/pandas-docs/stable/user_guide/indexing.html#returning-a-view-versus-a-copy\n",
      "  df_filtered[['PUlocationID', 'DOlocationID']] = df_filtered[['PUlocationID', 'DOlocationID']].fillna(-1)\n"
     ]
    },
    {
     "name": "stdout",
     "output_type": "stream",
     "text": [
      "Missing Values for each column after imputation \n",
      "\n",
      " dispatching_base_num            0\n",
      "pickup_datetime                 0\n",
      "dropOff_datetime                0\n",
      "PUlocationID                    0\n",
      "DOlocationID                    0\n",
      "SR_Flag                   1109826\n",
      "Affiliated_base_number        773\n",
      "duration                        0\n",
      "dtype: int64\n",
      "Missing percentage of Pu location 84%\n"
     ]
    }
   ],
   "source": [
    "# Q3\n",
    "print(\"Missing Values for each column \\n\\n\", df_filtered.isnull().sum())\n",
    "\n",
    "df_filtered[['PUlocationID', 'DOlocationID']] = df_filtered[['PUlocationID', 'DOlocationID']].fillna(-1)\n",
    "\n",
    "print(\"Missing Values for each column after imputation \\n\\n\", df_filtered.isnull().sum())\n",
    "\n",
    "missing_perc = (df_filtered.PUlocationID == -1).astype(int).sum()/df_filtered.shape[0]\n",
    "\n",
    "print(f\"Missing percentage of Pu location {missing_perc:.0%}\")\n"
   ]
  },
  {
   "cell_type": "code",
   "execution_count": 10,
   "id": "f9e6479e",
   "metadata": {},
   "outputs": [],
   "source": [
    "# defining a function to quickly read and prepare data\n",
    "def read_dataframe(filename):\n",
    "    if filename.endswith('.csv'):\n",
    "        df = pd.read_csv(filename)\n",
    "\n",
    "        df.lpep_dropoff_datetime = pd.to_datetime(df.pickup_datetime)\n",
    "        df.lpep_pickup_datetime = pd.to_datetime(df.dropOff_datetime)\n",
    "    elif filename.endswith('.parquet'):\n",
    "        df = pd.read_parquet(filename)\n",
    "\n",
    "    df['duration'] = df.dropOff_datetime - df.pickup_datetime\n",
    "    df.duration = df.duration.apply(lambda td: td.total_seconds() / 60)\n",
    "    df = df[(df.duration >= 1) & (df.duration <= 60)]\n",
    "    \n",
    "    categorical = ['PUlocationID', 'DOlocationID']\n",
    "    \n",
    "    df[categorical] = df[categorical].fillna(-1)\n",
    "    df[categorical] = df[categorical].astype(str)\n",
    "    \n",
    "    return df"
   ]
  },
  {
   "cell_type": "code",
   "execution_count": 11,
   "id": "8029eba0",
   "metadata": {},
   "outputs": [],
   "source": [
    "# Reading and preparing the dataset\n",
    "df_train = read_dataframe('../data/fhv_tripdata_2021-01.parquet')\n",
    "df_val = read_dataframe('../data/fhv_tripdata_2021-02.parquet')"
   ]
  },
  {
   "cell_type": "code",
   "execution_count": 12,
   "id": "f6f2f0eb",
   "metadata": {},
   "outputs": [
    {
     "data": {
      "text/plain": [
       "(1109826, 990113)"
      ]
     },
     "execution_count": 12,
     "metadata": {},
     "output_type": "execute_result"
    }
   ],
   "source": [
    "# Checking the size of datasets\n",
    "len(df_train), len(df_val)"
   ]
  },
  {
   "cell_type": "code",
   "execution_count": 13,
   "id": "c5cbfc25",
   "metadata": {},
   "outputs": [],
   "source": [
    "# defing feature types\n",
    "categorical = ['PUlocationID', 'DOlocationID'] #'PULocationID', 'DOLocationID']\n",
    "\n",
    "# applying one hot encoding\n",
    "dv = DictVectorizer()\n",
    "\n",
    "train_dicts = df_train[categorical].to_dict(orient='records')\n",
    "X_train = dv.fit_transform(train_dicts)\n",
    "\n",
    "val_dicts = df_val[categorical].to_dict(orient='records')\n",
    "X_val = dv.transform(val_dicts)"
   ]
  },
  {
   "cell_type": "code",
   "execution_count": 14,
   "id": "e31359bb",
   "metadata": {},
   "outputs": [
    {
     "data": {
      "text/plain": [
       "525"
      ]
     },
     "execution_count": 14,
     "metadata": {},
     "output_type": "execute_result"
    }
   ],
   "source": [
    "#Q4 Get the number of columns\n",
    "X_train.shape[1]"
   ]
  },
  {
   "cell_type": "code",
   "execution_count": 15,
   "id": "1e9fb68b",
   "metadata": {},
   "outputs": [],
   "source": [
    "# defining the target\n",
    "target = 'duration'\n",
    "y_train = df_train[target].values\n",
    "y_val = df_val[target].values"
   ]
  },
  {
   "cell_type": "code",
   "execution_count": 16,
   "id": "429e2394",
   "metadata": {},
   "outputs": [
    {
     "name": "stdout",
     "output_type": "stream",
     "text": [
      "10.5285191072072\n"
     ]
    }
   ],
   "source": [
    "#Q5 training the regression model and getting RMSE on training data\n",
    "lr = LinearRegression()\n",
    "lr.fit(X_train, y_train)\n",
    "\n",
    "y_pred = lr.predict(X_train)\n",
    "\n",
    "print(mean_squared_error(y_train, y_pred, squared=False))"
   ]
  },
  {
   "cell_type": "code",
   "execution_count": 17,
   "id": "f88e9e3e",
   "metadata": {},
   "outputs": [
    {
     "name": "stdout",
     "output_type": "stream",
     "text": [
      "11.014283163400654\n"
     ]
    }
   ],
   "source": [
    "#Q6 Evaluating the model on validation set\n",
    "y_pred = lr.predict(X_val)\n",
    "\n",
    "print(mean_squared_error(y_val, y_pred, squared=False))"
   ]
  }
 ],
 "metadata": {
  "kernelspec": {
   "display_name": "Python 3 (ipykernel)",
   "language": "python",
   "name": "python3"
  },
  "language_info": {
   "codemirror_mode": {
    "name": "ipython",
    "version": 3
   },
   "file_extension": ".py",
   "mimetype": "text/x-python",
   "name": "python",
   "nbconvert_exporter": "python",
   "pygments_lexer": "ipython3",
   "version": "3.9.12"
  }
 },
 "nbformat": 4,
 "nbformat_minor": 5
}
