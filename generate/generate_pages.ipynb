{
 "cells": [
  {
   "cell_type": "code",
   "execution_count": 1,
   "id": "502b2572",
   "metadata": {},
   "outputs": [],
   "source": [
    "import io\n",
    "import json\n",
    "\n",
    "from pathlib import Path\n",
    "from urllib.parse import urlparse, parse_qs\n",
    "\n",
    "import pandas as pd\n",
    "import numpy as np\n",
    "\n",
    "import requests\n",
    "import clipboard\n",
    "\n",
    "from PIL import Image\n",
    "from jinja2 import Template"
   ]
  },
  {
   "cell_type": "code",
   "execution_count": 11,
   "id": "e434e20b",
   "metadata": {},
   "outputs": [],
   "source": [
    "module_number = 2\n",
    "module_title = 'Experiment tracking and model management'\n",
    "module_folder = Path('..') / '02-experiment-tracking'\n",
    "\n",
    "meta_json_file = module_folder / 'meta.json'\n",
    "playlist_id = 'PL3MmuxUbc_hIUISrluw_A7wDSmfOhErJK'"
   ]
  },
  {
   "cell_type": "markdown",
   "id": "a91381d0",
   "metadata": {},
   "source": [
    "## Prepare `meta.json` info"
   ]
  },
  {
   "cell_type": "code",
   "execution_count": 12,
   "id": "15d0782b",
   "metadata": {},
   "outputs": [],
   "source": [
    "text = \"\"\"\n",
    "module_number\tmodule_title\tunit_number\tunit_title\tfull_title\tyoutube\n",
    "2\tExperiment tracking\t1\tExperiment tracking intro\tMLOps Zoomcamp 2.1 - Experiment tracking intro\thttps://www.youtube.com/watch?v=MiA7LQin9c8\n",
    "2\tExperiment tracking\t2\tGetting started with MLflow\tMLOps Zoomcamp 2.2 - Getting started with MLflow\thttps://www.youtube.com/watch?v=cESCQE9J3ZE\n",
    "2\tExperiment tracking\t3\tExperiment tracking with MLflow\tMLOps Zoomcamp 2.3 - Experiment tracking with MLflow\thttps://www.youtube.com/watch?v=iaJz-T7VWec\n",
    "2\tExperiment tracking\t4\tModel management\tMLOps Zoomcamp 2.4 - Model management\thttps://www.youtube.com/watch?v=OVUPIX88q88\n",
    "2\tExperiment tracking\t5\tModel registry\tMLOps Zoomcamp 2.5 - Model registry\thttps://www.youtube.com/watch?v=TKHU7HAvGH8\n",
    "2\tExperiment tracking\t6\tMLflow in practice\tMLOps Zoomcamp 2.6 - MLflow in practice\tNA\n",
    "2\tExperiment tracking\t7\tHomework\tMLOps Zoomcamp 2.7 - Homework\tNA\n",
    "\"\"\".strip()"
   ]
  },
  {
   "cell_type": "code",
   "execution_count": 13,
   "id": "43db9fdf",
   "metadata": {},
   "outputs": [],
   "source": [
    "df = pd.read_csv(io.StringIO(text), delimiter='\\t')"
   ]
  },
  {
   "cell_type": "code",
   "execution_count": 14,
   "id": "38ffbb71",
   "metadata": {},
   "outputs": [],
   "source": [
    "df['youtube'] = df['youtube'].fillna('')"
   ]
  },
  {
   "cell_type": "code",
   "execution_count": 15,
   "id": "aa4e2fb9",
   "metadata": {},
   "outputs": [
    {
     "data": {
      "text/plain": [
       "[{'number': 1,\n",
       "  'title': 'Experiment tracking intro',\n",
       "  'youtube': 'https://www.youtube.com/watch?v=MiA7LQin9c8'},\n",
       " {'number': 2,\n",
       "  'title': 'Getting started with MLflow',\n",
       "  'youtube': 'https://www.youtube.com/watch?v=cESCQE9J3ZE'},\n",
       " {'number': 3,\n",
       "  'title': 'Experiment tracking with MLflow',\n",
       "  'youtube': 'https://www.youtube.com/watch?v=iaJz-T7VWec'},\n",
       " {'number': 4,\n",
       "  'title': 'Model management',\n",
       "  'youtube': 'https://www.youtube.com/watch?v=OVUPIX88q88'},\n",
       " {'number': 5,\n",
       "  'title': 'Model registry',\n",
       "  'youtube': 'https://www.youtube.com/watch?v=TKHU7HAvGH8'},\n",
       " {'number': 6, 'title': 'MLflow in practice', 'youtube': ''},\n",
       " {'number': 7, 'title': 'Homework', 'youtube': ''}]"
      ]
     },
     "execution_count": 15,
     "metadata": {},
     "output_type": "execute_result"
    }
   ],
   "source": [
    "df_units = df[['unit_number', 'unit_title', 'youtube']]\n",
    "units = df_units \\\n",
    "    .rename(columns={'unit_number': 'number', 'unit_title': 'title'}) \\\n",
    "    .to_dict(orient='records')\n",
    "units"
   ]
  },
  {
   "cell_type": "code",
   "execution_count": 16,
   "id": "295d55b6",
   "metadata": {},
   "outputs": [],
   "source": [
    "meta = {\n",
    "    'module': {\n",
    "        'number': module_number,\n",
    "        'title': module_title\n",
    "    },\n",
    "    'units': units\n",
    "}"
   ]
  },
  {
   "cell_type": "code",
   "execution_count": 17,
   "id": "cf6ed0e9",
   "metadata": {},
   "outputs": [
    {
     "data": {
      "text/plain": [
       "{'module': {'number': 2, 'title': 'Experiment tracking and model management'},\n",
       " 'units': [{'number': 1,\n",
       "   'title': 'Experiment tracking intro',\n",
       "   'youtube': 'https://www.youtube.com/watch?v=MiA7LQin9c8'},\n",
       "  {'number': 2,\n",
       "   'title': 'Getting started with MLflow',\n",
       "   'youtube': 'https://www.youtube.com/watch?v=cESCQE9J3ZE'},\n",
       "  {'number': 3,\n",
       "   'title': 'Experiment tracking with MLflow',\n",
       "   'youtube': 'https://www.youtube.com/watch?v=iaJz-T7VWec'},\n",
       "  {'number': 4,\n",
       "   'title': 'Model management',\n",
       "   'youtube': 'https://www.youtube.com/watch?v=OVUPIX88q88'},\n",
       "  {'number': 5,\n",
       "   'title': 'Model registry',\n",
       "   'youtube': 'https://www.youtube.com/watch?v=TKHU7HAvGH8'},\n",
       "  {'number': 6, 'title': 'MLflow in practice', 'youtube': ''},\n",
       "  {'number': 7, 'title': 'Homework', 'youtube': ''}]}"
      ]
     },
     "execution_count": 17,
     "metadata": {},
     "output_type": "execute_result"
    }
   ],
   "source": [
    "meta"
   ]
  },
  {
   "cell_type": "code",
   "execution_count": 18,
   "id": "e0197e13",
   "metadata": {},
   "outputs": [],
   "source": [
    "module_folder.mkdir(parents=True, exist_ok=True)\n",
    "\n",
    "with open(meta_json_file, 'wt') as f_out:\n",
    "    json.dump(meta, f_out, indent=2)"
   ]
  },
  {
   "cell_type": "code",
   "execution_count": 19,
   "id": "a06089d0",
   "metadata": {},
   "outputs": [
    {
     "name": "stdout",
     "output_type": "stream",
     "text": [
      "{\n",
      "  \"module\": {\n",
      "    \"number\": 2,\n",
      "    \"title\": \"Experiment tracking and model management\"\n",
      "  },\n",
      "  \"units\": [\n",
      "    {\n",
      "      \"number\": 1,\n",
      "      \"title\": \"Experiment tracking intro\",\n",
      "      \"youtube\": \"https://www.youtube.com/watch?v=MiA7LQin9c8\"\n"
     ]
    }
   ],
   "source": [
    "!head {meta_json_file}"
   ]
  },
  {
   "cell_type": "markdown",
   "id": "5db87368",
   "metadata": {},
   "source": [
    "## Generate page"
   ]
  },
  {
   "cell_type": "code",
   "execution_count": 20,
   "id": "166dadc7",
   "metadata": {},
   "outputs": [],
   "source": [
    "with meta_json_file.open('rt') as f_in:\n",
    "    meta = json.load(f_in)"
   ]
  },
  {
   "cell_type": "code",
   "execution_count": 21,
   "id": "50fc8f7c",
   "metadata": {},
   "outputs": [],
   "source": [
    "module_info = meta['module']\n",
    "units = meta['units']"
   ]
  },
  {
   "cell_type": "code",
   "execution_count": 22,
   "id": "32877ffd",
   "metadata": {},
   "outputs": [
    {
     "data": {
      "text/plain": [
       "{'number': 2, 'title': 'Experiment tracking and model management'}"
      ]
     },
     "execution_count": 22,
     "metadata": {},
     "output_type": "execute_result"
    }
   ],
   "source": [
    "module_info"
   ]
  },
  {
   "cell_type": "code",
   "execution_count": 23,
   "id": "a6340d93",
   "metadata": {},
   "outputs": [],
   "source": [
    "images_folder = module_folder / 'images'\n",
    "images_folder.mkdir(parents=True, exist_ok=True)"
   ]
  },
  {
   "cell_type": "code",
   "execution_count": 24,
   "id": "d92031f3",
   "metadata": {},
   "outputs": [],
   "source": [
    "template_string = \"\"\"\n",
    "## {{ module_number }}.{{ unit_number }} {{ unit_title }}\n",
    "\n",
    "{% if youtube %}<a href=\"{{ youtube }}\">\n",
    "  <img src=\"{{ thumbnail }}\">\n",
    "</a>{% endif %}{% if not youtube %}COMING SOON{% endif %}\n",
    "\n",
    "\n",
    "\"\"\".lstrip()\n",
    "\n",
    "template = Template(template_string)"
   ]
  },
  {
   "cell_type": "code",
   "execution_count": 25,
   "id": "a87656f0",
   "metadata": {},
   "outputs": [],
   "source": [
    "def download_thumbnail(video, module, unit, folder):\n",
    "    if type(unit) in [int, np.int64]:\n",
    "        thumbnail_file = f'thumbnail-{module}-{unit:02d}.jpg'\n",
    "    else:\n",
    "        thumbnail_file = f'thumbnail-{module}-{unit}.jpg'\n",
    "\n",
    "    thumbnail_file = folder / thumbnail_file\n",
    "\n",
    "    if thumbnail_file.exists():\n",
    "        print(f'{thumbnail_file} exists')\n",
    "        return thumbnail_file\n",
    "\n",
    "    video_id = parse_qs(urlparse(video).query)['v'][0]\n",
    "    print(f'processing video {video_id}...')\n",
    "    thumbnail_url = f'https://img.youtube.com/vi/{video_id}/0.jpg'\n",
    "\n",
    "    response = requests.get(thumbnail_url)\n",
    "    thumbnail = Image.open(io.BytesIO(response.content))\n",
    "    w_img, h_img = thumbnail.size\n",
    "\n",
    "    play = Image.open(Path('../images/play.png'))\n",
    "    w_play, h_play = play.size\n",
    "    \n",
    "    x0 = w_img // 2 - w_play // 2\n",
    "    y0 = h_img // 2 - h_play // 2\n",
    "\n",
    "    thumbnail.paste(play, (x0, y0), play)\n",
    "    thumbnail.save(thumbnail_file, quality=90)\n",
    "\n",
    "    print('saved to', thumbnail_file)\n",
    "\n",
    "    return thumbnail_file"
   ]
  },
  {
   "cell_type": "code",
   "execution_count": null,
   "id": "8910fbf3",
   "metadata": {},
   "outputs": [],
   "source": []
  },
  {
   "cell_type": "code",
   "execution_count": 26,
   "id": "b592beb6",
   "metadata": {},
   "outputs": [
    {
     "name": "stdout",
     "output_type": "stream",
     "text": [
      "processing video MiA7LQin9c8...\n",
      "saved to ..\\02-experiment-tracking\\images\\thumbnail-2-01.jpg\n",
      "## 2.1 Experiment tracking intro\n",
      "\n",
      "<a href=\"https://www.youtube.com/watch?v=MiA7LQin9c8&list=PL3MmuxUbc_hIUISrluw_A7wDSmfOhErJK\">\n",
      "  <img src=\"images/thumbnail-2-01.jpg\">\n",
      "</a>\n",
      "\n",
      "\n",
      "processing video cESCQE9J3ZE...\n",
      "saved to ..\\02-experiment-tracking\\images\\thumbnail-2-02.jpg\n",
      "## 2.2 Getting started with MLflow\n",
      "\n",
      "<a href=\"https://www.youtube.com/watch?v=cESCQE9J3ZE&list=PL3MmuxUbc_hIUISrluw_A7wDSmfOhErJK\">\n",
      "  <img src=\"images/thumbnail-2-02.jpg\">\n",
      "</a>\n",
      "\n",
      "\n",
      "processing video iaJz-T7VWec...\n",
      "saved to ..\\02-experiment-tracking\\images\\thumbnail-2-03.jpg\n",
      "## 2.3 Experiment tracking with MLflow\n",
      "\n",
      "<a href=\"https://www.youtube.com/watch?v=iaJz-T7VWec&list=PL3MmuxUbc_hIUISrluw_A7wDSmfOhErJK\">\n",
      "  <img src=\"images/thumbnail-2-03.jpg\">\n",
      "</a>\n",
      "\n",
      "\n",
      "processing video OVUPIX88q88...\n",
      "saved to ..\\02-experiment-tracking\\images\\thumbnail-2-04.jpg\n",
      "## 2.4 Model management\n",
      "\n",
      "<a href=\"https://www.youtube.com/watch?v=OVUPIX88q88&list=PL3MmuxUbc_hIUISrluw_A7wDSmfOhErJK\">\n",
      "  <img src=\"images/thumbnail-2-04.jpg\">\n",
      "</a>\n",
      "\n",
      "\n",
      "processing video TKHU7HAvGH8...\n",
      "saved to ..\\02-experiment-tracking\\images\\thumbnail-2-05.jpg\n",
      "## 2.5 Model registry\n",
      "\n",
      "<a href=\"https://www.youtube.com/watch?v=TKHU7HAvGH8&list=PL3MmuxUbc_hIUISrluw_A7wDSmfOhErJK\">\n",
      "  <img src=\"images/thumbnail-2-05.jpg\">\n",
      "</a>\n",
      "\n",
      "\n",
      "## 2.6 MLflow in practice\n",
      "\n",
      "COMING SOON\n",
      "\n",
      "\n",
      "## 2.7 Homework\n",
      "\n",
      "COMING SOON\n",
      "\n",
      "\n"
     ]
    }
   ],
   "source": [
    "module_number = module_info['number']\n",
    "\n",
    "parts = []\n",
    "\n",
    "for unit in units:\n",
    "    unit_number = unit['number']\n",
    "\n",
    "    params = {\n",
    "        'module_number': module_info['number'],\n",
    "        'module_name': module_info['title'],\n",
    "        'unit_number': unit['number'],\n",
    "        'unit_title': unit['title']          \n",
    "    }\n",
    "\n",
    "    if 'youtube' in unit:\n",
    "        youtube = unit['youtube']\n",
    "        if len(youtube) and youtube.startswith('https'):\n",
    "            thumbnail = download_thumbnail(youtube, module_number, unit_number, images_folder)\n",
    "            thumbnail_path = '/'.join(thumbnail.parts[2:])\n",
    "            params['youtube'] = f'{youtube}&list={playlist_id}'\n",
    "            params['thumbnail'] = thumbnail_path\n",
    "        \n",
    "    template_string = template.render(params)\n",
    "    print(template_string)\n",
    "    parts.append(template_string)"
   ]
  },
  {
   "cell_type": "code",
   "execution_count": 29,
   "id": "6d6e3584",
   "metadata": {},
   "outputs": [],
   "source": [
    "prefix = f\"\"\"\n",
    "# {module_info['number']}. {module_info['title']} \n",
    "\"\"\".strip()\n",
    "\n",
    "\n",
    "final_result = '\\n\\n'.join([prefix] + parts)"
   ]
  },
  {
   "cell_type": "code",
   "execution_count": 30,
   "id": "4d900666",
   "metadata": {},
   "outputs": [],
   "source": [
    "clipboard.copy(final_result)"
   ]
  },
  {
   "cell_type": "code",
   "execution_count": null,
   "id": "6ff9d662",
   "metadata": {},
   "outputs": [],
   "source": []
  }
 ],
 "metadata": {
  "kernelspec": {
   "display_name": "Python 3 (ipykernel)",
   "language": "python",
   "name": "python3"
  },
  "language_info": {
   "codemirror_mode": {
    "name": "ipython",
    "version": 3
   },
   "file_extension": ".py",
   "mimetype": "text/x-python",
   "name": "python",
   "nbconvert_exporter": "python",
   "pygments_lexer": "ipython3",
   "version": "3.9.7"
  }
 },
 "nbformat": 4,
 "nbformat_minor": 5
}
