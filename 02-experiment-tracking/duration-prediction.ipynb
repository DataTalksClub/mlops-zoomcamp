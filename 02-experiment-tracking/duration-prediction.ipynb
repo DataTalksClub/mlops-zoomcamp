{
 "cells": [
  {
   "cell_type": "code",
   "execution_count": 1,
   "id": "b2bd82d7",
   "metadata": {},
   "outputs": [
    {
     "name": "stdout",
     "output_type": "stream",
     "text": [
      "Python 3.8.10\r\n"
     ]
    }
   ],
   "source": [
    "!python -V"
   ]
  },
  {
   "cell_type": "code",
   "execution_count": 2,
   "id": "41062d8a",
   "metadata": {},
   "outputs": [],
   "source": [
    "import pandas as pd"
   ]
  },
  {
   "cell_type": "code",
   "execution_count": 3,
   "id": "c984c564",
   "metadata": {},
   "outputs": [],
   "source": [
    "import pickle"
   ]
  },
  {
   "cell_type": "code",
   "execution_count": 4,
   "id": "4add538c",
   "metadata": {},
   "outputs": [],
   "source": [
    "import seaborn as sns\n",
    "import matplotlib.pyplot as plt"
   ]
  },
  {
   "cell_type": "code",
   "execution_count": 5,
   "id": "8b135c2b",
   "metadata": {},
   "outputs": [],
   "source": [
    "from sklearn.feature_extraction import DictVectorizer\n",
    "from sklearn.linear_model import LinearRegression\n",
    "from sklearn.linear_model import Lasso\n",
    "from sklearn.linear_model import Ridge\n",
    "\n",
    "from sklearn.metrics import mean_squared_error"
   ]
  },
  {
   "cell_type": "code",
   "execution_count": 6,
   "id": "1464985f",
   "metadata": {},
   "outputs": [
    {
     "name": "stderr",
     "output_type": "stream",
     "text": [
      "2022/11/07 11:37:05 INFO mlflow.store.db.utils: Creating initial MLflow database tables...\n",
      "2022/11/07 11:37:05 INFO mlflow.store.db.utils: Updating database tables\n",
      "INFO  [alembic.runtime.migration] Context impl SQLiteImpl.\n",
      "INFO  [alembic.runtime.migration] Will assume non-transactional DDL.\n",
      "INFO  [alembic.runtime.migration] Running upgrade  -> 451aebb31d03, add metric step\n",
      "INFO  [alembic.runtime.migration] Running upgrade 451aebb31d03 -> 90e64c465722, migrate user column to tags\n",
      "INFO  [alembic.runtime.migration] Running upgrade 90e64c465722 -> 181f10493468, allow nulls for metric values\n",
      "INFO  [alembic.runtime.migration] Running upgrade 181f10493468 -> df50e92ffc5e, Add Experiment Tags Table\n",
      "INFO  [alembic.runtime.migration] Running upgrade df50e92ffc5e -> 7ac759974ad8, Update run tags with larger limit\n",
      "INFO  [alembic.runtime.migration] Running upgrade 7ac759974ad8 -> 89d4b8295536, create latest metrics table\n",
      "INFO  [89d4b8295536_create_latest_metrics_table_py] Migration complete!\n",
      "INFO  [alembic.runtime.migration] Running upgrade 89d4b8295536 -> 2b4d017a5e9b, add model registry tables to db\n",
      "INFO  [2b4d017a5e9b_add_model_registry_tables_to_db_py] Adding registered_models and model_versions tables to database.\n",
      "INFO  [2b4d017a5e9b_add_model_registry_tables_to_db_py] Migration complete!\n",
      "INFO  [alembic.runtime.migration] Running upgrade 2b4d017a5e9b -> cfd24bdc0731, Update run status constraint with killed\n",
      "INFO  [alembic.runtime.migration] Running upgrade cfd24bdc0731 -> 0a8213491aaa, drop_duplicate_killed_constraint\n",
      "INFO  [alembic.runtime.migration] Running upgrade 0a8213491aaa -> 728d730b5ebd, add registered model tags table\n",
      "INFO  [alembic.runtime.migration] Running upgrade 728d730b5ebd -> 27a6a02d2cf1, add model version tags table\n",
      "INFO  [alembic.runtime.migration] Running upgrade 27a6a02d2cf1 -> 84291f40a231, add run_link to model_version\n",
      "INFO  [alembic.runtime.migration] Running upgrade 84291f40a231 -> a8c4a736bde6, allow nulls for run_id\n",
      "INFO  [alembic.runtime.migration] Running upgrade a8c4a736bde6 -> 39d1c3be5f05, add_is_nan_constraint_for_metrics_tables_if_necessary\n",
      "INFO  [alembic.runtime.migration] Running upgrade 39d1c3be5f05 -> c48cb773bb87, reset_default_value_for_is_nan_in_metrics_table_for_mysql\n",
      "INFO  [alembic.runtime.migration] Running upgrade c48cb773bb87 -> bd07f7e963c5, create index on run_uuid\n",
      "INFO  [alembic.runtime.migration] Running upgrade bd07f7e963c5 -> 0c779009ac13, add deleted_time field to runs table\n",
      "INFO  [alembic.runtime.migration] Running upgrade 0c779009ac13 -> cc1f77228345, change param value length to 500\n",
      "INFO  [alembic.runtime.migration] Running upgrade cc1f77228345 -> 97727af70f4d, Add creation_time and last_update_time to experiments table\n",
      "INFO  [alembic.runtime.migration] Context impl SQLiteImpl.\n",
      "INFO  [alembic.runtime.migration] Will assume non-transactional DDL.\n",
      "2022/11/07 11:37:07 INFO mlflow.tracking.fluent: Experiment with name 'nyc-taxi-experiment' does not exist. Creating a new experiment.\n"
     ]
    },
    {
     "data": {
      "text/plain": [
       "<Experiment: artifact_location='./mlruns/1', creation_time=1667842627393, experiment_id='1', last_update_time=1667842627393, lifecycle_stage='active', name='nyc-taxi-experiment', tags={}>"
      ]
     },
     "execution_count": 6,
     "metadata": {},
     "output_type": "execute_result"
    }
   ],
   "source": [
    "import mlflow\n",
    "\n",
    "\n",
    "mlflow.set_tracking_uri(\"sqlite:///mlflow.db\")\n",
    "mlflow.set_experiment(\"nyc-taxi-experiment\")"
   ]
  },
  {
   "cell_type": "code",
   "execution_count": 9,
   "id": "f9e6479e",
   "metadata": {},
   "outputs": [],
   "source": [
    "def read_dataframe(filename):\n",
    "    df = pd.read_parquet(filename)\n",
    "\n",
    "    df.lpep_dropoff_datetime = pd.to_datetime(df.lpep_dropoff_datetime)\n",
    "    df.lpep_pickup_datetime = pd.to_datetime(df.lpep_pickup_datetime)\n",
    "\n",
    "    df['duration'] = df.lpep_dropoff_datetime - df.lpep_pickup_datetime\n",
    "    df.duration = df.duration.apply(lambda td: td.total_seconds() / 60)\n",
    "\n",
    "    df = df[(df.duration >= 1) & (df.duration <= 60)]\n",
    "\n",
    "    categorical = ['PULocationID', 'DOLocationID']\n",
    "    df[categorical] = df[categorical].astype(str)\n",
    "    \n",
    "    return df"
   ]
  },
  {
   "cell_type": "code",
   "execution_count": 10,
   "id": "8029eba0",
   "metadata": {},
   "outputs": [],
   "source": [
    "df_train = read_dataframe('./data/green_tripdata_2021-01.parquet')\n",
    "df_val = read_dataframe('./data/green_tripdata_2021-02.parquet')"
   ]
  },
  {
   "cell_type": "code",
   "execution_count": 11,
   "id": "f6f2f0eb",
   "metadata": {},
   "outputs": [
    {
     "data": {
      "text/plain": [
       "(73908, 61921)"
      ]
     },
     "execution_count": 11,
     "metadata": {},
     "output_type": "execute_result"
    }
   ],
   "source": [
    "len(df_train), len(df_val)"
   ]
  },
  {
   "cell_type": "code",
   "execution_count": 12,
   "id": "951d51ef",
   "metadata": {},
   "outputs": [],
   "source": [
    "df_train['PU_DO'] = df_train['PULocationID'] + '_' + df_train['DOLocationID']\n",
    "df_val['PU_DO'] = df_val['PULocationID'] + '_' + df_val['DOLocationID']"
   ]
  },
  {
   "cell_type": "code",
   "execution_count": 13,
   "id": "c5cbfc25",
   "metadata": {},
   "outputs": [],
   "source": [
    "categorical = ['PU_DO'] #'PULocationID', 'DOLocationID']\n",
    "numerical = ['trip_distance']\n",
    "\n",
    "dv = DictVectorizer()\n",
    "\n",
    "train_dicts = df_train[categorical + numerical].to_dict(orient='records')\n",
    "X_train = dv.fit_transform(train_dicts)\n",
    "\n",
    "val_dicts = df_val[categorical + numerical].to_dict(orient='records')\n",
    "X_val = dv.transform(val_dicts)"
   ]
  },
  {
   "cell_type": "code",
   "execution_count": 14,
   "id": "1e9fb68b",
   "metadata": {},
   "outputs": [],
   "source": [
    "target = 'duration'\n",
    "y_train = df_train[target].values\n",
    "y_val = df_val[target].values"
   ]
  },
  {
   "cell_type": "code",
   "execution_count": 15,
   "id": "429e2394",
   "metadata": {},
   "outputs": [
    {
     "data": {
      "text/plain": [
       "7.75871520559622"
      ]
     },
     "execution_count": 15,
     "metadata": {},
     "output_type": "execute_result"
    }
   ],
   "source": [
    "lr = LinearRegression()\n",
    "lr.fit(X_train, y_train)\n",
    "\n",
    "y_pred = lr.predict(X_val)\n",
    "\n",
    "mean_squared_error(y_val, y_pred, squared=False)"
   ]
  },
  {
   "cell_type": "code",
   "execution_count": 17,
   "id": "22bf6f8b",
   "metadata": {},
   "outputs": [],
   "source": [
    "with open('models/lin_reg.bin', 'wb') as f_out:\n",
    "    pickle.dump((dv, lr), f_out)"
   ]
  },
  {
   "cell_type": "code",
   "execution_count": 20,
   "id": "a4999b94",
   "metadata": {},
   "outputs": [],
   "source": [
    "with mlflow.start_run():\n",
    "\n",
    "    mlflow.set_tag(\"mlops_tutorial\", \"mauricio\")\n",
    "\n",
    "    mlflow.log_param(\"train-data-path\", \"./data/green_tripdata_2021-01.parquet\")\n",
    "    mlflow.log_param(\"valid-data-path\", \"./data/green_tripdata_2021-02.parquet\")\n",
    "\n",
    "    alpha = 0.1\n",
    "    mlflow.log_param(\"alpha\", alpha)\n",
    "    lr = Lasso(alpha)\n",
    "    lr.fit(X_train, y_train)\n",
    "\n",
    "    y_pred = lr.predict(X_val)\n",
    "    rmse = mean_squared_error(y_val, y_pred, squared=False)\n",
    "    mlflow.log_metric(\"rmse\", rmse)\n",
    "\n",
    "    mlflow.log_artifact(local_path=\"models/lin_reg.bin\", artifact_path=\"models_pickle\")"
   ]
  },
  {
   "cell_type": "code",
   "execution_count": null,
   "id": "47b0eb9b",
   "metadata": {},
   "outputs": [],
   "source": []
  },
  {
   "cell_type": "code",
   "execution_count": 21,
   "id": "5f56e97b",
   "metadata": {},
   "outputs": [],
   "source": [
    "import xgboost as xgb"
   ]
  },
  {
   "cell_type": "code",
   "execution_count": 22,
   "id": "907dc6a2",
   "metadata": {},
   "outputs": [],
   "source": [
    "from hyperopt import fmin, tpe, hp, STATUS_OK, Trials\n",
    "from hyperopt.pyll import scope"
   ]
  },
  {
   "cell_type": "code",
   "execution_count": 23,
   "id": "091ab328",
   "metadata": {},
   "outputs": [],
   "source": [
    "train = xgb.DMatrix(X_train, label=y_train)\n",
    "valid = xgb.DMatrix(X_val, label=y_val)"
   ]
  },
  {
   "cell_type": "code",
   "execution_count": 26,
   "id": "c2d84b26",
   "metadata": {},
   "outputs": [],
   "source": [
    "def objective(params):\n",
    "    with mlflow.start_run():\n",
    "        mlflow.set_tag(\"model\", \"xgboost\")\n",
    "        mlflow.log_params(params)\n",
    "        booster = xgb.train(\n",
    "            params=params,\n",
    "            dtrain=train,\n",
    "            num_boost_round=10,\n",
    "            evals=[(valid, 'validation')],\n",
    "            early_stopping_rounds=10\n",
    "        )\n",
    "        y_pred = booster.predict(valid)\n",
    "        rmse = mean_squared_error(y_val, y_pred, squared=False)\n",
    "        mlflow.log_metric(\"rmse\", rmse)\n",
    "\n",
    "    return {'loss': rmse, 'status': STATUS_OK}"
   ]
  },
  {
   "cell_type": "code",
   "execution_count": 27,
   "id": "6b1f77f5",
   "metadata": {},
   "outputs": [
    {
     "name": "stdout",
     "output_type": "stream",
     "text": [
      "[11:49:01] WARNING: ../src/objective/regression_obj.cu:213: reg:linear is now deprecated in favor of reg:squarederror.                                          \n",
      "[0]\tvalidation-rmse:16.63567                                                                                                                                    \n",
      "[1]\tvalidation-rmse:13.42411                                                                                                                                    \n",
      "[2]\tvalidation-rmse:11.18171                                                                                                                                    \n",
      "[3]\tvalidation-rmse:9.62180                                                                                                                                     \n",
      "[4]\tvalidation-rmse:8.59964                                                                                                                                     \n",
      "[5]\tvalidation-rmse:7.91934                                                                                                                                     \n",
      "[6]\tvalidation-rmse:7.46374                                                                                                                                     \n",
      "[7]\tvalidation-rmse:7.17732                                                                                                                                     \n",
      "[8]\tvalidation-rmse:6.98349                                                                                                                                     \n",
      "[9]\tvalidation-rmse:6.85033                                                                                                                                     \n",
      "[11:49:06] WARNING: ../src/objective/regression_obj.cu:213: reg:linear is now deprecated in favor of reg:squarederror.                                          \n",
      "[0]\tvalidation-rmse:14.22580                                                                                                                                    \n",
      "[1]\tvalidation-rmse:10.40491                                                                                                                                    \n",
      "[2]\tvalidation-rmse:8.43983                                                                                                                                     \n",
      "[3]\tvalidation-rmse:7.48647                                                                                                                                     \n",
      "[4]\tvalidation-rmse:7.02532                                                                                                                                     \n",
      "[5]\tvalidation-rmse:6.79520                                                                                                                                     \n",
      "[6]\tvalidation-rmse:6.67300                                                                                                                                     \n",
      "[7]\tvalidation-rmse:6.60404                                                                                                                                     \n",
      "[8]\tvalidation-rmse:6.56495                                                                                                                                     \n",
      "[9]\tvalidation-rmse:6.53930                                                                                                                                     \n",
      "[11:49:10] WARNING: ../src/objective/regression_obj.cu:213: reg:linear is now deprecated in favor of reg:squarederror.                                          \n",
      "[0]\tvalidation-rmse:19.35760                                                                                                                                    \n",
      "[1]\tvalidation-rmse:17.73142                                                                                                                                    \n",
      "[2]\tvalidation-rmse:16.29289                                                                                                                                    \n",
      "[3]\tvalidation-rmse:15.02471                                                                                                                                    \n",
      "[4]\tvalidation-rmse:13.90885                                                                                                                                    \n",
      "[5]\tvalidation-rmse:12.93054                                                                                                                                    \n",
      "[6]\tvalidation-rmse:12.07495                                                                                                                                    \n",
      "[7]\tvalidation-rmse:11.32899                                                                                                                                    \n",
      "[8]\tvalidation-rmse:10.68117                                                                                                                                    \n",
      "[9]\tvalidation-rmse:10.12076                                                                                                                                    \n",
      "[11:49:11] WARNING: ../src/objective/regression_obj.cu:213: reg:linear is now deprecated in favor of reg:squarederror.                                          \n",
      "[0]\tvalidation-rmse:9.27835                                                                                                                                     \n",
      "[1]\tvalidation-rmse:7.13406                                                                                                                                     \n",
      "[2]\tvalidation-rmse:6.76472                                                                                                                                     \n",
      "[3]\tvalidation-rmse:6.68678                                                                                                                                     \n",
      "[4]\tvalidation-rmse:6.66728                                                                                                                                     \n",
      "[5]\tvalidation-rmse:6.65312                                                                                                                                     \n",
      "[6]\tvalidation-rmse:6.64770                                                                                                                                     \n",
      "[7]\tvalidation-rmse:6.64348                                                                                                                                     \n",
      "[8]\tvalidation-rmse:6.63849                                                                                                                                     \n",
      "[9]\tvalidation-rmse:6.63401                                                                                                                                     \n",
      "[11:49:12] WARNING: ../src/objective/regression_obj.cu:213: reg:linear is now deprecated in favor of reg:squarederror.                                          \n",
      "[0]\tvalidation-rmse:12.95870                                                                                                                                    \n",
      "[1]\tvalidation-rmse:9.18547                                                                                                                                     \n",
      "[2]\tvalidation-rmse:7.62021                                                                                                                                     \n",
      "[3]\tvalidation-rmse:6.99881                                                                                                                                     \n",
      "[4]\tvalidation-rmse:6.74457                                                                                                                                     \n"
     ]
    },
    {
     "name": "stdout",
     "output_type": "stream",
     "text": [
      "[5]\tvalidation-rmse:6.62580                                                                                                                                     \n",
      "[6]\tvalidation-rmse:6.56567                                                                                                                                     \n",
      "[7]\tvalidation-rmse:6.53704                                                                                                                                     \n",
      "[8]\tvalidation-rmse:6.51698                                                                                                                                     \n",
      "[9]\tvalidation-rmse:6.50371                                                                                                                                     \n",
      "100%|████████████████████████████████████████████████████████████████████████████████████████████| 5/5 [00:14<00:00,  2.80s/trial, best loss: 6.503709007551267]\n"
     ]
    }
   ],
   "source": [
    "search_space = {\n",
    "    'max_depth': scope.int(hp.quniform('max_depth', 4, 100, 1)),\n",
    "    'learning_rate': hp.loguniform('learning_rate', -3, 0),\n",
    "    'reg_alpha': hp.loguniform('reg_alpha', -5, -1),\n",
    "    'reg_lambda': hp.loguniform('reg_lambda', -6, -1),\n",
    "    'min_child_weight': hp.loguniform('min_child_weight', -1, 3),\n",
    "    'objective': 'reg:linear',\n",
    "    'seed': 42\n",
    "}\n",
    "\n",
    "best_result = fmin(\n",
    "    fn=objective,\n",
    "    space=search_space,\n",
    "    algo=tpe.suggest,\n",
    "    max_evals=5,\n",
    "    trials=Trials()\n",
    ")"
   ]
  },
  {
   "cell_type": "code",
   "execution_count": 30,
   "id": "6adb8911",
   "metadata": {},
   "outputs": [
    {
     "data": {
      "text/plain": [
       "{'learning_rate': 0.47394603189331386,\n",
       " 'max_depth': 87.0,\n",
       " 'min_child_weight': 2.6037920176021143,\n",
       " 'reg_alpha': 0.054539821024654,\n",
       " 'reg_lambda': 0.0879649045750599}"
      ]
     },
     "execution_count": 30,
     "metadata": {},
     "output_type": "execute_result"
    }
   ],
   "source": [
    "best_result"
   ]
  },
  {
   "cell_type": "code",
   "execution_count": 18,
   "id": "fc4d5283",
   "metadata": {},
   "outputs": [],
   "source": [
    "mlflow.xgboost.autolog(disable=True)"
   ]
  },
  {
   "cell_type": "code",
   "execution_count": 31,
   "id": "0e8cd729",
   "metadata": {},
   "outputs": [
    {
     "name": "stdout",
     "output_type": "stream",
     "text": [
      "[12:09:06] WARNING: ../src/objective/regression_obj.cu:213: reg:linear is now deprecated in favor of reg:squarederror.\n",
      "[0]\tvalidation-rmse:19.48425\n",
      "[1]\tvalidation-rmse:17.95635\n",
      "[2]\tvalidation-rmse:16.59103\n",
      "[3]\tvalidation-rmse:15.37412\n",
      "[4]\tvalidation-rmse:14.29029\n",
      "[5]\tvalidation-rmse:13.32807\n",
      "[6]\tvalidation-rmse:12.47571\n",
      "[7]\tvalidation-rmse:11.72138\n",
      "[8]\tvalidation-rmse:11.05825\n",
      "[9]\tvalidation-rmse:10.47535\n",
      "[10]\tvalidation-rmse:9.96449\n",
      "[11]\tvalidation-rmse:9.51756\n",
      "[12]\tvalidation-rmse:9.12641\n",
      "[13]\tvalidation-rmse:8.78569\n",
      "[14]\tvalidation-rmse:8.49089\n",
      "[15]\tvalidation-rmse:8.23445\n",
      "[16]\tvalidation-rmse:8.01207\n",
      "[17]\tvalidation-rmse:7.81886\n",
      "[18]\tvalidation-rmse:7.65169\n",
      "[19]\tvalidation-rmse:7.50672\n",
      "[20]\tvalidation-rmse:7.38153\n",
      "[21]\tvalidation-rmse:7.27299\n",
      "[22]\tvalidation-rmse:7.17863\n",
      "[23]\tvalidation-rmse:7.09718\n",
      "[24]\tvalidation-rmse:7.02603\n",
      "[25]\tvalidation-rmse:6.96344\n",
      "[26]\tvalidation-rmse:6.90935\n",
      "[27]\tvalidation-rmse:6.86285\n",
      "[28]\tvalidation-rmse:6.82157\n",
      "[29]\tvalidation-rmse:6.78486\n",
      "[30]\tvalidation-rmse:6.75283\n",
      "[31]\tvalidation-rmse:6.72433\n",
      "[32]\tvalidation-rmse:6.69838\n",
      "[33]\tvalidation-rmse:6.67599\n",
      "[34]\tvalidation-rmse:6.65632\n",
      "[35]\tvalidation-rmse:6.63968\n",
      "[36]\tvalidation-rmse:6.62456\n",
      "[37]\tvalidation-rmse:6.61030\n",
      "[38]\tvalidation-rmse:6.59833\n",
      "[39]\tvalidation-rmse:6.58671\n",
      "[40]\tvalidation-rmse:6.57678\n",
      "[41]\tvalidation-rmse:6.56792\n",
      "[42]\tvalidation-rmse:6.56024\n",
      "[43]\tvalidation-rmse:6.55307\n",
      "[44]\tvalidation-rmse:6.54644\n",
      "[45]\tvalidation-rmse:6.54087\n",
      "[46]\tvalidation-rmse:6.53587\n",
      "[47]\tvalidation-rmse:6.53128\n",
      "[48]\tvalidation-rmse:6.52719\n",
      "[49]\tvalidation-rmse:6.52427\n",
      "[50]\tvalidation-rmse:6.52098\n",
      "[51]\tvalidation-rmse:6.51875\n",
      "[52]\tvalidation-rmse:6.51547\n",
      "[53]\tvalidation-rmse:6.51333\n",
      "[54]\tvalidation-rmse:6.51034\n",
      "[55]\tvalidation-rmse:6.50826\n",
      "[56]\tvalidation-rmse:6.50668\n",
      "[57]\tvalidation-rmse:6.50477\n",
      "[58]\tvalidation-rmse:6.50288\n",
      "[59]\tvalidation-rmse:6.50114\n",
      "[60]\tvalidation-rmse:6.49931\n",
      "[61]\tvalidation-rmse:6.49758\n",
      "[62]\tvalidation-rmse:6.49577\n",
      "[63]\tvalidation-rmse:6.49364\n",
      "[64]\tvalidation-rmse:6.49179\n",
      "[65]\tvalidation-rmse:6.49031\n",
      "[66]\tvalidation-rmse:6.48955\n",
      "[67]\tvalidation-rmse:6.48814\n",
      "[68]\tvalidation-rmse:6.48684\n",
      "[69]\tvalidation-rmse:6.48526\n",
      "[70]\tvalidation-rmse:6.48384\n",
      "[71]\tvalidation-rmse:6.48249\n",
      "[72]\tvalidation-rmse:6.48180\n",
      "[73]\tvalidation-rmse:6.48127\n",
      "[74]\tvalidation-rmse:6.48053\n",
      "[75]\tvalidation-rmse:6.47965\n",
      "[76]\tvalidation-rmse:6.47878\n",
      "[77]\tvalidation-rmse:6.47808\n",
      "[78]\tvalidation-rmse:6.47695\n",
      "[79]\tvalidation-rmse:6.47605\n",
      "[80]\tvalidation-rmse:6.47528\n",
      "[81]\tvalidation-rmse:6.47416\n",
      "[82]\tvalidation-rmse:6.47331\n",
      "[83]\tvalidation-rmse:6.47237\n",
      "[84]\tvalidation-rmse:6.47146\n",
      "[85]\tvalidation-rmse:6.47022\n",
      "[86]\tvalidation-rmse:6.46934\n",
      "[87]\tvalidation-rmse:6.46830\n",
      "[88]\tvalidation-rmse:6.46799\n",
      "[89]\tvalidation-rmse:6.46740\n",
      "[90]\tvalidation-rmse:6.46645\n",
      "[91]\tvalidation-rmse:6.46556\n",
      "[92]\tvalidation-rmse:6.46451\n",
      "[93]\tvalidation-rmse:6.46355\n",
      "[94]\tvalidation-rmse:6.46222\n",
      "[95]\tvalidation-rmse:6.46134\n",
      "[96]\tvalidation-rmse:6.46099\n",
      "[97]\tvalidation-rmse:6.46062\n",
      "[98]\tvalidation-rmse:6.46009\n",
      "[99]\tvalidation-rmse:6.45985\n"
     ]
    }
   ],
   "source": [
    "with mlflow.start_run():\n",
    "    \n",
    "    train = xgb.DMatrix(X_train, label=y_train)\n",
    "    valid = xgb.DMatrix(X_val, label=y_val)\n",
    "\n",
    "    best_params = {\n",
    "        'learning_rate': 0.09585355369315604,\n",
    "        'max_depth': 30,\n",
    "        'min_child_weight': 1.060597050922164,\n",
    "        'objective': 'reg:linear',\n",
    "        'reg_alpha': 0.018060244040060163,\n",
    "        'reg_lambda': 0.011658731377413597,\n",
    "        'seed': 42\n",
    "    }\n",
    "\n",
    "    mlflow.log_params(best_params)\n",
    "\n",
    "    booster = xgb.train(\n",
    "        params=best_params,\n",
    "        dtrain=train,\n",
    "        num_boost_round=100,\n",
    "        evals=[(valid, 'validation')],\n",
    "        early_stopping_rounds=50\n",
    "    )\n",
    "\n",
    "    y_pred = booster.predict(valid)\n",
    "    rmse = mean_squared_error(y_val, y_pred, squared=False)\n",
    "    mlflow.log_metric(\"rmse\", rmse)\n",
    "\n",
    "    with open(\"models/preprocessor.b\", \"wb\") as f_out:\n",
    "        pickle.dump(dv, f_out)\n",
    "    mlflow.log_artifact(\"models/preprocessor.b\", artifact_path=\"preprocessor\")\n",
    "\n",
    "    mlflow.xgboost.log_model(booster, artifact_path=\"models_mlflow\")"
   ]
  },
  {
   "cell_type": "code",
   "execution_count": null,
   "id": "c2108f4b",
   "metadata": {},
   "outputs": [],
   "source": []
  },
  {
   "cell_type": "code",
   "execution_count": null,
   "id": "87614b82",
   "metadata": {},
   "outputs": [
    {
     "name": "stderr",
     "output_type": "stream",
     "text": [
      "2022/11/07 12:19:30 WARNING mlflow.utils.autologging_utils: You are using an unsupported version of sklearn. If you encounter errors during autologging, try upgrading / downgrading sklearn to a supported version, or try upgrading MLflow.\n"
     ]
    }
   ],
   "source": [
    "from sklearn.ensemble import RandomForestRegressor, GradientBoostingRegressor, ExtraTreesRegressor\n",
    "from sklearn.svm import LinearSVR\n",
    "\n",
    "mlflow.sklearn.autolog()\n",
    "\n",
    "for model_class in (RandomForestRegressor, GradientBoostingRegressor, ExtraTreesRegressor, LinearSVR):\n",
    "\n",
    "    with mlflow.start_run():\n",
    "\n",
    "        mlflow.log_param(\"train-data-path\", \"./data/green_tripdata_2021-01.parquet\")\n",
    "        mlflow.log_param(\"valid-data-path\", \"./data/green_tripdata_2021-02.parquet\")\n",
    "        mlflow.log_artifact(\"models/preprocessor.b\", artifact_path=\"preprocessor\")\n",
    "\n",
    "        mlmodel = model_class()\n",
    "        mlmodel.fit(X_train, y_train)\n",
    "\n",
    "        y_pred = mlmodel.predict(X_val)\n",
    "        rmse = mean_squared_error(y_val, y_pred, squared=False)\n",
    "        mlflow.log_metric(\"rmse\", rmse)\n",
    "        "
   ]
  },
  {
   "cell_type": "code",
   "execution_count": null,
   "id": "6f0813c7",
   "metadata": {},
   "outputs": [],
   "source": []
  },
  {
   "cell_type": "code",
   "execution_count": null,
   "id": "4c489ec5",
   "metadata": {},
   "outputs": [],
   "source": []
  }
 ],
 "metadata": {
  "interpreter": {
   "hash": "0848c9d6c7d415ad6c477ff7ff8e98694d1a4aa96d0deee89244642e6b630036"
  },
  "kernelspec": {
   "display_name": "Python 3 (ipykernel)",
   "language": "python",
   "name": "python3"
  },
  "language_info": {
   "codemirror_mode": {
    "name": "ipython",
    "version": 3
   },
   "file_extension": ".py",
   "mimetype": "text/x-python",
   "name": "python",
   "nbconvert_exporter": "python",
   "pygments_lexer": "ipython3",
   "version": "3.8.10"
  }
 },
 "nbformat": 4,
 "nbformat_minor": 5
}
