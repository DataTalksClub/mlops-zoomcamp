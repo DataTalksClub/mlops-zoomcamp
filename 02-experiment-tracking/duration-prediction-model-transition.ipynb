{
 "cells": [
  {
   "cell_type": "code",
   "execution_count": 86,
   "metadata": {},
   "outputs": [],
   "source": [
    "import pickle\n",
    "\n",
    "import mlflow\n",
    "import pandas as pd\n",
    "from mlflow.entities import ViewType\n",
    "from mlflow.tracking import MlflowClient\n",
    "from sklearn.metrics import mean_squared_error\n"
   ]
  },
  {
   "cell_type": "code",
   "execution_count": 87,
   "metadata": {},
   "outputs": [],
   "source": [
    "# Function to load the data\n",
    "# defining a function to quickly read and prepare data\n",
    "def read_dataframe(filename):\n",
    "    if filename.endswith('.csv'):\n",
    "        df = pd.read_csv(filename)\n",
    "\n",
    "        df.lpep_dropoff_datetime = pd.to_datetime(df.lpep_dropoff_datetime)\n",
    "        df.lpep_pickup_datetime = pd.to_datetime(df.lpep_pickup_datetime)\n",
    "    elif filename.endswith('.parquet'):\n",
    "        df = pd.read_parquet(filename)\n",
    "\n",
    "    df['duration'] = df.lpep_dropoff_datetime - df.lpep_pickup_datetime\n",
    "    df.duration = df.duration.apply(lambda td: td.total_seconds() / 60)\n",
    "    df = df[(df.duration >= 1) & (df.duration <= 60)]\n",
    "    \n",
    "    df['hour'] = df.lpep_pickup_datetime.dt.hour\n",
    "    df['dayofweek'] = df.lpep_pickup_datetime.dt.day_of_week\n",
    "\n",
    "    categorical = ['PULocationID', 'DOLocationID', 'hour', 'dayofweek', 'VendorID']\n",
    "    df[categorical] = df[categorical].astype(str)\n",
    "    df['PU_DO'] = df['PULocationID'] + '_' + df['DOLocationID']\n",
    "    \n",
    "    return df"
   ]
  },
  {
   "cell_type": "code",
   "execution_count": 88,
   "metadata": {},
   "outputs": [
    {
     "data": {
      "text/plain": [
       "<Experiment: artifact_location='./mlruns/3', experiment_id='3', lifecycle_stage='active', name='nyc-taxi-experiment-latest', tags={}>"
      ]
     },
     "execution_count": 88,
     "metadata": {},
     "output_type": "execute_result"
    }
   ],
   "source": [
    "#mlflow URI\n",
    "tracking_uri = \"sqlite:///mlflow.db\"\n",
    "experiment_name = \"nyc-taxi-experiment-latest\"\n",
    "model_name = \"taxi_pred_model\"\n",
    "mlflow.set_tracking_uri(f\"{tracking_uri}\")\n",
    "mlflow.set_experiment(f\"{experiment_name}\")"
   ]
  },
  {
   "cell_type": "code",
   "execution_count": 89,
   "metadata": {},
   "outputs": [],
   "source": [
    "# Search runs\n",
    "client = MlflowClient(tracking_uri=tracking_uri)\n",
    "experiment = client.get_experiment_by_name(name=experiment_name)\n",
    "runs = client.search_runs(experiment_ids=[str(experiment.experiment_id)],\n",
    "                          filter_string=\"metrics.rmse < 6.5\",\n",
    "                          run_view_type=ViewType.ACTIVE_ONLY,\n",
    "                          max_results=2,\n",
    "                          order_by=[\"metrics.rmse ASC\"]\n",
    "                          ) "
   ]
  },
  {
   "cell_type": "code",
   "execution_count": 90,
   "metadata": {},
   "outputs": [
    {
     "name": "stderr",
     "output_type": "stream",
     "text": [
      "Registered model 'taxi_pred_model' already exists. Creating a new version of this model...\n",
      "2022/05/28 10:29:21 INFO mlflow.tracking._model_registry.client: Waiting up to 300 seconds for model version to finish creation.                     Model name: taxi_pred_model, version 20\n",
      "Created version '20' of model 'taxi_pred_model'.\n",
      "Registered model 'taxi_pred_model' already exists. Creating a new version of this model...\n",
      "2022/05/28 10:29:21 INFO mlflow.tracking._model_registry.client: Waiting up to 300 seconds for model version to finish creation.                     Model name: taxi_pred_model, version 21\n",
      "Created version '21' of model 'taxi_pred_model'.\n",
      "Registered model 'taxi_pred_model' already exists. Creating a new version of this model...\n",
      "2022/05/28 10:29:21 INFO mlflow.tracking._model_registry.client: Waiting up to 300 seconds for model version to finish creation.                     Model name: taxi_pred_model, version 22\n",
      "Created version '22' of model 'taxi_pred_model'.\n"
     ]
    }
   ],
   "source": [
    "# Lets get second last run and register the model\n",
    "run_ids = [dict(dict(run)['info'])['run_id'] for run in runs] + [\"bcebff3745b84160a7633ebf9d71aeec\"]\n",
    "for run_id in run_ids:\n",
    "    model_uri = f\"runs:/{run_id}/model\"\n",
    "    model_name = \"taxi_pred_model\"\n",
    "    mlflow.register_model(model_uri=model_uri, name=model_name)"
   ]
  },
  {
   "cell_type": "code",
   "execution_count": 91,
   "metadata": {},
   "outputs": [
    {
     "data": {
      "text/plain": [
       "<ModelVersion: creation_timestamp=1653732725628, current_stage='Staging', description=None, last_updated_timestamp=1653733761605, name='taxi_pred_model', run_id='5d94cea2d90a410ab8b75e4fba4443ee', run_link=None, source='./mlruns/3/5d94cea2d90a410ab8b75e4fba4443ee/artifacts/model', status='READY', status_message=None, tags={}, user_id=None, version=14>"
      ]
     },
     "execution_count": 91,
     "metadata": {},
     "output_type": "execute_result"
    }
   ],
   "source": [
    "# Transition to stage and transition model to prod\n",
    "client.transition_model_version_stage(name=model_name,\n",
    "                                      version=19,\n",
    "                                      stage=\"Production\",\n",
    "                                      archive_existing_versions=True)\n",
    "\n",
    "client.transition_model_version_stage(name=model_name,\n",
    "                                      version=14,\n",
    "                                      stage=\"Staging\",\n",
    "                                      archive_existing_versions=True)\n",
    "\n",
    "\n"
   ]
  },
  {
   "cell_type": "code",
   "execution_count": 92,
   "metadata": {},
   "outputs": [
    {
     "name": "stdout",
     "output_type": "stream",
     "text": [
      "14 19\n"
     ]
    }
   ],
   "source": [
    "# Loading registered models\n",
    "staging_versions = client.get_latest_versions(name=model_name, stages=[\"Staging\"])\n",
    "production_versions = client.get_latest_versions(name=model_name, stages=[\"Production\"])\n",
    "\n",
    "for st, pr in zip(staging_versions, production_versions):\n",
    "    staging_version, prod_version = (st.version, pr.version)\n",
    "\n",
    "print(staging_version, prod_version)\n",
    "\n",
    "production_uri = f\"models:/{model_name}/{str(prod_version)}\" \n",
    "staging_uri = f\"models:/{model_name}/{str(staging_version)}\"\n",
    "\n",
    "production_model = mlflow.pyfunc.load_model(model_uri=production_uri)\n",
    "staging_model = mlflow.pyfunc.load_model(model_uri=staging_uri)"
   ]
  },
  {
   "cell_type": "code",
   "execution_count": 93,
   "metadata": {},
   "outputs": [
    {
     "name": "stdout",
     "output_type": "stream",
     "text": [
      "Promoting the model since new model is better performing than staging\n"
     ]
    }
   ],
   "source": [
    "# Lets get the data\n",
    "\n",
    "df_val = read_dataframe('/home/ubuntu/data/green_tripdata_2021-02.parquet')\n",
    "\n",
    "# defing feature types\n",
    "categorical = ['PU_DO', 'hour', 'dayofweek', 'VendorID'] #'PULocationID', 'DOLocationID']\n",
    "numerical = ['trip_distance']\n",
    "\n",
    "# Load preprocessor\n",
    "\n",
    "with open(\"./models/preprocessor/dvtransformer.bin\", 'rb') as file:\n",
    "    preprocessor = pickle.load(file)\n",
    "\n",
    "target = \"duration\"\n",
    "val_dicts = df_val[categorical + numerical].to_dict(orient='records')\n",
    "X_val = preprocessor.transform(val_dicts)\n",
    "y_val = df_val[target].values\n",
    "\n",
    "stage_pred = staging_model.predict(X_val)\n",
    "prod_pred = production_model.predict(X_val)\n",
    "\n",
    "\n",
    "stage_rmse = mean_squared_error(y_val, stage_pred, squared=False)\n",
    "prod_rmse = mean_squared_error(y_val, prod_pred, squared=False)\n",
    "\n",
    "if prod_rmse > stage_rmse:\n",
    "    print(\"Promoting the model since new model is better performing than staging\")\n",
    "\n",
    "    stage_versions = client.get_latest_versions(name=model_name, stages=[\"Staging\"])\n",
    "    for st in stage_versions:\n",
    "        stage_version = str(st.version)\n",
    "        client.transition_model_version_stage(name=model_name,\n",
    "                                      version=stage_version,\n",
    "                                      stage=\"Production\",\n",
    "                                      archive_existing_versions=True)\n",
    "        \n",
    "    \n",
    "\n",
    "\n",
    "\n",
    "    "
   ]
  }
 ],
 "metadata": {
  "interpreter": {
   "hash": "28b64ab469a48a0c250e8d59bd611e7be18157868e9c55fbe8ccf7861d9bf740"
  },
  "kernelspec": {
   "display_name": "Python 3.9.12 ('exp-tracking-env')",
   "language": "python",
   "name": "python3"
  },
  "language_info": {
   "codemirror_mode": {
    "name": "ipython",
    "version": 3
   },
   "file_extension": ".py",
   "mimetype": "text/x-python",
   "name": "python",
   "nbconvert_exporter": "python",
   "pygments_lexer": "ipython3",
   "version": "3.9.12"
  },
  "orig_nbformat": 4
 },
 "nbformat": 4,
 "nbformat_minor": 2
}
