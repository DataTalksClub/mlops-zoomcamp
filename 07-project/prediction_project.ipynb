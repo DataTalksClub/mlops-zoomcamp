{
 "cells": [
  {
   "cell_type": "code",
   "execution_count": 1,
   "metadata": {},
   "outputs": [],
   "source": [
    "import numpy as np # linear algebra\n",
    "import pandas as pd # data processing, CSV file I/O (e.g. pd.read_csv)"
   ]
  },
  {
   "cell_type": "code",
   "execution_count": 2,
   "metadata": {},
   "outputs": [
    {
     "name": "stdout",
     "output_type": "stream",
     "text": [
      "real:  (21417, 4) \n",
      "fake:  (23481, 4)\n"
     ]
    }
   ],
   "source": [
    "real = pd.read_csv(\"data/True.csv\")\n",
    "fake = pd.read_csv(\"data/Fake.csv\")\n",
    "\n",
    "print(\"real: \",real.shape,\"\\nfake: \",fake.shape) ## datasets seem to be balanced. NO imbalance"
   ]
  },
  {
   "cell_type": "code",
   "execution_count": 3,
   "metadata": {},
   "outputs": [
    {
     "name": "stdout",
     "output_type": "stream",
     "text": [
      "real:\n",
      " politicsNews    11272\n",
      "worldnews       10145\n",
      "Name: subject, dtype: int64 \n",
      "\n",
      "fake:\n",
      " News               9050\n",
      "politics           6841\n",
      "left-news          4459\n",
      "Government News    1570\n",
      "US_News             783\n",
      "Middle-east         778\n",
      "Name: subject, dtype: int64\n"
     ]
    }
   ],
   "source": [
    "print(\"real:\\n\",real.subject.value_counts(),\"\\n\\nfake:\\n\",fake.subject.value_counts())"
   ]
  },
  {
   "cell_type": "code",
   "execution_count": 4,
   "metadata": {},
   "outputs": [],
   "source": [
    "## Label Encoding\n",
    "real['label'] = 1\n",
    "fake['label'] = 0"
   ]
  },
  {
   "cell_type": "code",
   "execution_count": 5,
   "metadata": {},
   "outputs": [],
   "source": [
    "import spacy\n",
    "nlp = spacy.load(\"en_core_web_md\")"
   ]
  },
  {
   "cell_type": "code",
   "execution_count": 6,
   "metadata": {},
   "outputs": [],
   "source": [
    "real['vector'] = real.title.apply(lambda x: nlp(x).vector)\n",
    "fake['vector'] = fake.title.apply(lambda x: nlp(x).vector)"
   ]
  },
  {
   "cell_type": "code",
   "execution_count": 7,
   "metadata": {},
   "outputs": [
    {
     "data": {
      "text/html": [
       "<div>\n",
       "<style scoped>\n",
       "    .dataframe tbody tr th:only-of-type {\n",
       "        vertical-align: middle;\n",
       "    }\n",
       "\n",
       "    .dataframe tbody tr th {\n",
       "        vertical-align: top;\n",
       "    }\n",
       "\n",
       "    .dataframe thead th {\n",
       "        text-align: right;\n",
       "    }\n",
       "</style>\n",
       "<table border=\"1\" class=\"dataframe\">\n",
       "  <thead>\n",
       "    <tr style=\"text-align: right;\">\n",
       "      <th></th>\n",
       "      <th>vector</th>\n",
       "      <th>label</th>\n",
       "    </tr>\n",
       "  </thead>\n",
       "  <tbody>\n",
       "    <tr>\n",
       "      <th>0</th>\n",
       "      <td>[-2.0537252, -0.6161633, -3.3929284, 0.3483673...</td>\n",
       "      <td>1</td>\n",
       "    </tr>\n",
       "    <tr>\n",
       "      <th>1</th>\n",
       "      <td>[-1.4419098, 2.333012, -2.0302525, 2.1737072, ...</td>\n",
       "      <td>1</td>\n",
       "    </tr>\n",
       "    <tr>\n",
       "      <th>2</th>\n",
       "      <td>[0.557869, 2.2574153, 0.1913623, -0.041898414,...</td>\n",
       "      <td>1</td>\n",
       "    </tr>\n",
       "    <tr>\n",
       "      <th>3</th>\n",
       "      <td>[-1.6575793, 0.14247502, -0.2338423, 2.4825418...</td>\n",
       "      <td>1</td>\n",
       "    </tr>\n",
       "    <tr>\n",
       "      <th>4</th>\n",
       "      <td>[0.010546171, 1.6784946, -0.5903046, 0.4184245...</td>\n",
       "      <td>1</td>\n",
       "    </tr>\n",
       "  </tbody>\n",
       "</table>\n",
       "</div>"
      ],
      "text/plain": [
       "                                              vector  label\n",
       "0  [-2.0537252, -0.6161633, -3.3929284, 0.3483673...      1\n",
       "1  [-1.4419098, 2.333012, -2.0302525, 2.1737072, ...      1\n",
       "2  [0.557869, 2.2574153, 0.1913623, -0.041898414,...      1\n",
       "3  [-1.6575793, 0.14247502, -0.2338423, 2.4825418...      1\n",
       "4  [0.010546171, 1.6784946, -0.5903046, 0.4184245...      1"
      ]
     },
     "execution_count": 7,
     "metadata": {},
     "output_type": "execute_result"
    }
   ],
   "source": [
    "concat_data = pd.concat([real[['vector','label']],fake[['vector','label']]])\n",
    "concat_data[:5]"
   ]
  },
  {
   "cell_type": "code",
   "execution_count": 18,
   "metadata": {},
   "outputs": [
    {
     "data": {
      "text/html": [
       "<div>\n",
       "<style scoped>\n",
       "    .dataframe tbody tr th:only-of-type {\n",
       "        vertical-align: middle;\n",
       "    }\n",
       "\n",
       "    .dataframe tbody tr th {\n",
       "        vertical-align: top;\n",
       "    }\n",
       "\n",
       "    .dataframe thead th {\n",
       "        text-align: right;\n",
       "    }\n",
       "</style>\n",
       "<table border=\"1\" class=\"dataframe\">\n",
       "  <thead>\n",
       "    <tr style=\"text-align: right;\">\n",
       "      <th></th>\n",
       "      <th>vector</th>\n",
       "      <th>label</th>\n",
       "    </tr>\n",
       "  </thead>\n",
       "  <tbody>\n",
       "    <tr>\n",
       "      <th>0</th>\n",
       "      <td>[-2.0537252, -0.6161633, -3.3929284, 0.3483673...</td>\n",
       "      <td>1</td>\n",
       "    </tr>\n",
       "    <tr>\n",
       "      <th>1</th>\n",
       "      <td>[-1.4419098, 2.333012, -2.0302525, 2.1737072, ...</td>\n",
       "      <td>1</td>\n",
       "    </tr>\n",
       "    <tr>\n",
       "      <th>2</th>\n",
       "      <td>[0.557869, 2.2574153, 0.1913623, -0.041898414,...</td>\n",
       "      <td>1</td>\n",
       "    </tr>\n",
       "    <tr>\n",
       "      <th>3</th>\n",
       "      <td>[-1.6575793, 0.14247502, -0.2338423, 2.4825418...</td>\n",
       "      <td>1</td>\n",
       "    </tr>\n",
       "    <tr>\n",
       "      <th>4</th>\n",
       "      <td>[0.010546171, 1.6784946, -0.5903046, 0.4184245...</td>\n",
       "      <td>1</td>\n",
       "    </tr>\n",
       "    <tr>\n",
       "      <th>...</th>\n",
       "      <td>...</td>\n",
       "      <td>...</td>\n",
       "    </tr>\n",
       "    <tr>\n",
       "      <th>23476</th>\n",
       "      <td>[-1.0875144, -0.40776807, 0.5785536, 1.7036526...</td>\n",
       "      <td>0</td>\n",
       "    </tr>\n",
       "    <tr>\n",
       "      <th>23477</th>\n",
       "      <td>[-2.5126913, -1.8682243, -1.3928708, 3.4792082...</td>\n",
       "      <td>0</td>\n",
       "    </tr>\n",
       "    <tr>\n",
       "      <th>23478</th>\n",
       "      <td>[-0.5533076, 0.89431894, 0.38894188, 1.0536058...</td>\n",
       "      <td>0</td>\n",
       "    </tr>\n",
       "    <tr>\n",
       "      <th>23479</th>\n",
       "      <td>[0.51980144, 1.9084806, -3.391338, 1.4993627, ...</td>\n",
       "      <td>0</td>\n",
       "    </tr>\n",
       "    <tr>\n",
       "      <th>23480</th>\n",
       "      <td>[-4.007348, -2.1180274, -1.3896772, 1.5987984,...</td>\n",
       "      <td>0</td>\n",
       "    </tr>\n",
       "  </tbody>\n",
       "</table>\n",
       "<p>44898 rows × 2 columns</p>\n",
       "</div>"
      ],
      "text/plain": [
       "                                                  vector  label\n",
       "0      [-2.0537252, -0.6161633, -3.3929284, 0.3483673...      1\n",
       "1      [-1.4419098, 2.333012, -2.0302525, 2.1737072, ...      1\n",
       "2      [0.557869, 2.2574153, 0.1913623, -0.041898414,...      1\n",
       "3      [-1.6575793, 0.14247502, -0.2338423, 2.4825418...      1\n",
       "4      [0.010546171, 1.6784946, -0.5903046, 0.4184245...      1\n",
       "...                                                  ...    ...\n",
       "23476  [-1.0875144, -0.40776807, 0.5785536, 1.7036526...      0\n",
       "23477  [-2.5126913, -1.8682243, -1.3928708, 3.4792082...      0\n",
       "23478  [-0.5533076, 0.89431894, 0.38894188, 1.0536058...      0\n",
       "23479  [0.51980144, 1.9084806, -3.391338, 1.4993627, ...      0\n",
       "23480  [-4.007348, -2.1180274, -1.3896772, 1.5987984,...      0\n",
       "\n",
       "[44898 rows x 2 columns]"
      ]
     },
     "execution_count": 18,
     "metadata": {},
     "output_type": "execute_result"
    }
   ],
   "source": [
    "concat_data"
   ]
  },
  {
   "cell_type": "code",
   "execution_count": null,
   "metadata": {},
   "outputs": [],
   "source": [
    "df =  pd.DataFrame(vectors[name_index[:,1].astype(int)])\n",
    "df.index = name_index[:, 0]\n",
    "df.to_csv(\"embedding.csv\")"
   ]
  },
  {
   "cell_type": "code",
   "execution_count": 13,
   "metadata": {},
   "outputs": [
    {
     "name": "stderr",
     "output_type": "stream",
     "text": [
      "<>:1: SyntaxWarning: str indices must be integers or slices, not tuple; perhaps you missed a comma?\n",
      "<>:1: SyntaxWarning: str indices must be integers or slices, not tuple; perhaps you missed a comma?\n",
      "/var/folders/6p/kwmkg6ps5d74czsbsp1p6zm80000gn/T/ipykernel_65463/2532779684.py:1: SyntaxWarning: str indices must be integers or slices, not tuple; perhaps you missed a comma?\n",
      "  pd.DataFrame(concat_data['vector'[:,1].astype(int)])\n",
      "/var/folders/6p/kwmkg6ps5d74czsbsp1p6zm80000gn/T/ipykernel_65463/2532779684.py:1: SyntaxWarning: str indices must be integers or slices, not tuple; perhaps you missed a comma?\n",
      "  pd.DataFrame(concat_data['vector'[:,1].astype(int)])\n",
      "/var/folders/6p/kwmkg6ps5d74czsbsp1p6zm80000gn/T/ipykernel_65463/2532779684.py:1: SyntaxWarning: str indices must be integers or slices, not tuple; perhaps you missed a comma?\n",
      "  pd.DataFrame(concat_data['vector'[:,1].astype(int)])\n",
      "/var/folders/6p/kwmkg6ps5d74czsbsp1p6zm80000gn/T/ipykernel_65463/2532779684.py:1: SyntaxWarning: str indices must be integers or slices, not tuple; perhaps you missed a comma?\n",
      "  pd.DataFrame(concat_data['vector'[:,1].astype(int)])\n"
     ]
    },
    {
     "ename": "TypeError",
     "evalue": "string indices must be integers",
     "output_type": "error",
     "traceback": [
      "\u001b[0;31m---------------------------------------------------------------------------\u001b[0m",
      "\u001b[0;31mTypeError\u001b[0m                                 Traceback (most recent call last)",
      "Cell \u001b[0;32mIn[13], line 1\u001b[0m\n\u001b[0;32m----> 1\u001b[0m pd\u001b[39m.\u001b[39mDataFrame(concat_data[\u001b[39m'\u001b[39;49m\u001b[39mvector\u001b[39;49m\u001b[39m'\u001b[39;49m[:,\u001b[39m1\u001b[39;49m]\u001b[39m.\u001b[39mastype(\u001b[39mint\u001b[39m)])\n",
      "\u001b[0;31mTypeError\u001b[0m: string indices must be integers"
     ]
    }
   ],
   "source": [
    "pd.DataFrame(concat_data['vector'[:,1].astype(int)])"
   ]
  },
  {
   "cell_type": "code",
   "execution_count": null,
   "metadata": {},
   "outputs": [],
   "source": []
  },
  {
   "cell_type": "code",
   "execution_count": null,
   "metadata": {},
   "outputs": [],
   "source": []
  },
  {
   "cell_type": "code",
   "execution_count": null,
   "metadata": {},
   "outputs": [],
   "source": []
  },
  {
   "cell_type": "code",
   "execution_count": 19,
   "metadata": {},
   "outputs": [],
   "source": [
    "concat_data.to_csv('data_embeddings.csv')"
   ]
  },
  {
   "cell_type": "code",
   "execution_count": 21,
   "metadata": {},
   "outputs": [],
   "source": [
    "X = concat_data['vector']\n",
    "y = concat_data['label']"
   ]
  },
  {
   "cell_type": "code",
   "execution_count": 23,
   "metadata": {},
   "outputs": [],
   "source": [
    "X.to_csv('data_x.csv')"
   ]
  },
  {
   "cell_type": "code",
   "execution_count": 11,
   "metadata": {},
   "outputs": [],
   "source": [
    "from sklearn.model_selection import train_test_split\n",
    "from sklearn.preprocessing import MinMaxScaler\n",
    "from sklearn.metrics import confusion_matrix,classification_report\n",
    "from sklearn.pipeline import make_pipeline\n",
    "from sklearn.naive_bayes import MultinomialNB\n",
    "from sklearn.tree import DecisionTreeClassifier\n",
    "from sklearn.neighbors import KNeighborsClassifier\n",
    "from sklearn.linear_model import LogisticRegression\n",
    "from sklearn.svm import SVC"
   ]
  },
  {
   "cell_type": "code",
   "execution_count": 17,
   "metadata": {},
   "outputs": [
    {
     "ename": "NameError",
     "evalue": "name 'train_test_split' is not defined",
     "output_type": "error",
     "traceback": [
      "\u001b[0;31m---------------------------------------------------------------------------\u001b[0m",
      "\u001b[0;31mNameError\u001b[0m                                 Traceback (most recent call last)",
      "Cell \u001b[0;32mIn[17], line 1\u001b[0m\n\u001b[0;32m----> 1\u001b[0m X_train, X_test, y_train, y_test \u001b[39m=\u001b[39m train_test_split(concat_data\u001b[39m.\u001b[39mvector,\n\u001b[1;32m      2\u001b[0m                                                     concat_data\u001b[39m.\u001b[39mlabel,\n\u001b[1;32m      3\u001b[0m                                                     test_size \u001b[39m=\u001b[39m \u001b[39m0.2\u001b[39m, \n\u001b[1;32m      4\u001b[0m                                                     random_state \u001b[39m=\u001b[39m \u001b[39m1\u001b[39m,\n\u001b[1;32m      5\u001b[0m                                                     stratify \u001b[39m=\u001b[39m concat_data\u001b[39m.\u001b[39mlabel)\n\u001b[1;32m      7\u001b[0m \u001b[39mprint\u001b[39m(X_train\u001b[39m.\u001b[39mshape, y_train\u001b[39m.\u001b[39mshape)\n\u001b[1;32m      8\u001b[0m \u001b[39mprint\u001b[39m(X_test\u001b[39m.\u001b[39mshape, y_test\u001b[39m.\u001b[39mshape)\n",
      "\u001b[0;31mNameError\u001b[0m: name 'train_test_split' is not defined"
     ]
    }
   ],
   "source": [
    "X_train, X_test, y_train, y_test = train_test_split(concat_data.vector,\n",
    "                                                    concat_data.label,\n",
    "                                                    test_size = 0.2, \n",
    "                                                    random_state = 1,\n",
    "                                                    stratify = concat_data.label)\n",
    "\n",
    "print(X_train.shape, y_train.shape)\n",
    "print(X_test.shape, y_test.shape)"
   ]
  },
  {
   "cell_type": "code",
   "execution_count": 13,
   "metadata": {},
   "outputs": [
    {
     "data": {
      "text/plain": [
       "array([[-0.23301356,  4.5374684 , -2.3352568 , ...,  1.769452  ,\n",
       "        -3.347071  ,  3.5270379 ],\n",
       "       [-0.31101125,  0.70727515, -3.050925  , ..., -1.6768737 ,\n",
       "        -1.6511288 ,  1.9876038 ],\n",
       "       [ 0.24030784,  1.6407479 ,  0.6013242 , ...,  1.4325507 ,\n",
       "        -2.5555186 ,  1.9875063 ],\n",
       "       ...,\n",
       "       [-3.319358  ,  3.054753  , -3.7200494 , ..., -0.68812305,\n",
       "        -2.2678301 ,  0.08165218],\n",
       "       [-0.6567814 , -0.87304103,  1.8427453 , ..., -0.17066805,\n",
       "         0.07154899, -0.72409195],\n",
       "       [-1.527751  ,  1.364942  , -0.42387074, ..., -0.8175143 ,\n",
       "        -1.2343007 ,  0.761724  ]], dtype=float32)"
      ]
     },
     "execution_count": 13,
     "metadata": {},
     "output_type": "execute_result"
    }
   ],
   "source": [
    "X_train = np.stack(X_train)\n",
    "X_test = np.stack(X_test)\n",
    "\n",
    "X_train"
   ]
  },
  {
   "cell_type": "code",
   "execution_count": 18,
   "metadata": {},
   "outputs": [],
   "source": [
    "X = np.stack(X)"
   ]
  },
  {
   "cell_type": "code",
   "execution_count": 20,
   "metadata": {},
   "outputs": [
    {
     "ename": "AttributeError",
     "evalue": "'numpy.ndarray' object has no attribute 'to_csv'",
     "output_type": "error",
     "traceback": [
      "\u001b[0;31m---------------------------------------------------------------------------\u001b[0m",
      "\u001b[0;31mAttributeError\u001b[0m                            Traceback (most recent call last)",
      "Cell \u001b[0;32mIn[20], line 1\u001b[0m\n\u001b[0;32m----> 1\u001b[0m X\u001b[39m.\u001b[39;49mto_csv(\u001b[39m\"\u001b[39m\u001b[39mdata_x.csv\u001b[39m\u001b[39m\"\u001b[39m, encoding\u001b[39m=\u001b[39m\u001b[39m\"\u001b[39m\u001b[39mutf-8\u001b[39m\u001b[39m\"\u001b[39m)\n",
      "\u001b[0;31mAttributeError\u001b[0m: 'numpy.ndarray' object has no attribute 'to_csv'"
     ]
    }
   ],
   "source": [
    "X.to_csv(\"data_x.csv\", encoding=\"utf-8\")"
   ]
  },
  {
   "cell_type": "code",
   "execution_count": 14,
   "metadata": {},
   "outputs": [],
   "source": [
    "Naive_bayes = make_pipeline(\n",
    "    MinMaxScaler(),\n",
    "    MultinomialNB()                        ## Naive_Bayes Classifier\n",
    "    \n",
    ")\n",
    "\n",
    "DT = make_pipeline(\n",
    "    MinMaxScaler(),\n",
    "    DecisionTreeClassifier()              ## Decision_Tree_Classifier\n",
    "    \n",
    ")\n",
    "\n",
    "KNN = make_pipeline(\n",
    "    MinMaxScaler(),\n",
    "    KNeighborsClassifier()               ## K_Nearest_Neighbours_Classifier\n",
    "    \n",
    ")\n",
    "\n",
    "LogReg = make_pipeline(\n",
    "    MinMaxScaler(),\n",
    "    LogisticRegression(max_iter=1000)    ## Logistic_Regression_Classifier\n",
    "    \n",
    ")\n",
    "\n",
    "SVM = make_pipeline(\n",
    "    MinMaxScaler(),\n",
    "    SVC()                               ## Support_Vector_Machines\n",
    "    \n",
    ")"
   ]
  },
  {
   "cell_type": "code",
   "execution_count": 15,
   "metadata": {},
   "outputs": [],
   "source": [
    "def predict(model):\n",
    "    model.fit(X_train,y_train)\n",
    "    print(classification_report(y_test, model.predict(X_test)))"
   ]
  },
  {
   "cell_type": "code",
   "execution_count": 16,
   "metadata": {},
   "outputs": [
    {
     "name": "stdout",
     "output_type": "stream",
     "text": [
      "              precision    recall  f1-score   support\n",
      "\n",
      "           0       1.00      1.00      1.00      4696\n",
      "           1       1.00      1.00      1.00      4284\n",
      "\n",
      "    accuracy                           1.00      8980\n",
      "   macro avg       1.00      1.00      1.00      8980\n",
      "weighted avg       1.00      1.00      1.00      8980\n",
      "\n"
     ]
    }
   ],
   "source": [
    "predict(SVM)"
   ]
  },
  {
   "cell_type": "code",
   "execution_count": 20,
   "metadata": {},
   "outputs": [
    {
     "data": {
      "text/plain": [
       "0.033370432213299994"
      ]
     },
     "execution_count": 20,
     "metadata": {},
     "output_type": "execute_result"
    }
   ],
   "source": [
    "from sklearn.metrics import mean_squared_error\n",
    "\n",
    "SVM.fit(X_train, y_train)\n",
    "\n",
    "y_pred = SVM.predict(X_test)\n",
    "\n",
    "mean_squared_error(y_test, y_pred, squared=False)"
   ]
  },
  {
   "cell_type": "code",
   "execution_count": 22,
   "metadata": {},
   "outputs": [],
   "source": [
    "import pickle\n",
    "\n",
    "with open(\"models/svm_model.bin\", \"wb\") as f_out:\n",
    "    pickle.dump(SVM,f_out)"
   ]
  },
  {
   "cell_type": "code",
   "execution_count": 23,
   "metadata": {},
   "outputs": [
    {
     "data": {
      "text/plain": [
       "0.08507824251632097"
      ]
     },
     "execution_count": 23,
     "metadata": {},
     "output_type": "execute_result"
    }
   ],
   "source": [
    "KNN.fit(X_train, y_train)\n",
    "\n",
    "y_pred = KNN.predict(X_test)\n",
    "\n",
    "mean_squared_error(y_test, y_pred, squared=False)"
   ]
  }
 ],
 "metadata": {
  "kernelspec": {
   "display_name": "mlflow-env",
   "language": "python",
   "name": "python3"
  },
  "language_info": {
   "codemirror_mode": {
    "name": "ipython",
    "version": 3
   },
   "file_extension": ".py",
   "mimetype": "text/x-python",
   "name": "python",
   "nbconvert_exporter": "python",
   "pygments_lexer": "ipython3",
   "version": "3.9.15"
  },
  "orig_nbformat": 4
 },
 "nbformat": 4,
 "nbformat_minor": 2
}
