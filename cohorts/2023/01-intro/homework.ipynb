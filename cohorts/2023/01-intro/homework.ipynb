{
  "cells": [
    {
      "cell_type": "code",
      "execution_count": 1,
      "id": "bb4186e3-94cf-4bce-b36b-71e89b732710",
      "metadata": {
        "id": "bb4186e3-94cf-4bce-b36b-71e89b732710"
      },
      "outputs": [],
      "source": [
        "import pandas as pd\n",
        "\n",
        "from sklearn.feature_extraction import DictVectorizer\n",
        "from sklearn.linear_model import LinearRegression\n",
        "from sklearn.metrics import mean_squared_error\n",
        "\n",
        "import seaborn as sns\n",
        "import matplotlib.pyplot as plt\n",
        "\n",
        "import warnings\n",
        "warnings.filterwarnings('ignore')"
      ]
    },
    {
      "cell_type": "markdown",
      "source": [
        "### Q1. Downloading the data\n",
        "\n"
      ],
      "metadata": {
        "id": "97yfKrCqBVSc"
      },
      "id": "97yfKrCqBVSc"
    },
    {
      "cell_type": "code",
      "execution_count": 2,
      "id": "cbe379c6-5a79-491b-af10-c85039a1d13c",
      "metadata": {
        "id": "cbe379c6-5a79-491b-af10-c85039a1d13c"
      },
      "outputs": [],
      "source": [
        "df = pd.read_parquet('data/yellow_tripdata_2022-01.parquet')"
      ]
    },
    {
      "cell_type": "code",
      "execution_count": 3,
      "id": "6635ef08-4a6d-43f4-9b36-26c728aec8be",
      "metadata": {
        "colab": {
          "base_uri": "https://localhost:8080/",
          "height": 270
        },
        "id": "6635ef08-4a6d-43f4-9b36-26c728aec8be",
        "outputId": "17104c4c-3224-4dfc-eb71-d1e33d671148"
      },
      "outputs": [
        {
          "output_type": "execute_result",
          "data": {
            "text/plain": [
              "   VendorID tpep_pickup_datetime tpep_dropoff_datetime  passenger_count  \\\n",
              "0         1  2022-01-01 00:35:40   2022-01-01 00:53:29              2.0   \n",
              "1         1  2022-01-01 00:33:43   2022-01-01 00:42:07              1.0   \n",
              "2         2  2022-01-01 00:53:21   2022-01-01 01:02:19              1.0   \n",
              "3         2  2022-01-01 00:25:21   2022-01-01 00:35:23              1.0   \n",
              "4         2  2022-01-01 00:36:48   2022-01-01 01:14:20              1.0   \n",
              "\n",
              "   trip_distance  RatecodeID store_and_fwd_flag  PULocationID  DOLocationID  \\\n",
              "0           3.80         1.0                  N           142           236   \n",
              "1           2.10         1.0                  N           236            42   \n",
              "2           0.97         1.0                  N           166           166   \n",
              "3           1.09         1.0                  N           114            68   \n",
              "4           4.30         1.0                  N            68           163   \n",
              "\n",
              "   payment_type  fare_amount  extra  mta_tax  tip_amount  tolls_amount  \\\n",
              "0             1         14.5    3.0      0.5        3.65           0.0   \n",
              "1             1          8.0    0.5      0.5        4.00           0.0   \n",
              "2             1          7.5    0.5      0.5        1.76           0.0   \n",
              "3             2          8.0    0.5      0.5        0.00           0.0   \n",
              "4             1         23.5    0.5      0.5        3.00           0.0   \n",
              "\n",
              "   improvement_surcharge  total_amount  congestion_surcharge  airport_fee  \n",
              "0                    0.3         21.95                   2.5          0.0  \n",
              "1                    0.3         13.30                   0.0          0.0  \n",
              "2                    0.3         10.56                   0.0          0.0  \n",
              "3                    0.3         11.80                   2.5          0.0  \n",
              "4                    0.3         30.30                   2.5          0.0  "
            ],
            "text/html": [
              "\n",
              "  <div id=\"df-5e4f3553-55bb-47b1-a529-2aee25e3dda1\">\n",
              "    <div class=\"colab-df-container\">\n",
              "      <div>\n",
              "<style scoped>\n",
              "    .dataframe tbody tr th:only-of-type {\n",
              "        vertical-align: middle;\n",
              "    }\n",
              "\n",
              "    .dataframe tbody tr th {\n",
              "        vertical-align: top;\n",
              "    }\n",
              "\n",
              "    .dataframe thead th {\n",
              "        text-align: right;\n",
              "    }\n",
              "</style>\n",
              "<table border=\"1\" class=\"dataframe\">\n",
              "  <thead>\n",
              "    <tr style=\"text-align: right;\">\n",
              "      <th></th>\n",
              "      <th>VendorID</th>\n",
              "      <th>tpep_pickup_datetime</th>\n",
              "      <th>tpep_dropoff_datetime</th>\n",
              "      <th>passenger_count</th>\n",
              "      <th>trip_distance</th>\n",
              "      <th>RatecodeID</th>\n",
              "      <th>store_and_fwd_flag</th>\n",
              "      <th>PULocationID</th>\n",
              "      <th>DOLocationID</th>\n",
              "      <th>payment_type</th>\n",
              "      <th>fare_amount</th>\n",
              "      <th>extra</th>\n",
              "      <th>mta_tax</th>\n",
              "      <th>tip_amount</th>\n",
              "      <th>tolls_amount</th>\n",
              "      <th>improvement_surcharge</th>\n",
              "      <th>total_amount</th>\n",
              "      <th>congestion_surcharge</th>\n",
              "      <th>airport_fee</th>\n",
              "    </tr>\n",
              "  </thead>\n",
              "  <tbody>\n",
              "    <tr>\n",
              "      <th>0</th>\n",
              "      <td>1</td>\n",
              "      <td>2022-01-01 00:35:40</td>\n",
              "      <td>2022-01-01 00:53:29</td>\n",
              "      <td>2.0</td>\n",
              "      <td>3.80</td>\n",
              "      <td>1.0</td>\n",
              "      <td>N</td>\n",
              "      <td>142</td>\n",
              "      <td>236</td>\n",
              "      <td>1</td>\n",
              "      <td>14.5</td>\n",
              "      <td>3.0</td>\n",
              "      <td>0.5</td>\n",
              "      <td>3.65</td>\n",
              "      <td>0.0</td>\n",
              "      <td>0.3</td>\n",
              "      <td>21.95</td>\n",
              "      <td>2.5</td>\n",
              "      <td>0.0</td>\n",
              "    </tr>\n",
              "    <tr>\n",
              "      <th>1</th>\n",
              "      <td>1</td>\n",
              "      <td>2022-01-01 00:33:43</td>\n",
              "      <td>2022-01-01 00:42:07</td>\n",
              "      <td>1.0</td>\n",
              "      <td>2.10</td>\n",
              "      <td>1.0</td>\n",
              "      <td>N</td>\n",
              "      <td>236</td>\n",
              "      <td>42</td>\n",
              "      <td>1</td>\n",
              "      <td>8.0</td>\n",
              "      <td>0.5</td>\n",
              "      <td>0.5</td>\n",
              "      <td>4.00</td>\n",
              "      <td>0.0</td>\n",
              "      <td>0.3</td>\n",
              "      <td>13.30</td>\n",
              "      <td>0.0</td>\n",
              "      <td>0.0</td>\n",
              "    </tr>\n",
              "    <tr>\n",
              "      <th>2</th>\n",
              "      <td>2</td>\n",
              "      <td>2022-01-01 00:53:21</td>\n",
              "      <td>2022-01-01 01:02:19</td>\n",
              "      <td>1.0</td>\n",
              "      <td>0.97</td>\n",
              "      <td>1.0</td>\n",
              "      <td>N</td>\n",
              "      <td>166</td>\n",
              "      <td>166</td>\n",
              "      <td>1</td>\n",
              "      <td>7.5</td>\n",
              "      <td>0.5</td>\n",
              "      <td>0.5</td>\n",
              "      <td>1.76</td>\n",
              "      <td>0.0</td>\n",
              "      <td>0.3</td>\n",
              "      <td>10.56</td>\n",
              "      <td>0.0</td>\n",
              "      <td>0.0</td>\n",
              "    </tr>\n",
              "    <tr>\n",
              "      <th>3</th>\n",
              "      <td>2</td>\n",
              "      <td>2022-01-01 00:25:21</td>\n",
              "      <td>2022-01-01 00:35:23</td>\n",
              "      <td>1.0</td>\n",
              "      <td>1.09</td>\n",
              "      <td>1.0</td>\n",
              "      <td>N</td>\n",
              "      <td>114</td>\n",
              "      <td>68</td>\n",
              "      <td>2</td>\n",
              "      <td>8.0</td>\n",
              "      <td>0.5</td>\n",
              "      <td>0.5</td>\n",
              "      <td>0.00</td>\n",
              "      <td>0.0</td>\n",
              "      <td>0.3</td>\n",
              "      <td>11.80</td>\n",
              "      <td>2.5</td>\n",
              "      <td>0.0</td>\n",
              "    </tr>\n",
              "    <tr>\n",
              "      <th>4</th>\n",
              "      <td>2</td>\n",
              "      <td>2022-01-01 00:36:48</td>\n",
              "      <td>2022-01-01 01:14:20</td>\n",
              "      <td>1.0</td>\n",
              "      <td>4.30</td>\n",
              "      <td>1.0</td>\n",
              "      <td>N</td>\n",
              "      <td>68</td>\n",
              "      <td>163</td>\n",
              "      <td>1</td>\n",
              "      <td>23.5</td>\n",
              "      <td>0.5</td>\n",
              "      <td>0.5</td>\n",
              "      <td>3.00</td>\n",
              "      <td>0.0</td>\n",
              "      <td>0.3</td>\n",
              "      <td>30.30</td>\n",
              "      <td>2.5</td>\n",
              "      <td>0.0</td>\n",
              "    </tr>\n",
              "  </tbody>\n",
              "</table>\n",
              "</div>\n",
              "      <button class=\"colab-df-convert\" onclick=\"convertToInteractive('df-5e4f3553-55bb-47b1-a529-2aee25e3dda1')\"\n",
              "              title=\"Convert this dataframe to an interactive table.\"\n",
              "              style=\"display:none;\">\n",
              "        \n",
              "  <svg xmlns=\"http://www.w3.org/2000/svg\" height=\"24px\"viewBox=\"0 0 24 24\"\n",
              "       width=\"24px\">\n",
              "    <path d=\"M0 0h24v24H0V0z\" fill=\"none\"/>\n",
              "    <path d=\"M18.56 5.44l.94 2.06.94-2.06 2.06-.94-2.06-.94-.94-2.06-.94 2.06-2.06.94zm-11 1L8.5 8.5l.94-2.06 2.06-.94-2.06-.94L8.5 2.5l-.94 2.06-2.06.94zm10 10l.94 2.06.94-2.06 2.06-.94-2.06-.94-.94-2.06-.94 2.06-2.06.94z\"/><path d=\"M17.41 7.96l-1.37-1.37c-.4-.4-.92-.59-1.43-.59-.52 0-1.04.2-1.43.59L10.3 9.45l-7.72 7.72c-.78.78-.78 2.05 0 2.83L4 21.41c.39.39.9.59 1.41.59.51 0 1.02-.2 1.41-.59l7.78-7.78 2.81-2.81c.8-.78.8-2.07 0-2.86zM5.41 20L4 18.59l7.72-7.72 1.47 1.35L5.41 20z\"/>\n",
              "  </svg>\n",
              "      </button>\n",
              "      \n",
              "  <style>\n",
              "    .colab-df-container {\n",
              "      display:flex;\n",
              "      flex-wrap:wrap;\n",
              "      gap: 12px;\n",
              "    }\n",
              "\n",
              "    .colab-df-convert {\n",
              "      background-color: #E8F0FE;\n",
              "      border: none;\n",
              "      border-radius: 50%;\n",
              "      cursor: pointer;\n",
              "      display: none;\n",
              "      fill: #1967D2;\n",
              "      height: 32px;\n",
              "      padding: 0 0 0 0;\n",
              "      width: 32px;\n",
              "    }\n",
              "\n",
              "    .colab-df-convert:hover {\n",
              "      background-color: #E2EBFA;\n",
              "      box-shadow: 0px 1px 2px rgba(60, 64, 67, 0.3), 0px 1px 3px 1px rgba(60, 64, 67, 0.15);\n",
              "      fill: #174EA6;\n",
              "    }\n",
              "\n",
              "    [theme=dark] .colab-df-convert {\n",
              "      background-color: #3B4455;\n",
              "      fill: #D2E3FC;\n",
              "    }\n",
              "\n",
              "    [theme=dark] .colab-df-convert:hover {\n",
              "      background-color: #434B5C;\n",
              "      box-shadow: 0px 1px 3px 1px rgba(0, 0, 0, 0.15);\n",
              "      filter: drop-shadow(0px 1px 2px rgba(0, 0, 0, 0.3));\n",
              "      fill: #FFFFFF;\n",
              "    }\n",
              "  </style>\n",
              "\n",
              "      <script>\n",
              "        const buttonEl =\n",
              "          document.querySelector('#df-5e4f3553-55bb-47b1-a529-2aee25e3dda1 button.colab-df-convert');\n",
              "        buttonEl.style.display =\n",
              "          google.colab.kernel.accessAllowed ? 'block' : 'none';\n",
              "\n",
              "        async function convertToInteractive(key) {\n",
              "          const element = document.querySelector('#df-5e4f3553-55bb-47b1-a529-2aee25e3dda1');\n",
              "          const dataTable =\n",
              "            await google.colab.kernel.invokeFunction('convertToInteractive',\n",
              "                                                     [key], {});\n",
              "          if (!dataTable) return;\n",
              "\n",
              "          const docLinkHtml = 'Like what you see? Visit the ' +\n",
              "            '<a target=\"_blank\" href=https://colab.research.google.com/notebooks/data_table.ipynb>data table notebook</a>'\n",
              "            + ' to learn more about interactive tables.';\n",
              "          element.innerHTML = '';\n",
              "          dataTable['output_type'] = 'display_data';\n",
              "          await google.colab.output.renderOutput(dataTable, element);\n",
              "          const docLink = document.createElement('div');\n",
              "          docLink.innerHTML = docLinkHtml;\n",
              "          element.appendChild(docLink);\n",
              "        }\n",
              "      </script>\n",
              "    </div>\n",
              "  </div>\n",
              "  "
            ]
          },
          "metadata": {},
          "execution_count": 3
        }
      ],
      "source": [
        "df.head()"
      ]
    },
    {
      "cell_type": "code",
      "execution_count": 4,
      "id": "f055344d-f050-4fcf-8453-ee4a66407bfe",
      "metadata": {
        "colab": {
          "base_uri": "https://localhost:8080/"
        },
        "id": "f055344d-f050-4fcf-8453-ee4a66407bfe",
        "outputId": "68b659fe-15ba-468b-9f87-41122d66ba85"
      },
      "outputs": [
        {
          "output_type": "execute_result",
          "data": {
            "text/plain": [
              "19"
            ]
          },
          "metadata": {},
          "execution_count": 4
        }
      ],
      "source": [
        "len(df.columns)"
      ]
    },
    {
      "cell_type": "markdown",
      "source": [
        "### Q2. Computing duration"
      ],
      "metadata": {
        "id": "pWrLGUESBed6"
      },
      "id": "pWrLGUESBed6"
    },
    {
      "cell_type": "code",
      "execution_count": 5,
      "id": "b186962d-7ee1-4b97-a457-7ef2b2de811a",
      "metadata": {
        "id": "b186962d-7ee1-4b97-a457-7ef2b2de811a"
      },
      "outputs": [],
      "source": [
        "df['duration'] = df.tpep_dropoff_datetime - df.tpep_pickup_datetime\n",
        "df['duration'] = df.duration.dt.total_seconds() / 60"
      ]
    },
    {
      "cell_type": "code",
      "execution_count": 6,
      "id": "0e3e89da-45a3-4b12-99bb-8b56457cfa5a",
      "metadata": {
        "colab": {
          "base_uri": "https://localhost:8080/"
        },
        "id": "0e3e89da-45a3-4b12-99bb-8b56457cfa5a",
        "outputId": "289c84a9-b93f-4400-edd9-300dada8dec0"
      },
      "outputs": [
        {
          "output_type": "execute_result",
          "data": {
            "text/plain": [
              "14.212202918831741"
            ]
          },
          "metadata": {},
          "execution_count": 6
        }
      ],
      "source": [
        "df.duration.mean()"
      ]
    },
    {
      "cell_type": "code",
      "execution_count": 7,
      "id": "9da88772-b29c-4c46-8859-7c28ac2be021",
      "metadata": {
        "tags": [],
        "colab": {
          "base_uri": "https://localhost:8080/"
        },
        "id": "9da88772-b29c-4c46-8859-7c28ac2be021",
        "outputId": "d8bc9a61-e953-400a-98a5-9613b8bc7021"
      },
      "outputs": [
        {
          "output_type": "execute_result",
          "data": {
            "text/plain": [
              "46.44530513776802"
            ]
          },
          "metadata": {},
          "execution_count": 7
        }
      ],
      "source": [
        "df.duration.std()"
      ]
    },
    {
      "cell_type": "markdown",
      "id": "ca0c395a-d5cf-4870-aa64-edb4809bc662",
      "metadata": {
        "id": "ca0c395a-d5cf-4870-aa64-edb4809bc662"
      },
      "source": [
        "### Q3. Dropping outliers"
      ]
    },
    {
      "cell_type": "code",
      "execution_count": 8,
      "id": "a06d9882-82bc-40eb-954e-ebabde6e5431",
      "metadata": {
        "colab": {
          "base_uri": "https://localhost:8080/"
        },
        "id": "a06d9882-82bc-40eb-954e-ebabde6e5431",
        "outputId": "b318ae8f-3d3c-4115-8111-9415bd7def9b"
      },
      "outputs": [
        {
          "output_type": "execute_result",
          "data": {
            "text/plain": [
              "98.27547930522405"
            ]
          },
          "metadata": {},
          "execution_count": 8
        }
      ],
      "source": [
        "len(df[(df.duration >= 1) & (df.duration <= 60)]) / len(df) * 100"
      ]
    },
    {
      "cell_type": "code",
      "execution_count": 9,
      "id": "0fd4307e-f3b6-45ba-bf1d-82e4a1c09a9b",
      "metadata": {
        "id": "0fd4307e-f3b6-45ba-bf1d-82e4a1c09a9b"
      },
      "outputs": [],
      "source": [
        "df = df[(df.duration >= 1) & (df.duration <= 60)].copy()"
      ]
    },
    {
      "cell_type": "markdown",
      "id": "00b428a6-3438-4482-91fb-04ed17f5fe8d",
      "metadata": {
        "id": "00b428a6-3438-4482-91fb-04ed17f5fe8d"
      },
      "source": [
        "### Q4. One-hot encoding"
      ]
    },
    {
      "cell_type": "code",
      "execution_count": 10,
      "id": "96043224-1a51-4922-901c-c660b0bc8a5b",
      "metadata": {
        "id": "96043224-1a51-4922-901c-c660b0bc8a5b"
      },
      "outputs": [],
      "source": [
        "categorical = ['PULocationID', 'DOLocationID']"
      ]
    },
    {
      "cell_type": "code",
      "execution_count": 11,
      "id": "8853a0e2-7d3f-46e6-a45d-eeadc7c65bd1",
      "metadata": {
        "id": "8853a0e2-7d3f-46e6-a45d-eeadc7c65bd1"
      },
      "outputs": [],
      "source": [
        "df[categorical] = df[categorical].astype(str)"
      ]
    },
    {
      "cell_type": "code",
      "execution_count": 12,
      "id": "3bb3cef4-bb13-4b20-a1ba-0c23b27062de",
      "metadata": {
        "id": "3bb3cef4-bb13-4b20-a1ba-0c23b27062de"
      },
      "outputs": [],
      "source": [
        "train_dicts = df[categorical].to_dict(orient='records')"
      ]
    },
    {
      "cell_type": "code",
      "execution_count": 13,
      "id": "f89a6a92-bc5b-4aac-9366-aa9ea7029df6",
      "metadata": {
        "id": "f89a6a92-bc5b-4aac-9366-aa9ea7029df6"
      },
      "outputs": [],
      "source": [
        "dv = DictVectorizer()\n",
        "X_train = dv.fit_transform(train_dicts)"
      ]
    },
    {
      "cell_type": "code",
      "execution_count": 14,
      "id": "bfb1d21f-23e8-411d-b70d-748b9b672efb",
      "metadata": {
        "colab": {
          "base_uri": "https://localhost:8080/"
        },
        "id": "bfb1d21f-23e8-411d-b70d-748b9b672efb",
        "outputId": "46aafa55-2e06-4f5b-b0cf-a14353d3dd95"
      },
      "outputs": [
        {
          "output_type": "stream",
          "name": "stdout",
          "text": [
            "Feature matrix size: (2421440, 515)\n"
          ]
        }
      ],
      "source": [
        "print(f'Feature matrix size: {X_train.shape}')"
      ]
    },
    {
      "cell_type": "markdown",
      "id": "bb9c2670-07b9-4813-9798-d367fc6535fe",
      "metadata": {
        "id": "bb9c2670-07b9-4813-9798-d367fc6535fe"
      },
      "source": [
        "### Q5. Training a model"
      ]
    },
    {
      "cell_type": "code",
      "execution_count": 15,
      "id": "098c5ff8-8e41-41a6-a7cd-760f9c79c1f9",
      "metadata": {
        "id": "098c5ff8-8e41-41a6-a7cd-760f9c79c1f9"
      },
      "outputs": [],
      "source": [
        "target = 'duration'\n",
        "y_train = df[target].values"
      ]
    },
    {
      "cell_type": "code",
      "execution_count": 16,
      "id": "986fd495-62f8-455c-a652-946f144c5832",
      "metadata": {
        "colab": {
          "base_uri": "https://localhost:8080/"
        },
        "id": "986fd495-62f8-455c-a652-946f144c5832",
        "outputId": "f71a2119-1f4f-4d05-d60c-ad6dbd72b6c4"
      },
      "outputs": [
        {
          "output_type": "stream",
          "name": "stdout",
          "text": [
            "Train RMSE: 6.986190742248472\n"
          ]
        }
      ],
      "source": [
        "lr = LinearRegression()\n",
        "lr.fit(X_train, y_train)\n",
        "\n",
        "y_pred = lr.predict(X_train)\n",
        "\n",
        "print(f'Train RMSE: {mean_squared_error(y_train, y_pred, squared=False)}')"
      ]
    },
    {
      "cell_type": "code",
      "execution_count": 17,
      "id": "87051e49-1293-4e56-bda8-38e4f206e0ed",
      "metadata": {
        "colab": {
          "base_uri": "https://localhost:8080/",
          "height": 430
        },
        "id": "87051e49-1293-4e56-bda8-38e4f206e0ed",
        "outputId": "fb12601f-650e-421b-e120-a8a3236f37aa"
      },
      "outputs": [
        {
          "output_type": "display_data",
          "data": {
            "text/plain": [
              "<Figure size 640x480 with 1 Axes>"
            ],
            "image/png": "[encoded data removed]"
          },
          "metadata": {}
        }
      ],
      "source": [
        "sns.histplot(y_pred, label='prediction')\n",
        "sns.histplot(y_train, label='actual')\n",
        "\n",
        "plt.legend();"
      ]
    },
    {
      "cell_type": "markdown",
      "id": "5259854b-65a5-4fd0-a8b9-87a41ce4835d",
      "metadata": {
        "id": "5259854b-65a5-4fd0-a8b9-87a41ce4835d"
      },
      "source": [
        "### Q6. Evaluating the model"
      ]
    },
    {
      "cell_type": "code",
      "execution_count": 18,
      "id": "86965e06-89c1-47eb-bc1a-734721e389cd",
      "metadata": {
        "id": "86965e06-89c1-47eb-bc1a-734721e389cd"
      },
      "outputs": [],
      "source": [
        "categorical = ['PULocationID', 'DOLocationID']\n",
        "\n",
        "def read_data(filename):\n",
        "    df = pd.read_parquet(filename)\n",
        "\n",
        "    df['duration'] = df.tpep_dropoff_datetime - df.tpep_pickup_datetime\n",
        "    df.duration = df.duration.dt.total_seconds() / 60\n",
        "\n",
        "    df = df[(df.duration >= 1) & (df.duration <= 60)].copy()\n",
        "\n",
        "    df[categorical] = df[categorical].astype('str')\n",
        "    \n",
        "    return df"
      ]
    },
    {
      "cell_type": "code",
      "execution_count": 19,
      "id": "3e3c42e7-4fc2-4478-aa33-3b70bc12597a",
      "metadata": {
        "id": "3e3c42e7-4fc2-4478-aa33-3b70bc12597a"
      },
      "outputs": [],
      "source": [
        "df_val = read_data('data/yellow_tripdata_2022-02.parquet')"
      ]
    },
    {
      "cell_type": "code",
      "execution_count": 20,
      "id": "c3fd052d-029c-4358-8672-81bc50561832",
      "metadata": {
        "id": "c3fd052d-029c-4358-8672-81bc50561832"
      },
      "outputs": [],
      "source": [
        "val_dicts = df_val[categorical].to_dict(orient='records')"
      ]
    },
    {
      "cell_type": "code",
      "execution_count": 21,
      "id": "2ccad0a0-8e05-48e3-963b-5d91e8092867",
      "metadata": {
        "id": "2ccad0a0-8e05-48e3-963b-5d91e8092867"
      },
      "outputs": [],
      "source": [
        "X_val = dv.transform(val_dicts) \n",
        "y_val = df_val.duration.values"
      ]
    },
    {
      "cell_type": "code",
      "execution_count": 22,
      "id": "4a87e14b-92f8-4fbc-8fa9-77c1afe1ca56",
      "metadata": {
        "id": "4a87e14b-92f8-4fbc-8fa9-77c1afe1ca56"
      },
      "outputs": [],
      "source": [
        "y_pred = lr.predict(X_val)"
      ]
    },
    {
      "cell_type": "code",
      "execution_count": 23,
      "id": "994d39c8-199d-462f-b249-b41aabc12cc1",
      "metadata": {
        "colab": {
          "base_uri": "https://localhost:8080/"
        },
        "id": "994d39c8-199d-462f-b249-b41aabc12cc1",
        "outputId": "b8625583-5828-4552-901a-cd4e38f9d2d2"
      },
      "outputs": [
        {
          "output_type": "stream",
          "name": "stdout",
          "text": [
            "Val RMSE: 7.78640662117552\n"
          ]
        }
      ],
      "source": [
        "print(f'Val RMSE: {mean_squared_error(y_val, y_pred, squared=False)}')"
      ]
    }
  ],
  "metadata": {
    "kernelspec": {
      "display_name": "Python 3 (ipykernel)",
      "language": "python",
      "name": "python3"
    },
    "language_info": {
      "codemirror_mode": {
        "name": "ipython",
        "version": 3
      },
      "file_extension": ".py",
      "mimetype": "text/x-python",
      "name": "python",
      "nbconvert_exporter": "python",
      "pygments_lexer": "ipython3",
      "version": "3.10.0"
    },
    "colab": {
      "provenance": []
    }
  },
  "nbformat": 4,
  "nbformat_minor": 5
}