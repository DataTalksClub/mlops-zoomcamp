{
 "cells": [
  {
   "attachments": {},
   "cell_type": "markdown",
   "metadata": {},
   "source": [
    "# MLOps Zoomcamp 2023\n",
    "\n",
    "This is the homework for week#2 `02-experiment-tracking` module, for the above [course's](https://github.com/DataTalksClub/mlops-zoomcamp) cohort 2023. We're supposed to practice with the `Green Taxi Trip Records` of the NYC taxi dataset https://www.nyc.gov's \"TLC Trip Record Data\" for year `2022`.\n",
    "\n",
    "The problem statement we're solving is to predict the `trip_amount`.\n",
    "\n",
    "Submit the answers to https://forms.gle/Fy1pvrPEKd4yjz3s6 by \n",
    "- 1 Jun 2023 (Tuesday), 23:00 CEST (Berlin time)\n",
    "- 2 Jun 2023 (Wednesday), 05:00 SST (Singapore local time)\n",
    "\n",
    "\n",
    "Notes for the lessons can be found in []()\n"
   ]
  },
  {
   "cell_type": "code",
   "execution_count": 1,
   "metadata": {},
   "outputs": [
    {
     "name": "stdout",
     "output_type": "stream",
     "text": [
      "mlflow, version 1.25.0\n"
     ]
    }
   ],
   "source": [
    "!mlflow --version"
   ]
  },
  {
   "attachments": {},
   "cell_type": "markdown",
   "metadata": {},
   "source": [
    "### Q1. Install the package\n",
    "\n",
    "Q1. What's the version of mlflow that you have?\n",
    "\n",
    "A1. 1.25.0"
   ]
  },
  {
   "attachments": {},
   "cell_type": "markdown",
   "metadata": {},
   "source": [
    "### Q2. Download and preprocess the data\n",
    "\n",
    "command `python preprocess_data.py --raw_data_path data/raw/ --dest_path data/processed/`\n",
    "\n",
    "note: I changed line#18 in `train.py` later, so here need to supply output as changed below \n",
    "- from `./output`\n",
    "- to `data/processed/`\n",
    "\n",
    "\n",
    "Q2. So what's the size of the saved DictVectorizer file?\n",
    "\n",
    "A2. 152 KB (155,648 bytes)"
   ]
  },
  {
   "attachments": {},
   "cell_type": "markdown",
   "metadata": {},
   "source": [
    "###  Q3. Train a model with autolog\n",
    "\n",
    "checklist before launching mlflow ui:\n",
    "\n",
    "- [ ] remove any .db files\n",
    "- [ ] remove any numbered files under mlruns/(#), if still exist after previous runs and after killing process\n",
    "- [ ] split 2 terminal panels\n",
    "\n",
    "commands\n",
    "- `mlflow ui --backend-store-uri sqlite:///mlflow.db`\n",
    "- `ps -A | grep gunicorn` then `kill <process-id>`\n",
    "- `sudo fuser -k 5000/tcp` to simply kill all processes using port 5000\n",
    "- `python train.py`\n",
    "\n",
    "edit train.py to reproduce experiment; git diff on file should show these\n",
    "\n",
    "    > #04    import mlflow\n",
    "    > #05    import mlflow.sklearn\n",
    "    > #10    mlflow.set_tracking_uri(\"sqlite:///mlflow.db\")\n",
    "    > #11    mlflow.set_experiment(\"train-random-forest\")\n",
    "    > #19    default=\"data/processed\",\n",
    "    > #23    mlflow.sklearn.autolog()\n",
    "    > #25    with mlflow.start_run():\n",
    "    > #35    mlflow.log_metric(\"rmse\", rmse)\n",
    "\n",
    "\n",
    "Q3: What is the value of the max_depth parameter:\n",
    "\n",
    "A3: 10"
   ]
  },
  {
   "attachments": {},
   "cell_type": "markdown",
   "metadata": {},
   "source": [
    "### Q4. Tune model hyperparameters\n",
    "\n",
    "commands\n",
    "\n",
    "- `python hpo.py`\n",
    "\n",
    "\n",
    "Q4: What's the best validation RMSE that you got?\n",
    "\n",
    "A4: 2.45"
   ]
  },
  {
   "attachments": {},
   "cell_type": "markdown",
   "metadata": {},
   "source": [
    "### Q5. Promote the best model to the model registry\n",
    "\n",
    "commands\n",
    "\n",
    "- `python register_model.py`\n",
    "\n",
    "\n",
    "Q5: What is the test RMSE of the best model?\n",
    "\n",
    "A5: 2.291 (take closest 2.185)"
   ]
  }
 ],
 "metadata": {
  "kernelspec": {
   "display_name": "zoomcamp",
   "language": "python",
   "name": "python3"
  },
  "language_info": {
   "codemirror_mode": {
    "name": "ipython",
    "version": 3
   },
   "file_extension": ".py",
   "mimetype": "text/x-python",
   "name": "python",
   "nbconvert_exporter": "python",
   "pygments_lexer": "ipython3",
   "version": "3.10.11"
  },
  "orig_nbformat": 4
 },
 "nbformat": 4,
 "nbformat_minor": 2
}
