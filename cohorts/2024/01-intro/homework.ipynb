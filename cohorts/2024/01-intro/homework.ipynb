{
 "cells": [
  {
   "cell_type": "code",
   "execution_count": 1,
   "metadata": {},
   "outputs": [],
   "source": [
    "import pandas as pd \n",
    "import numpy as np\n",
    "import pyarrow.parquet as pq\n",
    "\n",
    "from sklearn.feature_extraction import DictVectorizer\n",
    "from sklearn.linear_model import LinearRegression\n",
    "from sklearn.linear_model import Lasso\n",
    "from sklearn.linear_model import Ridge\n",
    "\n",
    "from sklearn.metrics import mean_squared_error\n",
    "from time import time"
   ]
  },
  {
   "cell_type": "markdown",
   "metadata": {},
   "source": [
    "## Q1. Downloading the data"
   ]
  },
  {
   "cell_type": "code",
   "execution_count": 2,
   "metadata": {},
   "outputs": [],
   "source": [
    "file1 = pq.ParquetFile('./data/yellow_tripdata_2023-01.parquet')\n",
    "file2 = pq.ParquetFile('./data/yellow_tripdata_2023-02.parquet')\n",
    "\n",
    "table1 = file1.read()\n",
    "table2 = file2.read()\n",
    "\n",
    "df_jan = table1.to_pandas()\n",
    "df_feb = table2.to_pandas()"
   ]
  },
  {
   "cell_type": "code",
   "execution_count": 3,
   "metadata": {},
   "outputs": [
    {
     "name": "stdout",
     "output_type": "stream",
     "text": [
      "<class 'pandas.core.frame.DataFrame'>\n",
      "RangeIndex: 3066766 entries, 0 to 3066765\n",
      "Data columns (total 19 columns):\n",
      " #   Column                 Dtype         \n",
      "---  ------                 -----         \n",
      " 0   VendorID               int64         \n",
      " 1   tpep_pickup_datetime   datetime64[us]\n",
      " 2   tpep_dropoff_datetime  datetime64[us]\n",
      " 3   passenger_count        float64       \n",
      " 4   trip_distance          float64       \n",
      " 5   RatecodeID             float64       \n",
      " 6   store_and_fwd_flag     object        \n",
      " 7   PULocationID           int64         \n",
      " 8   DOLocationID           int64         \n",
      " 9   payment_type           int64         \n",
      " 10  fare_amount            float64       \n",
      " 11  extra                  float64       \n",
      " 12  mta_tax                float64       \n",
      " 13  tip_amount             float64       \n",
      " 14  tolls_amount           float64       \n",
      " 15  improvement_surcharge  float64       \n",
      " 16  total_amount           float64       \n",
      " 17  congestion_surcharge   float64       \n",
      " 18  airport_fee            float64       \n",
      "dtypes: datetime64[us](2), float64(12), int64(4), object(1)\n",
      "memory usage: 444.6+ MB\n"
     ]
    }
   ],
   "source": [
    "df_jan.info()"
   ]
  },
  {
   "cell_type": "markdown",
   "metadata": {},
   "source": [
    "There are 19 columns"
   ]
  },
  {
   "cell_type": "markdown",
   "metadata": {},
   "source": [
    "## Q2. Computing duration"
   ]
  },
  {
   "cell_type": "code",
   "execution_count": 4,
   "metadata": {},
   "outputs": [],
   "source": [
    "# For January\n",
    "df_jan['duration'] = (df_jan['tpep_dropoff_datetime']) - (df_jan['tpep_pickup_datetime'])\n",
    "df_jan['duration'] = np.round((df_jan['duration']) / np.timedelta64(1, 'm'), decimals=2)\n",
    "\n",
    "# For February\n",
    "df_feb['duration'] = (df_feb['tpep_dropoff_datetime']) - (df_feb['tpep_pickup_datetime'])\n",
    "df_feb['duration'] = np.round((df_feb['duration']) / np.timedelta64(1, 'm'), decimals=2)"
   ]
  },
  {
   "cell_type": "code",
   "execution_count": 6,
   "metadata": {},
   "outputs": [
    {
     "data": {
      "text/html": [
       "<div>\n",
       "<style scoped>\n",
       "    .dataframe tbody tr th:only-of-type {\n",
       "        vertical-align: middle;\n",
       "    }\n",
       "\n",
       "    .dataframe tbody tr th {\n",
       "        vertical-align: top;\n",
       "    }\n",
       "\n",
       "    .dataframe thead th {\n",
       "        text-align: right;\n",
       "    }\n",
       "</style>\n",
       "<table border=\"1\" class=\"dataframe\">\n",
       "  <thead>\n",
       "    <tr style=\"text-align: right;\">\n",
       "      <th></th>\n",
       "      <th>VendorID</th>\n",
       "      <th>tpep_pickup_datetime</th>\n",
       "      <th>tpep_dropoff_datetime</th>\n",
       "      <th>passenger_count</th>\n",
       "      <th>trip_distance</th>\n",
       "      <th>RatecodeID</th>\n",
       "      <th>PULocationID</th>\n",
       "      <th>DOLocationID</th>\n",
       "      <th>payment_type</th>\n",
       "      <th>fare_amount</th>\n",
       "      <th>extra</th>\n",
       "      <th>mta_tax</th>\n",
       "      <th>tip_amount</th>\n",
       "      <th>tolls_amount</th>\n",
       "      <th>improvement_surcharge</th>\n",
       "      <th>total_amount</th>\n",
       "      <th>congestion_surcharge</th>\n",
       "      <th>airport_fee</th>\n",
       "      <th>duration</th>\n",
       "    </tr>\n",
       "  </thead>\n",
       "  <tbody>\n",
       "    <tr>\n",
       "      <th>count</th>\n",
       "      <td>3066766.000</td>\n",
       "      <td>3066766</td>\n",
       "      <td>3066766</td>\n",
       "      <td>2995023.000</td>\n",
       "      <td>3066766.000</td>\n",
       "      <td>2995023.000</td>\n",
       "      <td>3066766.000</td>\n",
       "      <td>3066766.000</td>\n",
       "      <td>3066766.000</td>\n",
       "      <td>3066766.000</td>\n",
       "      <td>3066766.000</td>\n",
       "      <td>3066766.000</td>\n",
       "      <td>3066766.000</td>\n",
       "      <td>3066766.000</td>\n",
       "      <td>3066766.000</td>\n",
       "      <td>3066766.000</td>\n",
       "      <td>2995023.000</td>\n",
       "      <td>2995023.000</td>\n",
       "      <td>3066766.000</td>\n",
       "    </tr>\n",
       "    <tr>\n",
       "      <th>mean</th>\n",
       "      <td>1.730</td>\n",
       "      <td>2023-01-17 00:22:26.288164</td>\n",
       "      <td>2023-01-17 00:38:06.427874</td>\n",
       "      <td>1.363</td>\n",
       "      <td>3.847</td>\n",
       "      <td>1.497</td>\n",
       "      <td>166.398</td>\n",
       "      <td>164.393</td>\n",
       "      <td>1.194</td>\n",
       "      <td>18.367</td>\n",
       "      <td>1.538</td>\n",
       "      <td>0.488</td>\n",
       "      <td>3.368</td>\n",
       "      <td>0.518</td>\n",
       "      <td>0.982</td>\n",
       "      <td>27.020</td>\n",
       "      <td>2.274</td>\n",
       "      <td>0.107</td>\n",
       "      <td>15.669</td>\n",
       "    </tr>\n",
       "    <tr>\n",
       "      <th>min</th>\n",
       "      <td>1.000</td>\n",
       "      <td>2008-12-31 23:01:42</td>\n",
       "      <td>2009-01-01 14:29:11</td>\n",
       "      <td>0.000</td>\n",
       "      <td>0.000</td>\n",
       "      <td>1.000</td>\n",
       "      <td>1.000</td>\n",
       "      <td>1.000</td>\n",
       "      <td>0.000</td>\n",
       "      <td>-900.000</td>\n",
       "      <td>-7.500</td>\n",
       "      <td>-0.500</td>\n",
       "      <td>-96.220</td>\n",
       "      <td>-65.000</td>\n",
       "      <td>-1.000</td>\n",
       "      <td>-751.000</td>\n",
       "      <td>-2.500</td>\n",
       "      <td>-1.250</td>\n",
       "      <td>-29.200</td>\n",
       "    </tr>\n",
       "    <tr>\n",
       "      <th>25%</th>\n",
       "      <td>1.000</td>\n",
       "      <td>2023-01-09 16:21:57.250000</td>\n",
       "      <td>2023-01-09 16:37:06</td>\n",
       "      <td>1.000</td>\n",
       "      <td>1.060</td>\n",
       "      <td>1.000</td>\n",
       "      <td>132.000</td>\n",
       "      <td>114.000</td>\n",
       "      <td>1.000</td>\n",
       "      <td>8.600</td>\n",
       "      <td>0.000</td>\n",
       "      <td>0.500</td>\n",
       "      <td>1.000</td>\n",
       "      <td>0.000</td>\n",
       "      <td>1.000</td>\n",
       "      <td>15.400</td>\n",
       "      <td>2.500</td>\n",
       "      <td>0.000</td>\n",
       "      <td>7.120</td>\n",
       "    </tr>\n",
       "    <tr>\n",
       "      <th>50%</th>\n",
       "      <td>2.000</td>\n",
       "      <td>2023-01-17 08:42:29.500000</td>\n",
       "      <td>2023-01-17 08:58:30.500000</td>\n",
       "      <td>1.000</td>\n",
       "      <td>1.800</td>\n",
       "      <td>1.000</td>\n",
       "      <td>162.000</td>\n",
       "      <td>162.000</td>\n",
       "      <td>1.000</td>\n",
       "      <td>12.800</td>\n",
       "      <td>1.000</td>\n",
       "      <td>0.500</td>\n",
       "      <td>2.720</td>\n",
       "      <td>0.000</td>\n",
       "      <td>1.000</td>\n",
       "      <td>20.160</td>\n",
       "      <td>2.500</td>\n",
       "      <td>0.000</td>\n",
       "      <td>11.520</td>\n",
       "    </tr>\n",
       "    <tr>\n",
       "      <th>75%</th>\n",
       "      <td>2.000</td>\n",
       "      <td>2023-01-24 16:26:27</td>\n",
       "      <td>2023-01-24 16:42:49</td>\n",
       "      <td>1.000</td>\n",
       "      <td>3.330</td>\n",
       "      <td>1.000</td>\n",
       "      <td>234.000</td>\n",
       "      <td>234.000</td>\n",
       "      <td>1.000</td>\n",
       "      <td>20.500</td>\n",
       "      <td>2.500</td>\n",
       "      <td>0.500</td>\n",
       "      <td>4.200</td>\n",
       "      <td>0.000</td>\n",
       "      <td>1.000</td>\n",
       "      <td>28.700</td>\n",
       "      <td>2.500</td>\n",
       "      <td>0.000</td>\n",
       "      <td>18.300</td>\n",
       "    </tr>\n",
       "    <tr>\n",
       "      <th>max</th>\n",
       "      <td>2.000</td>\n",
       "      <td>2023-02-01 00:56:53</td>\n",
       "      <td>2023-02-02 09:28:47</td>\n",
       "      <td>9.000</td>\n",
       "      <td>258928.150</td>\n",
       "      <td>99.000</td>\n",
       "      <td>265.000</td>\n",
       "      <td>265.000</td>\n",
       "      <td>4.000</td>\n",
       "      <td>1160.100</td>\n",
       "      <td>12.500</td>\n",
       "      <td>53.160</td>\n",
       "      <td>380.800</td>\n",
       "      <td>196.990</td>\n",
       "      <td>1.000</td>\n",
       "      <td>1169.400</td>\n",
       "      <td>2.500</td>\n",
       "      <td>1.250</td>\n",
       "      <td>10029.180</td>\n",
       "    </tr>\n",
       "    <tr>\n",
       "      <th>std</th>\n",
       "      <td>0.444</td>\n",
       "      <td>NaN</td>\n",
       "      <td>NaN</td>\n",
       "      <td>0.896</td>\n",
       "      <td>249.584</td>\n",
       "      <td>6.475</td>\n",
       "      <td>64.244</td>\n",
       "      <td>69.944</td>\n",
       "      <td>0.529</td>\n",
       "      <td>17.808</td>\n",
       "      <td>1.790</td>\n",
       "      <td>0.103</td>\n",
       "      <td>3.827</td>\n",
       "      <td>2.018</td>\n",
       "      <td>0.183</td>\n",
       "      <td>22.164</td>\n",
       "      <td>0.772</td>\n",
       "      <td>0.356</td>\n",
       "      <td>42.594</td>\n",
       "    </tr>\n",
       "  </tbody>\n",
       "</table>\n",
       "</div>"
      ],
      "text/plain": [
       "          VendorID        tpep_pickup_datetime       tpep_dropoff_datetime  \\\n",
       "count  3066766.000                     3066766                     3066766   \n",
       "mean         1.730  2023-01-17 00:22:26.288164  2023-01-17 00:38:06.427874   \n",
       "min          1.000         2008-12-31 23:01:42         2009-01-01 14:29:11   \n",
       "25%          1.000  2023-01-09 16:21:57.250000         2023-01-09 16:37:06   \n",
       "50%          2.000  2023-01-17 08:42:29.500000  2023-01-17 08:58:30.500000   \n",
       "75%          2.000         2023-01-24 16:26:27         2023-01-24 16:42:49   \n",
       "max          2.000         2023-02-01 00:56:53         2023-02-02 09:28:47   \n",
       "std          0.444                         NaN                         NaN   \n",
       "\n",
       "       passenger_count  trip_distance   RatecodeID  PULocationID  \\\n",
       "count      2995023.000    3066766.000  2995023.000   3066766.000   \n",
       "mean             1.363          3.847        1.497       166.398   \n",
       "min              0.000          0.000        1.000         1.000   \n",
       "25%              1.000          1.060        1.000       132.000   \n",
       "50%              1.000          1.800        1.000       162.000   \n",
       "75%              1.000          3.330        1.000       234.000   \n",
       "max              9.000     258928.150       99.000       265.000   \n",
       "std              0.896        249.584        6.475        64.244   \n",
       "\n",
       "       DOLocationID  payment_type  fare_amount        extra      mta_tax  \\\n",
       "count   3066766.000   3066766.000  3066766.000  3066766.000  3066766.000   \n",
       "mean        164.393         1.194       18.367        1.538        0.488   \n",
       "min           1.000         0.000     -900.000       -7.500       -0.500   \n",
       "25%         114.000         1.000        8.600        0.000        0.500   \n",
       "50%         162.000         1.000       12.800        1.000        0.500   \n",
       "75%         234.000         1.000       20.500        2.500        0.500   \n",
       "max         265.000         4.000     1160.100       12.500       53.160   \n",
       "std          69.944         0.529       17.808        1.790        0.103   \n",
       "\n",
       "        tip_amount  tolls_amount  improvement_surcharge  total_amount  \\\n",
       "count  3066766.000   3066766.000            3066766.000   3066766.000   \n",
       "mean         3.368         0.518                  0.982        27.020   \n",
       "min        -96.220       -65.000                 -1.000      -751.000   \n",
       "25%          1.000         0.000                  1.000        15.400   \n",
       "50%          2.720         0.000                  1.000        20.160   \n",
       "75%          4.200         0.000                  1.000        28.700   \n",
       "max        380.800       196.990                  1.000      1169.400   \n",
       "std          3.827         2.018                  0.183        22.164   \n",
       "\n",
       "       congestion_surcharge  airport_fee     duration  \n",
       "count           2995023.000  2995023.000  3066766.000  \n",
       "mean                  2.274        0.107       15.669  \n",
       "min                  -2.500       -1.250      -29.200  \n",
       "25%                   2.500        0.000        7.120  \n",
       "50%                   2.500        0.000       11.520  \n",
       "75%                   2.500        0.000       18.300  \n",
       "max                   2.500        1.250    10029.180  \n",
       "std                   0.772        0.356       42.594  "
      ]
     },
     "execution_count": 6,
     "metadata": {},
     "output_type": "execute_result"
    }
   ],
   "source": [
    "df_jan.describe().round(3)"
   ]
  },
  {
   "cell_type": "markdown",
   "metadata": {},
   "source": [
    "The standard deviation of the trips duration in January is 42.59"
   ]
  },
  {
   "cell_type": "markdown",
   "metadata": {},
   "source": [
    "## Q3. Dropping outliers"
   ]
  },
  {
   "cell_type": "code",
   "execution_count": 7,
   "metadata": {},
   "outputs": [],
   "source": [
    "# For January\n",
    "df_jan = df_jan[(df_jan['duration'] >= 1.00) & (df_jan['duration'] <= 60.00)]\n",
    "\n",
    "# For February\n",
    "df_feb = df_feb[(df_feb['duration'] >= 1.00) & (df_feb['duration'] <= 60.00)]"
   ]
  },
  {
   "cell_type": "code",
   "execution_count": 9,
   "metadata": {},
   "outputs": [
    {
     "name": "stdout",
     "output_type": "stream",
     "text": [
      "<class 'pandas.core.frame.DataFrame'>\n",
      "Index: 3009173 entries, 0 to 3066765\n",
      "Data columns (total 20 columns):\n",
      " #   Column                 Dtype         \n",
      "---  ------                 -----         \n",
      " 0   VendorID               int64         \n",
      " 1   tpep_pickup_datetime   datetime64[us]\n",
      " 2   tpep_dropoff_datetime  datetime64[us]\n",
      " 3   passenger_count        float64       \n",
      " 4   trip_distance          float64       \n",
      " 5   RatecodeID             float64       \n",
      " 6   store_and_fwd_flag     object        \n",
      " 7   PULocationID           int64         \n",
      " 8   DOLocationID           int64         \n",
      " 9   payment_type           int64         \n",
      " 10  fare_amount            float64       \n",
      " 11  extra                  float64       \n",
      " 12  mta_tax                float64       \n",
      " 13  tip_amount             float64       \n",
      " 14  tolls_amount           float64       \n",
      " 15  improvement_surcharge  float64       \n",
      " 16  total_amount           float64       \n",
      " 17  congestion_surcharge   float64       \n",
      " 18  airport_fee            float64       \n",
      " 19  duration               float64       \n",
      "dtypes: datetime64[us](2), float64(13), int64(4), object(1)\n",
      "memory usage: 482.1+ MB\n"
     ]
    }
   ],
   "source": [
    "df_jan.info()"
   ]
  },
  {
   "cell_type": "markdown",
   "metadata": {},
   "source": [
    "#### Calculation of the record's fraction left"
   ]
  },
  {
   "cell_type": "code",
   "execution_count": 10,
   "metadata": {},
   "outputs": [
    {
     "data": {
      "text/plain": [
       "98.1220282212598"
      ]
     },
     "execution_count": 10,
     "metadata": {},
     "output_type": "execute_result"
    }
   ],
   "source": [
    "100 - (((3066766 - 3009173) * 100) / 3066766)"
   ]
  },
  {
   "cell_type": "markdown",
   "metadata": {},
   "source": [
    "The fraction of the records left after dropping outliers is 98%"
   ]
  },
  {
   "cell_type": "markdown",
   "metadata": {},
   "source": [
    "## Q4. One-hot encoding"
   ]
  },
  {
   "cell_type": "code",
   "execution_count": 17,
   "metadata": {},
   "outputs": [],
   "source": [
    "train_feat = df_jan[['PULocationID', 'DOLocationID']].astype(str)\n",
    "train_dicts = train_feat.to_dict(orient='records')\n",
    "\n",
    "dv = DictVectorizer()\n",
    "X_train = dv.fit_transform(train_dicts)"
   ]
  },
  {
   "cell_type": "code",
   "execution_count": 18,
   "metadata": {},
   "outputs": [
    {
     "data": {
      "text/plain": [
       "(3009173, 515)"
      ]
     },
     "execution_count": 18,
     "metadata": {},
     "output_type": "execute_result"
    }
   ],
   "source": [
    "X_train.shape"
   ]
  },
  {
   "cell_type": "markdown",
   "metadata": {},
   "source": [
    "The dimensionality of this matrix is 515"
   ]
  },
  {
   "cell_type": "markdown",
   "metadata": {},
   "source": [
    "## Q5. Training a model"
   ]
  },
  {
   "cell_type": "code",
   "execution_count": 19,
   "metadata": {},
   "outputs": [],
   "source": [
    "y_train = df_jan['duration'].values"
   ]
  },
  {
   "cell_type": "code",
   "execution_count": 20,
   "metadata": {},
   "outputs": [
    {
     "name": "stderr",
     "output_type": "stream",
     "text": [
      "c:\\Users\\Admin\\Documents\\a_data_workspace\\datatalks\\mlops-zoomcamp\\.venv\\Lib\\site-packages\\sklearn\\metrics\\_regression.py:483: FutureWarning: 'squared' is deprecated in version 1.4 and will be removed in 1.6. To calculate the root mean squared error, use the function'root_mean_squared_error'.\n",
      "  warnings.warn(\n"
     ]
    },
    {
     "data": {
      "text/plain": [
       "7.649261720998863"
      ]
     },
     "execution_count": 20,
     "metadata": {},
     "output_type": "execute_result"
    }
   ],
   "source": [
    "lr = LinearRegression()\n",
    "\n",
    "lr.fit(X_train, y_train)\n",
    "\n",
    "y_pred = lr.predict(X_train)\n",
    "\n",
    "mean_squared_error(y_train, y_pred, squared=False)"
   ]
  },
  {
   "cell_type": "markdown",
   "metadata": {},
   "source": [
    "The RMSE on train is 7.64"
   ]
  },
  {
   "cell_type": "markdown",
   "metadata": {},
   "source": [
    "## Q6. Evaluating the model"
   ]
  },
  {
   "cell_type": "code",
   "execution_count": 21,
   "metadata": {},
   "outputs": [],
   "source": [
    "#One-Hot Encoding\n",
    "val_feat = df_feb[['PULocationID', 'DOLocationID']].astype(str)\n",
    "val_dicts = val_feat.to_dict(orient='records')\n",
    "\n",
    "X_val = dv.transform(val_dicts)"
   ]
  },
  {
   "cell_type": "code",
   "execution_count": 22,
   "metadata": {},
   "outputs": [],
   "source": [
    "# Prediction on val\n",
    "y_val = df_feb['duration'].values\n",
    "\n",
    "y_val_pred = lr.predict(X_val)\n",
    "\n",
    "mean_squared_error(y_val, y_val_pred, squared=False)"
   ]
  },
  {
   "cell_type": "markdown",
   "metadata": {},
   "source": [
    "The RMSE on validation is 7.81"
   ]
  }
 ],
 "metadata": {
  "language_info": {
   "name": "python"
  }
 },
 "nbformat": 4,
 "nbformat_minor": 2
}
