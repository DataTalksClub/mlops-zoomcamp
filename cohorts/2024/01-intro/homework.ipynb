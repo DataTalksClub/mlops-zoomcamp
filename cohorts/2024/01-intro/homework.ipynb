{
 "cells": [
  {
   "cell_type": "markdown",
   "metadata": {},
   "source": [
    "# Homework 01-intro\n",
    "## Training a simple model for predicting the duration of a ride.\n",
    "### Dataset\n",
    "\n",
    "The [NYC taxi dataset](https://www1.nyc.gov/site/tlc/about/tlc-trip-record-data.page) describes taxi trip records in New York (USA). For this homework we are using the Yellow records.\n",
    "\n",
    "#### Columns description:\n",
    "\n",
    "| **Column**         | **Description**        |\n",
    "| :----------- | :-------------- |\n",
    "| VendorID     | A code indicating the TPEP provider that provided the record.  |\n",
    "| tpep_pickup_datetime    | The date and time when the meter was engaged.   |\n",
    "|tpep_dropoff_datetime| The date and time when the meter was disengaged.|\n",
    "|Passenger_count| The number of passengers in the vehicle. |\n",
    "|Trip_distance | The elapsed trip distance in miles reported by the taximeter.|\n",
    "| PULocationID| TLC Taxi Zone in which the taximeter was engaged.|\n",
    "| DOLocationID| TLC Taxi Zone in which the taximeter was disengaged.|\n",
    "| RateCodeID| The final rate code in effect at the end of the trip.  *(1= Standard rate, 2=JFK, 3=Newark, 4=Nassau or Westchester, 5=Negotiated fare, 6=Group ride)*|\n",
    "| Store_and_fwd_flag| This flag indicates whether the trip record was held in vehicle memory before sending to the vendor, aka“store and forward,” because the vehicle did not have a connection to the server.  *(Y= store and forward trip, N= not a store and forward trip)*|\n",
    "| Payment_type| A numeric code signifying how the passenger paid for the trip. *(1= Credit card, 2= Cash,  3= No charge,  4= Dispute,  5= Unknown,  6= Voided trip)*|\n",
    "| Fare_amount| The time-and-distance fare calculated by the meter.|\n",
    "| Extra| Miscellaneous extras and surcharges. Currently, this only includes the $0.50 and $1 rush hour and overnight charges.|\n",
    "| MTA_tax| $0.50 MTA tax that is automatically triggered based on the metered rate in use.|\n",
    "| Improvement_surcharge| $0.30 improvement surcharge assessed trips at the flag drop. The improvement surcharge began being levied in 2015.|\n",
    "| Tip_amount| Tip amount – This field is automatically populated for credit card tips. Cash tips are not included.|\n",
    "| Tolls_amount| Total amount of all tolls paid in trip.|\n",
    "| Total_amount| The total amount charged to passengers. Does not include cash tips.|\n",
    "| Congestion_Surcharge| Total amount collected in trip for NYS congestion surcharge.|\n",
    "| Airport_fee| $1.25 for pick up only at LaGuardia and John F. Kennedy Airports|"
   ]
  },
  {
   "cell_type": "code",
   "execution_count": 1,
   "metadata": {},
   "outputs": [],
   "source": [
    "# Importing libraries\n",
    "\n",
    "import pandas as pd \n",
    "import numpy as np\n",
    "import pyarrow.parquet as pq\n",
    "\n",
    "from sklearn.feature_extraction import DictVectorizer\n",
    "from sklearn.linear_model import LinearRegression\n",
    "\n",
    "from sklearn.metrics import root_mean_squared_error\n",
    "\n",
    "import warnings\n",
    "warnings.filterwarnings('ignore')"
   ]
  },
  {
   "cell_type": "markdown",
   "metadata": {},
   "source": [
    "## Q1. Downloading the data"
   ]
  },
  {
   "cell_type": "code",
   "execution_count": 2,
   "metadata": {},
   "outputs": [],
   "source": [
    "# Reading the data and transforming into dataset\n",
    "file1 = pq.ParquetFile('./data/yellow_tripdata_2023-01.parquet')\n",
    "file2 = pq.ParquetFile('./data/yellow_tripdata_2023-02.parquet')\n",
    "\n",
    "table1 = file1.read()\n",
    "table2 = file2.read()\n",
    "\n",
    "df_jan = table1.to_pandas()\n",
    "df_feb = table2.to_pandas()"
   ]
  },
  {
   "cell_type": "code",
   "execution_count": 3,
   "metadata": {},
   "outputs": [
    {
     "name": "stdout",
     "output_type": "stream",
     "text": [
      "<class 'pandas.core.frame.DataFrame'>\n",
      "RangeIndex: 3066766 entries, 0 to 3066765\n",
      "Data columns (total 19 columns):\n",
      " #   Column                 Dtype         \n",
      "---  ------                 -----         \n",
      " 0   VendorID               int64         \n",
      " 1   tpep_pickup_datetime   datetime64[us]\n",
      " 2   tpep_dropoff_datetime  datetime64[us]\n",
      " 3   passenger_count        float64       \n",
      " 4   trip_distance          float64       \n",
      " 5   RatecodeID             float64       \n",
      " 6   store_and_fwd_flag     object        \n",
      " 7   PULocationID           int64         \n",
      " 8   DOLocationID           int64         \n",
      " 9   payment_type           int64         \n",
      " 10  fare_amount            float64       \n",
      " 11  extra                  float64       \n",
      " 12  mta_tax                float64       \n",
      " 13  tip_amount             float64       \n",
      " 14  tolls_amount           float64       \n",
      " 15  improvement_surcharge  float64       \n",
      " 16  total_amount           float64       \n",
      " 17  congestion_surcharge   float64       \n",
      " 18  airport_fee            float64       \n",
      "dtypes: datetime64[us](2), float64(12), int64(4), object(1)\n",
      "memory usage: 444.6+ MB\n"
     ]
    }
   ],
   "source": [
    "df_jan.info()"
   ]
  },
  {
   "cell_type": "markdown",
   "metadata": {},
   "source": [
    "There are 19 columns"
   ]
  },
  {
   "cell_type": "markdown",
   "metadata": {},
   "source": [
    "## Q2. Computing duration column"
   ]
  },
  {
   "cell_type": "code",
   "execution_count": 4,
   "metadata": {},
   "outputs": [],
   "source": [
    "# For January\n",
    "df_jan['duration'] = (df_jan['tpep_dropoff_datetime']) - (df_jan['tpep_pickup_datetime'])\n",
    "df_jan['duration'] = np.round((df_jan['duration']) / np.timedelta64(1, 'm'), decimals=2)\n",
    "\n",
    "# For February\n",
    "df_feb['duration'] = (df_feb['tpep_dropoff_datetime']) - (df_feb['tpep_pickup_datetime'])\n",
    "df_feb['duration'] = np.round((df_feb['duration']) / np.timedelta64(1, 'm'), decimals=2)"
   ]
  },
  {
   "cell_type": "code",
   "execution_count": 5,
   "metadata": {},
   "outputs": [
    {
     "data": {
      "text/html": [
       "<div>\n",
       "<style scoped>\n",
       "    .dataframe tbody tr th:only-of-type {\n",
       "        vertical-align: middle;\n",
       "    }\n",
       "\n",
       "    .dataframe tbody tr th {\n",
       "        vertical-align: top;\n",
       "    }\n",
       "\n",
       "    .dataframe thead th {\n",
       "        text-align: right;\n",
       "    }\n",
       "</style>\n",
       "<table border=\"1\" class=\"dataframe\">\n",
       "  <thead>\n",
       "    <tr style=\"text-align: right;\">\n",
       "      <th></th>\n",
       "      <th>duration</th>\n",
       "    </tr>\n",
       "  </thead>\n",
       "  <tbody>\n",
       "    <tr>\n",
       "      <th>count</th>\n",
       "      <td>3066766.000</td>\n",
       "    </tr>\n",
       "    <tr>\n",
       "      <th>mean</th>\n",
       "      <td>15.669</td>\n",
       "    </tr>\n",
       "    <tr>\n",
       "      <th>std</th>\n",
       "      <td>42.594</td>\n",
       "    </tr>\n",
       "    <tr>\n",
       "      <th>min</th>\n",
       "      <td>-29.200</td>\n",
       "    </tr>\n",
       "    <tr>\n",
       "      <th>25%</th>\n",
       "      <td>7.120</td>\n",
       "    </tr>\n",
       "    <tr>\n",
       "      <th>50%</th>\n",
       "      <td>11.520</td>\n",
       "    </tr>\n",
       "    <tr>\n",
       "      <th>75%</th>\n",
       "      <td>18.300</td>\n",
       "    </tr>\n",
       "    <tr>\n",
       "      <th>max</th>\n",
       "      <td>10029.180</td>\n",
       "    </tr>\n",
       "  </tbody>\n",
       "</table>\n",
       "</div>"
      ],
      "text/plain": [
       "          duration\n",
       "count  3066766.000\n",
       "mean        15.669\n",
       "std         42.594\n",
       "min        -29.200\n",
       "25%          7.120\n",
       "50%         11.520\n",
       "75%         18.300\n",
       "max      10029.180"
      ]
     },
     "execution_count": 5,
     "metadata": {},
     "output_type": "execute_result"
    }
   ],
   "source": [
    "df_jan[['duration']].describe().round(3)"
   ]
  },
  {
   "cell_type": "markdown",
   "metadata": {},
   "source": [
    "The standard deviation of the trips duration in January is 42.59"
   ]
  },
  {
   "cell_type": "markdown",
   "metadata": {},
   "source": [
    "## Q3. Dropping outliers"
   ]
  },
  {
   "cell_type": "code",
   "execution_count": 6,
   "metadata": {},
   "outputs": [],
   "source": [
    "# For January\n",
    "df_jan_clean = df_jan[(df_jan['duration'] >= 1.00) & (df_jan['duration'] <= 60.00)]\n",
    "\n",
    "# For February\n",
    "df_feb_clean = df_feb[(df_feb['duration'] >= 1.00) & (df_feb['duration'] <= 60.00)]"
   ]
  },
  {
   "cell_type": "markdown",
   "metadata": {},
   "source": [
    "#### Calculation of the record's fraction left"
   ]
  },
  {
   "cell_type": "code",
   "execution_count": 7,
   "metadata": {},
   "outputs": [],
   "source": [
    "# Total of records\n",
    "total_with_outliers = df_jan['VendorID'].count()\n",
    "\n",
    "# Total of records after removing outliers\n",
    "total_without_outliers = df_jan_clean['VendorID'].count()"
   ]
  },
  {
   "cell_type": "code",
   "execution_count": 8,
   "metadata": {},
   "outputs": [
    {
     "data": {
      "text/plain": [
       "98.1220282212598"
      ]
     },
     "execution_count": 8,
     "metadata": {},
     "output_type": "execute_result"
    }
   ],
   "source": [
    "100 - (((total_with_outliers - total_without_outliers) * 100) / total_with_outliers)"
   ]
  },
  {
   "cell_type": "markdown",
   "metadata": {},
   "source": [
    "The fraction of the records left after dropping outliers is 98%"
   ]
  },
  {
   "cell_type": "markdown",
   "metadata": {},
   "source": [
    "## Q4. One-hot encoding\n",
    "#### Features to use: pickup and dropoff location IDs"
   ]
  },
  {
   "cell_type": "code",
   "execution_count": 9,
   "metadata": {},
   "outputs": [],
   "source": [
    "# Creating dictionary\n",
    "train_feat = df_jan_clean[['PULocationID', 'DOLocationID']].astype(str)\n",
    "train_dicts = train_feat.to_dict(orient='records')\n",
    "\n",
    "# Vectorizing dictionary\n",
    "dv = DictVectorizer()\n",
    "X_train = dv.fit_transform(train_dicts)"
   ]
  },
  {
   "cell_type": "code",
   "execution_count": 10,
   "metadata": {},
   "outputs": [
    {
     "data": {
      "text/plain": [
       "(3009173, 515)"
      ]
     },
     "execution_count": 10,
     "metadata": {},
     "output_type": "execute_result"
    }
   ],
   "source": [
    "X_train.shape"
   ]
  },
  {
   "cell_type": "markdown",
   "metadata": {},
   "source": [
    "The dimensionality of this matrix is 515"
   ]
  },
  {
   "cell_type": "markdown",
   "metadata": {},
   "source": [
    "## Q5. Training a model"
   ]
  },
  {
   "cell_type": "code",
   "execution_count": 11,
   "metadata": {},
   "outputs": [],
   "source": [
    "# Setting the target\n",
    "y_train = df_jan_clean['duration'].values"
   ]
  },
  {
   "cell_type": "code",
   "execution_count": 12,
   "metadata": {},
   "outputs": [
    {
     "data": {
      "text/plain": [
       "7.649261720998863"
      ]
     },
     "execution_count": 12,
     "metadata": {},
     "output_type": "execute_result"
    }
   ],
   "source": [
    "# Training the model with linear regression\n",
    "lr = LinearRegression()\n",
    "\n",
    "lr.fit(X_train, y_train)\n",
    "\n",
    "y_pred = lr.predict(X_train)\n",
    "\n",
    "root_mean_squared_error(y_train, y_pred)"
   ]
  },
  {
   "cell_type": "markdown",
   "metadata": {},
   "source": [
    "The RMSE on train is 7.64"
   ]
  },
  {
   "cell_type": "markdown",
   "metadata": {},
   "source": [
    "## Q6. Evaluating the model"
   ]
  },
  {
   "cell_type": "code",
   "execution_count": 13,
   "metadata": {},
   "outputs": [],
   "source": [
    "#One-Hot Encoding (dic and vectorization)\n",
    "val_feat = df_feb_clean[['PULocationID', 'DOLocationID']].astype(str)\n",
    "val_dicts = val_feat.to_dict(orient='records')\n",
    "\n",
    "X_val = dv.transform(val_dicts)"
   ]
  },
  {
   "cell_type": "code",
   "execution_count": 14,
   "metadata": {},
   "outputs": [
    {
     "data": {
      "text/plain": [
       "7.811819484670213"
      ]
     },
     "execution_count": 14,
     "metadata": {},
     "output_type": "execute_result"
    }
   ],
   "source": [
    "# Prediction on validation\n",
    "y_val = df_feb_clean['duration'].values\n",
    "\n",
    "y_val_pred = lr.predict(X_val)\n",
    "\n",
    "root_mean_squared_error(y_val, y_val_pred)"
   ]
  },
  {
   "cell_type": "markdown",
   "metadata": {},
   "source": [
    "The RMSE on validation is 7.81"
   ]
  }
 ],
 "metadata": {
  "language_info": {
   "name": "python"
  }
 },
 "nbformat": 4,
 "nbformat_minor": 2
}
