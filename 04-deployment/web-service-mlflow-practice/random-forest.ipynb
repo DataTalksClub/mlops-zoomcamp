{
 "cells": [
  {
   "cell_type": "code",
   "execution_count": 13,
   "id": "2e25cf66",
   "metadata": {},
   "outputs": [],
   "source": [
    "import mlflow\n",
    "import numpy as np\n",
    "import pandas as pd\n",
    "from hyperopt import STATUS_OK, Trials, fmin, hp, tpe\n",
    "from hyperopt.pyll import scope\n",
    "from mlflow.tracking import MlflowClient\n",
    "from sklearn.ensemble import RandomForestRegressor\n",
    "from sklearn.feature_extraction import DictVectorizer\n",
    "from sklearn.metrics import make_scorer, mean_squared_error\n",
    "from sklearn.model_selection import cross_val_score\n",
    "from sklearn.pipeline import make_pipeline\n"
   ]
  },
  {
   "cell_type": "code",
   "execution_count": 2,
   "id": "506bec39",
   "metadata": {},
   "outputs": [
    {
     "name": "stderr",
     "output_type": "stream",
     "text": [
      "2022/06/20 22:18:33 INFO mlflow.tracking.fluent: Experiment with name 'green-taxi-duration' does not exist. Creating a new experiment.\n"
     ]
    },
    {
     "data": {
      "text/plain": [
       "<Experiment: artifact_location='mlruns/1', experiment_id='1', lifecycle_stage='active', name='green-taxi-duration', tags={}>"
      ]
     },
     "execution_count": 2,
     "metadata": {},
     "output_type": "execute_result"
    }
   ],
   "source": [
    "\n",
    "# Set experiment ui\n",
    "mlflow.set_tracking_uri(\"http://127.0.0.1:5000\")\n",
    "mlflow.set_experiment(\"green-taxi-duration\")"
   ]
  },
  {
   "cell_type": "code",
   "execution_count": 3,
   "id": "b9666e19",
   "metadata": {},
   "outputs": [],
   "source": [
    "def read_dataframe(filename: str):\n",
    "    df = pd.read_parquet(filename)\n",
    "\n",
    "    df['duration'] = df.lpep_dropoff_datetime - df.lpep_pickup_datetime\n",
    "    df.duration = df.duration.dt.total_seconds() / 60\n",
    "    df = df[(df.duration >= 1) & (df.duration <= 60)]\n",
    "\n",
    "    categorical = ['PULocationID', 'DOLocationID']\n",
    "    df[categorical] = df[categorical].astype(str)\n",
    "    return df\n",
    "\n",
    "\n",
    "def prepare_dictionaries(df: pd.DataFrame):\n",
    "    df['PU_DO'] = df['PULocationID'] + '_' + df['DOLocationID']\n",
    "    categorical = ['PU_DO']\n",
    "    numerical = ['trip_distance']\n",
    "    dicts = df[categorical + numerical].to_dict(orient='records')\n",
    "    return dicts"
   ]
  },
  {
   "cell_type": "code",
   "execution_count": 6,
   "id": "6b5f0d80",
   "metadata": {},
   "outputs": [],
   "source": [
    "df_train = read_dataframe('data/green_tripdata_2021-01.parquet')\n",
    "df_val = read_dataframe('data/green_tripdata_2021-02.parquet')\n",
    "\n",
    "target = 'duration'\n",
    "y_train = df_train[target].values\n",
    "y_val = df_val[target].values\n",
    "\n",
    "dict_train = prepare_dictionaries(df_train)\n",
    "dict_val = prepare_dictionaries(df_val)"
   ]
  },
  {
   "cell_type": "code",
   "execution_count": 11,
   "id": "849db91f",
   "metadata": {},
   "outputs": [],
   "source": [
    "# Custom function not available for use in cross val score\n",
    "def my_custom_loss_func(y_true, y_pred):\n",
    "    error = mean_squared_error(y_true=y_true, y_pred=y_pred, squared=False)\n",
    "    return error"
   ]
  },
  {
   "cell_type": "code",
   "execution_count": 21,
   "id": "c5fdaba2",
   "metadata": {},
   "outputs": [],
   "source": [
    "estimators = [100,200,300]\n",
    "search_space = {\n",
    "    'max_depth': scope.int(hp.quniform('max_depth', 4, 100, 1)),\n",
    "    'n_estimators': hp.choice('n_estimators', [100,200,300]),\n",
    "    'min_samples_leaf': scope.int(hp.quniform('min_samples_leaf',5, 40, 5)),\n",
    "    'random_state': 42\n",
    "}"
   ]
  },
  {
   "cell_type": "code",
   "execution_count": 25,
   "id": "c73081e1",
   "metadata": {},
   "outputs": [
    {
     "name": "stdout",
     "output_type": "stream",
     "text": [
      "100%|██████████| 10/10 [05:40<00:00, 34.06s/trial, best loss: -5.542383129660325]\n"
     ]
    }
   ],
   "source": [
    "def objective(params):\n",
    "    with mlflow.start_run():\n",
    "        mlflow.log_params(params)\n",
    "\n",
    "        pipeline = make_pipeline(\n",
    "            DictVectorizer(),\n",
    "            RandomForestRegressor(**params, n_jobs=-1)\n",
    "        )\n",
    "\n",
    "        cv_scores = cross_val_score(estimator=pipeline, \n",
    "                                    X=dict_train, \n",
    "                                    y=y_train, \n",
    "                                    scoring=make_scorer(my_custom_loss_func, greater_is_better=False), \n",
    "                                    cv=3)\n",
    "                                    \n",
    "        mean_rmse = np.mean(cv_scores)\n",
    "        std_rmse = np.std(cv_scores)\n",
    "        \n",
    "        rmse = mean_rmse + std_rmse\n",
    "        mlflow.log_metric('rmse', rmse)\n",
    "    \n",
    "    return {'loss': rmse, 'status': STATUS_OK}\n",
    "\n",
    "best_result = fmin(\n",
    "    fn=objective,\n",
    "    space=search_space,\n",
    "    algo=tpe.suggest,\n",
    "    max_evals=10,\n",
    "    trials=Trials()\n",
    ")\n"
   ]
  },
  {
   "cell_type": "code",
   "execution_count": 26,
   "id": "2919d4db",
   "metadata": {},
   "outputs": [],
   "source": [
    "#Extracting best params\n",
    "best_result['max_depth'] = int(best_result['max_depth'])\n",
    "best_result['min_samples_leaf'] = int(best_result['min_samples_leaf'])\n",
    "best_result['n_estimators'] = estimators[best_result['n_estimators']]\n",
    "best_result['random_state'] = 42"
   ]
  },
  {
   "cell_type": "code",
   "execution_count": 27,
   "id": "18add435",
   "metadata": {},
   "outputs": [
    {
     "name": "stdout",
     "output_type": "stream",
     "text": [
      "{'max_depth': 92, 'min_samples_leaf': 40, 'n_estimators': 200, 'random_state': 42} 6.786923073411247\n"
     ]
    }
   ],
   "source": [
    "# Lets train the best model\n",
    "with mlflow.start_run():\n",
    "    mlflow.set_tag(\"model\", \"random-forest\") \n",
    "\n",
    "    params = best_result\n",
    "    mlflow.log_params(params)\n",
    "\n",
    "    pipeline = make_pipeline(\n",
    "            DictVectorizer(),\n",
    "            RandomForestRegressor(**params, n_jobs=-1)\n",
    "        )\n",
    "\n",
    "    pipeline.fit(dict_train, y_train)\n",
    "    y_pred = pipeline.predict(dict_val)\n",
    "\n",
    "    rmse = mean_squared_error(y_pred, y_val, squared=False)\n",
    "    mlflow.log_metric('val_rmse', rmse)\n",
    "    print(params, rmse)\n",
    "    mlflow.sklearn.log_model(pipeline, artifact_path=\"model\")"
   ]
  },
  {
   "cell_type": "code",
   "execution_count": 24,
   "id": "8ff6b57e",
   "metadata": {},
   "outputs": [],
   "source": [
    "# Loading the model\n",
    "MLFLOW_TRACKING_URI = 'http://127.0.0.1:5000'\n",
    "RUN_ID = '23f8f015ffc848ddb56fdb8da8e6efc3'\n",
    "\n",
    "client = MlflowClient(tracking_uri=MLFLOW_TRACKING_URI)"
   ]
  }
 ],
 "metadata": {
  "interpreter": {
   "hash": "60e6720e69abe6c78fea04f3fc05fa52ce8e20fb7d51d32e890bd67fbba385f8"
  },
  "kernelspec": {
   "display_name": "Python 3.9.12 ('web-service-mlflow-practice-5vFQvW_7')",
   "language": "python",
   "name": "python3"
  },
  "language_info": {
   "codemirror_mode": {
    "name": "ipython",
    "version": 3
   },
   "file_extension": ".py",
   "mimetype": "text/x-python",
   "name": "python",
   "nbconvert_exporter": "python",
   "pygments_lexer": "ipython3",
   "version": "3.9.12"
  }
 },
 "nbformat": 4,
 "nbformat_minor": 5
}
