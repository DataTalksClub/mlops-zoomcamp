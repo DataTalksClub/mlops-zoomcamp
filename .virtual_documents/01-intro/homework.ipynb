import numpy as np
import pandas as pd


import seaborn as sns
import matplotlib.pyplot as plt
from sklearn.feature_extraction import DictVectorizer
from sklearn.linear_model import LinearRegression
from sklearn.metrics import mean_squared_error


df_jan = pd.read_parquet('data/fhv_tripdata_2021-01.parquet')


df_jan.shape[0]


df_jan.head()


df_jan.dropOff_datetime = pd.to_datetime(df_jan.dropOff_datetime)
df_jan.pickup_datetime = pd.to_datetime(df_jan.pickup_datetime)
df_jan['duration'] = df_jan.dropOff_datetime - df_jan.pickup_datetime
df_jan['duration'] = df_jan['duration'].apply(lambda td: td.total_seconds() / 60)


df_jan['duration'].mean()


df_jan = df_jan.loc[(df_jan['duration'] >= 1) & (df_jan['duration'] <= 60)].copy()


df_jan.shape[0]


df_jan.head()


df_jan.loc[:, ['PUlocationID', 'DOlocationID']] = df_jan.loc[:, ['PUlocationID', 'DOlocationID']].fillna(-1)


(df_jan['PUlocationID'] == -1).mean()


dv = DictVectorizer()
df_jan_dict = df_jan[['PUlocationID', 'DOlocationID']].astype('str').to_dict(orient='records')
df_jan_val = dv.fit_transform(df_jan_dict)


df_jan_val.ndim


from sklearn.linear_model import LinearRegression

lin_reg = LinearRegression()
lin_reg.fit(df_jan_val, df_jan['duration'])


y_pred = lin_reg.predict(df_jan_val)


from sklearn.metrics import mean_squared_error

mean_squared_error(df_jan['duration'], y_pred)**0.5


df_feb = pd.read_parquet('data/fhv_tripdata_2021-02.parquet')
df_feb.dropOff_datetime = pd.to_datetime(df_feb.dropOff_datetime)
df_feb.pickup_datetime = pd.to_datetime(df_feb.pickup_datetime)
df_feb['duration'] = df_feb.dropOff_datetime - df_feb.pickup_datetime
df_feb['duration'] = df_feb['duration'].apply(lambda td: td.total_seconds() / 60)
df_feb = df_feb.loc[(df_feb['duration'] >= 1) & (df_feb['duration'] <= 60)].copy()
df_feb.loc[:, ['PUlocationID', 'DOlocationID']] = df_feb.loc[:, ['PUlocationID', 'DOlocationID']].fillna(-1)
df_feb_dict = df_feb[['PUlocationID', 'DOlocationID']].astype('str').to_dict(orient='records')
df_feb_val = dv.transform(df_feb_dict)
y_valid_pred = lin_reg.predict(df_feb_val)
mean_squared_error(df_feb['duration'], y_valid_pred)**0.5
