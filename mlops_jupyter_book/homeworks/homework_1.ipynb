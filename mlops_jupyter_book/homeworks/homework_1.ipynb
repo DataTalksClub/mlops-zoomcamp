{
 "cells": [
  {
   "attachments": {},
   "cell_type": "markdown",
   "metadata": {},
   "source": [
    "# Homework 1 - Due 23rd May 2023\n",
    "This notebook fulfills the requirements of Homework number 1 which is due on the 23rd of May 2023. The questions posed within the homework have been answered in markdown cells below. \n",
    "\n",
    "The details for the homework can be found [here](https://github.com/DataTalksClub/mlops-zoomcamp/blob/main/cohorts/2023/01-intro/homework.md) and a brief outline can be seen below:\n",
    "\n",
    "```{admonition} Homework 1 Outline\n",
    "The goal of this homework is to train a simple model for predicting the duration of a ride.\n",
    "We'll use the same NYC taxi dataset, but instead of \"Green Taxi Trip Records\", we'll use \"Yellow Taxi Trip Records\".\n",
    "The data to be used is January and February 2022\n",
    "```"
   ]
  },
  {
   "cell_type": "code",
   "execution_count": 1,
   "metadata": {
    "tags": [
     "remove_cell"
    ]
   },
   "outputs": [],
   "source": [
    "import sys\n",
    "sys.path.append('/home/ubuntu/sh-mlops-zoomcamp/mlops_jupyter_book')\n",
    "import pandas as pd\n",
    "import pandera as pa\n",
    "from pandera.typing import Series, DateTime\n",
    "import seaborn as sns\n",
    "import plotly.graph_objs as go\n",
    "from sklearn.linear_model import LinearRegression\n",
    "from sklearn.feature_extraction import DictVectorizer\n",
    "from pathlib import Path\n",
    "from sklearn.metrics import mean_squared_error\n",
    "from datetime import datetime\n",
    "from enum import Enum\n",
    "import os\n",
    "from utils.utils import ROOT_DIR, render_itable, init_jb_table_style\n",
    "from itables import init_notebook_mode\n",
    "\n",
    "init_jb_table_style()\n",
    "init_notebook_mode(all_interactive=True, connected=True)"
   ]
  },
  {
   "cell_type": "code",
   "execution_count": 2,
   "metadata": {
    "tags": [
     "remove_cell"
    ]
   },
   "outputs": [],
   "source": [
    "COLS_TO_STRINGS = ['PULocationID', 'DOLocationID']\n",
    "DURATION_FILTER = {'duration': {'start':1, 'end': 60, 'inclusive':'both'}}\n",
    "INDEP_VARS = ['PULocationID', 'DOLocationID']\n",
    "TARGET_VAR = 'duration'"
   ]
  },
  {
   "cell_type": "code",
   "execution_count": 3,
   "metadata": {
    "tags": [
     "remove_cell"
    ]
   },
   "outputs": [],
   "source": [
    "class FileTypes(Enum):\n",
    "    PARQUET = {\"type\": \"parquet\", \"function\": pd.read_parquet}\n",
    "    CSV = {\"type\": \"csv\", \"function\": pd.read_csv}"
   ]
  },
  {
   "cell_type": "code",
   "execution_count": 4,
   "metadata": {
    "tags": [
     "remove_cell"
    ]
   },
   "outputs": [],
   "source": [
    "def _import_data(data_path: Path) -> pd.DataFrame:\n",
    "    \"\"\"Function that will check import the data. This function will check the type of the file and if it is not in a prescribed list of \n",
    "    files (See FileTypes class) then an exception will be thrown.\n",
    "\n",
    "    Args:\n",
    "        data_path (Path): Path to the data to be imported\n",
    "\n",
    "    Raises:\n",
    "        Exception: Exception if the filetype to be imported is now a valid FileTypes class value\n",
    "\n",
    "    Returns:\n",
    "        pd.DataFrame: pandas DataFrame containing the data that was imported from the data path\n",
    "    \"\"\"\n",
    "    file_type = str(data_path).split('.')[-1]\n",
    "    if file_type not in [e.value['type'] for e in FileTypes]:\n",
    "        raise Exception(f\"file type {file_type} is not currently supported, please use one of the following {[e.value for e in FileTypes]}\")\n",
    "    else:\n",
    "        df = FileTypes[file_type.upper()].value['function'](data_path)\n",
    "        return df"
   ]
  },
  {
   "cell_type": "code",
   "execution_count": 5,
   "metadata": {
    "tags": [
     "remove_cell"
    ]
   },
   "outputs": [],
   "source": [
    "data_base_path = Path().resolve()\n",
    "jan_data = Path(str(ROOT_DIR) + \"/mlops_jupyter_book/homeworks/data/yellow_tripdata_2022-01.parquet\").resolve()\n",
    "feb_data = Path(str(ROOT_DIR) + \"/mlops_jupyter_book/homeworks/data/yellow_tripdata_2022-02.parquet\").resolve()"
   ]
  },
  {
   "attachments": {},
   "cell_type": "markdown",
   "metadata": {},
   "source": [
    "```{admonition} Data Validation\n",
    ":class: tip\n",
    "I have included a small section below on data validation. This is extremely important as we would like our data to be as robust as possible and have the form expected before we begin training an ML model (dates not in the future, no negative values for fare or journey length etc.).\n",
    "\n",
    "Creating a validation schema using [Pandera](https://pandera.readthedocs.io/en/stable/index.html) is extremely easy and can be very powerful when it comes to data validation. Creating a schema that I thought was reasonable threw up some errors that I thought were interesting but investigating / remediating are outside the scope of this MLOps course:\n",
    "- null values in passenger count\n",
    "- negative values for all amounts (fare, mta, tolls etc.)\n",
    "```"
   ]
  },
  {
   "cell_type": "code",
   "execution_count": 6,
   "metadata": {
    "tags": [
     "hide_output",
     "hide_input"
    ]
   },
   "outputs": [],
   "source": [
    "class TaxiSchema(pa.DataFrameModel):\n",
    "    \"\"\"Schema to validate our data against.\n",
    "    This will ensure that any data we use for training and predictions has the correct form\n",
    "    \"\"\"\n",
    "\n",
    "    VendorID: Series[int] = pa.Field(ge=0)\n",
    "    tpep_pickup_datetime: Series[DateTime] = pa.Field(le=datetime.now())\n",
    "    tpep_dropoff_datetime: Series[DateTime] = pa.Field(le=datetime.now())\n",
    "    passenger_count: Series[float] = pa.Field(ge=0, nullable=True, coerce=True)\n",
    "    trip_distance: Series[float] = pa.Field(ge=0.0, nullable=True)\n",
    "    RatecodeID: Series[float] = pa.Field(ge=0, nullable=True, coerce=True)\n",
    "    store_and_fwd_flag: Series[str] = pa.Field(isin=[\"N\", \"Y\"], nullable=True)\n",
    "    PULocationID: Series[str] = pa.Field(nullable=True)\n",
    "    DOLocationID: Series[str] = pa.Field(nullable=True)\n",
    "    payment_type: Series[int] = pa.Field(ge=0, le=5, nullable=True)\n",
    "    fare_amount: Series[float] = pa.Field() # fair amounts <0 were identified. Going to assume they were refunds but should be investigated\n",
    "    extra: Series[float] = pa.Field()\n",
    "    mta_tax: Series[float] = pa.Field()\n",
    "    tip_amount: Series[float] = pa.Field()\n",
    "    tolls_amount: Series[float] = pa.Field()\n",
    "    improvement_surcharge: Series[float] = pa.Field()\n",
    "    total_amount: Series[float] = pa.Field()\n",
    "    congestion_surcharge: Series[float] = pa.Field(nullable=True)\n",
    "    airport_fee: Series[float] = pa.Field(nullable=True)\n",
    "    duration: Series[float] = pa.Field(nullable=True)\n",
    "\n",
    "    pa.dataframe_check\n",
    "    def check_dates(cls, df:pd.DataFrame) -> Series[bool]:\n",
    "        return df['tpep_pickup_datetime'] <= df['tpep_dropoff_datetime']"
   ]
  },
  {
   "cell_type": "code",
   "execution_count": 7,
   "metadata": {
    "tags": [
     "remove_cell"
    ]
   },
   "outputs": [],
   "source": [
    "def import_transform_validate(df_path:Path, validation_model:TaxiSchema = TaxiSchema) -> pd.DataFrame:\n",
    "    import_df = _import_data(df_path)\n",
    "    # Converting PULocationID and DOLocationID to strings\n",
    "    import_df[COLS_TO_STRINGS] = import_df[COLS_TO_STRINGS].applymap(str)\n",
    "    import_df['duration'] = (import_df['tpep_dropoff_datetime'] - import_df['tpep_pickup_datetime'])\n",
    "    import_df['duration'] = import_df['duration'].apply(lambda x: x.total_seconds()/60)\n",
    "\n",
    "    validated_df = validation_model.validate(import_df)\n",
    "    return validated_df"
   ]
  },
  {
   "attachments": {},
   "cell_type": "markdown",
   "metadata": {},
   "source": [
    "## Q1. Downloading the data\n",
    "Read the data for January. How many columns are there? \n",
    "\n",
    "__Answer__ \n",
    "\n",
    "We can see in the table below there are 20 columns. I added the `duration` column so the answer is __19 columns are read from the data__"
   ]
  },
  {
   "cell_type": "code",
   "execution_count": 8,
   "metadata": {
    "tags": [
     "remove_input"
    ]
   },
   "outputs": [
    {
     "data": {
      "text/html": [
       "<style> table th {color: white;\n",
       "    background: #204990; text-overflow: ellipsis; overflow: elipsis; font-size: 0.6vw; }\n",
       "    table td { text-overflow: ellipsis; overflow: elipsis; font-size: 0.6vw;}</style>\n",
       "<div class=\"itables\">\n",
       "<table id=\"c9694c08-4416-47b1-a844-f00d9395b807\" class=\"display compact\"style=\"table-layout:auto;width:auto;max-width:100%;text-align:center;caption-side:bottom\"><thead>\n",
       "    <tr style=\"text-align: right;\">\n",
       "      \n",
       "      <th>VendorID</th>\n",
       "      <th>tpep_pickup_datetime</th>\n",
       "      <th>tpep_dropoff_datetime</th>\n",
       "      <th>passenger_count</th>\n",
       "      <th>trip_distance</th>\n",
       "      <th>RatecodeID</th>\n",
       "      <th>store_and_fwd_flag</th>\n",
       "      <th>PULocationID</th>\n",
       "      <th>DOLocationID</th>\n",
       "      <th>payment_type</th>\n",
       "      <th>fare_amount</th>\n",
       "      <th>extra</th>\n",
       "      <th>mta_tax</th>\n",
       "      <th>tip_amount</th>\n",
       "      <th>tolls_amount</th>\n",
       "      <th>improvement_surcharge</th>\n",
       "      <th>total_amount</th>\n",
       "      <th>congestion_surcharge</th>\n",
       "      <th>airport_fee</th>\n",
       "      <th>duration</th>\n",
       "    </tr>\n",
       "  </thead><tbody><tr><td>Loading... (need <a href=https://mwouts.github.io/itables/troubleshooting.html>help</a>?)</td></tr></tbody></table>\n",
       "<link rel=\"stylesheet\" type=\"text/css\" href=\"https://cdn.datatables.net/1.13.1/css/jquery.dataTables.min.css\">\n",
       "<script type=\"module\">\n",
       "    // Import jquery and DataTable\n",
       "    import 'https://code.jquery.com/jquery-3.6.0.min.js';\n",
       "    import dt from 'https://cdn.datatables.net/1.12.1/js/jquery.dataTables.mjs';\n",
       "    dt($);\n",
       "\n",
       "    // Define the table data\n",
       "    const data = [[1, \"2022-01-01 00:35:40\", \"2022-01-01 00:53:29\", 2.0, 3.8, 1.0, \"N\", \"142\", \"236\", 1, 14.5, 3.0, 0.5, 3.65, 0.0, 0.3, 21.95, 2.5, 0.0, 17.82], [1, \"2022-01-01 00:33:43\", \"2022-01-01 00:42:07\", 1.0, 2.1, 1.0, \"N\", \"236\", \"42\", 1, 8.0, 0.5, 0.5, 4.0, 0.0, 0.3, 13.3, 0.0, 0.0, 8.4], [2, \"2022-01-01 00:53:21\", \"2022-01-01 01:02:19\", 1.0, 0.97, 1.0, \"N\", \"166\", \"166\", 1, 7.5, 0.5, 0.5, 1.76, 0.0, 0.3, 10.56, 0.0, 0.0, 8.97], [2, \"2022-01-01 00:25:21\", \"2022-01-01 00:35:23\", 1.0, 1.09, 1.0, \"N\", \"114\", \"68\", 2, 8.0, 0.5, 0.5, 0.0, 0.0, 0.3, 11.8, 2.5, 0.0, 10.03], [2, \"2022-01-01 00:36:48\", \"2022-01-01 01:14:20\", 1.0, 4.3, 1.0, \"N\", \"68\", \"163\", 1, 23.5, 0.5, 0.5, 3.0, 0.0, 0.3, 30.3, 2.5, 0.0, 37.53]];\n",
       "\n",
       "    // Define the dt_args\n",
       "    let dt_args = {\"autoWidth\": false, \"columnDefs\": [{\"className\": \"dt-center\", \"targets\": \"_all\"}], \"order\": [], \"dom\": \"t\"};\n",
       "    dt_args[\"data\"] = data;\n",
       "\n",
       "    $(document).ready(function () {\n",
       "        \n",
       "        $('#c9694c08-4416-47b1-a844-f00d9395b807').DataTable(dt_args);\n",
       "    });\n",
       "</script>\n",
       "</div>\n"
      ],
      "text/plain": [
       "<IPython.core.display.HTML object>"
      ]
     },
     "metadata": {},
     "output_type": "display_data"
    }
   ],
   "source": [
    "jan_df = import_transform_validate(jan_data)\n",
    "feb_df = import_transform_validate(feb_data)\n",
    "render_itable(jan_df.head())"
   ]
  },
  {
   "attachments": {},
   "cell_type": "markdown",
   "metadata": {},
   "source": [
    "\n",
    "## Q2. Computing duration\n",
    "Now let's compute the duration variable. It should contain the duration of a ride in minutes.\n",
    "\n",
    "What's the standard deviation of the trips duration in January?\n",
    "\n",
    "__Answer__ \n",
    "\n",
    "Using the describe method we can see that the standard deviation od the `duration` column is __46.45 minutes.__\n"
   ]
  },
  {
   "cell_type": "code",
   "execution_count": 9,
   "metadata": {
    "tags": [
     "remove_input"
    ]
   },
   "outputs": [
    {
     "data": {
      "text/html": [
       "<style> table th {color: white;\n",
       "    background: #204990; text-overflow: ellipsis; overflow: elipsis; font-size: 0.6vw; }\n",
       "    table td { text-overflow: ellipsis; overflow: elipsis; font-size: 0.6vw;}</style>\n",
       "<div class=\"itables\">\n",
       "<table id=\"131a97ba-a4be-4418-9301-f803ebacd4c5\" class=\"display compact\"style=\"table-layout:auto;width:auto;max-width:100%;text-align:center;caption-side:bottom\"><thead>\n",
       "    <tr style=\"text-align: right;\">\n",
       "      <th></th>\n",
       "      <th>VendorID</th>\n",
       "      <th>passenger_count</th>\n",
       "      <th>trip_distance</th>\n",
       "      <th>RatecodeID</th>\n",
       "      <th>payment_type</th>\n",
       "      <th>fare_amount</th>\n",
       "      <th>extra</th>\n",
       "      <th>mta_tax</th>\n",
       "      <th>tip_amount</th>\n",
       "      <th>tolls_amount</th>\n",
       "      <th>improvement_surcharge</th>\n",
       "      <th>total_amount</th>\n",
       "      <th>congestion_surcharge</th>\n",
       "      <th>airport_fee</th>\n",
       "      <th>duration</th>\n",
       "    </tr>\n",
       "  </thead><tbody><tr><td>Loading... (need <a href=https://mwouts.github.io/itables/troubleshooting.html>help</a>?)</td></tr></tbody></table>\n",
       "<link rel=\"stylesheet\" type=\"text/css\" href=\"https://cdn.datatables.net/1.13.1/css/jquery.dataTables.min.css\">\n",
       "<script type=\"module\">\n",
       "    // Import jquery and DataTable\n",
       "    import 'https://code.jquery.com/jquery-3.6.0.min.js';\n",
       "    import dt from 'https://cdn.datatables.net/1.12.1/js/jquery.dataTables.mjs';\n",
       "    dt($);\n",
       "\n",
       "    // Define the table data\n",
       "    const data = [[\"count\", 2463931.0, 2392428.0, 2463931.0, 2392428.0, 2463931.0, 2463931.0, 2463931.0, 2463931.0, 2463931.0, 2463931.0, 2463931.0, 2463931.0, 2392428.0, 2392428.0, 2463931.0], [\"mean\", 1.71, 1.39, 5.37, 1.42, 1.19, 12.95, 1.01, 0.49, 2.39, 0.37, 0.3, 19.17, 2.28, 0.08, 14.21], [\"std\", 0.5, 0.98, 547.87, 5.92, 0.5, 255.81, 1.24, 0.08, 2.83, 1.68, 0.04, 255.96, 0.74, 0.31, 46.45], [\"min\", 1.0, 0.0, 0.0, 1.0, 0.0, -480.0, -4.5, -0.5, -125.22, -31.4, -0.3, -480.3, -2.5, -1.25, -3442.4], [\"25%\", 1.0, 1.0, 1.04, 1.0, 1.0, 6.5, 0.0, 0.5, 0.72, 0.0, 0.3, 11.3, 2.5, 0.0, 6.32], [\"50%\", 2.0, 1.0, 1.74, 1.0, 1.0, 9.0, 0.5, 0.5, 2.0, 0.0, 0.3, 14.69, 2.5, 0.0, 10.18], [\"75%\", 2.0, 1.0, 3.13, 1.0, 1.0, 14.0, 2.5, 0.5, 3.0, 0.0, 0.3, 20.02, 2.5, 0.0, 16.17], [\"max\", 6.0, 9.0, 306159.28, 99.0, 5.0, 401092.32, 33.5, 16.59, 888.88, 193.3, 0.3, 401095.62, 2.5, 1.25, 8513.18]];\n",
       "\n",
       "    // Define the dt_args\n",
       "    let dt_args = {\"columnDefs\": [{\"className\": \"dt-center\", \"targets\": \"_all\"}], \"order\": [], \"dom\": \"t\"};\n",
       "    dt_args[\"data\"] = data;\n",
       "\n",
       "    $(document).ready(function () {\n",
       "        \n",
       "        $('#131a97ba-a4be-4418-9301-f803ebacd4c5').DataTable(dt_args);\n",
       "    });\n",
       "</script>\n",
       "</div>\n"
      ],
      "text/plain": [
       "        VendorID  passenger_count  trip_distance  RatecodeID  payment_type  \\\n",
       "count 2463931.00       2392428.00     2463931.00  2392428.00    2463931.00   \n",
       "mean        1.71             1.39           5.37        1.42          1.19   \n",
       "std         0.50             0.98         547.87        5.92          0.50   \n",
       "min         1.00             0.00           0.00        1.00          0.00   \n",
       "25%         1.00             1.00           1.04        1.00          1.00   \n",
       "50%         2.00             1.00           1.74        1.00          1.00   \n",
       "75%         2.00             1.00           3.13        1.00          1.00   \n",
       "max         6.00             9.00      306159.28       99.00          5.00   \n",
       "\n",
       "       fare_amount      extra    mta_tax  tip_amount  tolls_amount  \\\n",
       "count   2463931.00 2463931.00 2463931.00  2463931.00    2463931.00   \n",
       "mean         12.95       1.01       0.49        2.39          0.37   \n",
       "std         255.81       1.24       0.08        2.83          1.68   \n",
       "min        -480.00      -4.50      -0.50     -125.22        -31.40   \n",
       "25%           6.50       0.00       0.50        0.72          0.00   \n",
       "50%           9.00       0.50       0.50        2.00          0.00   \n",
       "75%          14.00       2.50       0.50        3.00          0.00   \n",
       "max      401092.32      33.50      16.59      888.88        193.30   \n",
       "\n",
       "       improvement_surcharge  total_amount  congestion_surcharge  airport_fee  \\\n",
       "count             2463931.00    2463931.00            2392428.00   2392428.00   \n",
       "mean                    0.30         19.17                  2.28         0.08   \n",
       "std                     0.04        255.96                  0.74         0.31   \n",
       "min                    -0.30       -480.30                 -2.50        -1.25   \n",
       "25%                     0.30         11.30                  2.50         0.00   \n",
       "50%                     0.30         14.69                  2.50         0.00   \n",
       "75%                     0.30         20.02                  2.50         0.00   \n",
       "max                     0.30     401095.62                  2.50         1.25   \n",
       "\n",
       "        duration  \n",
       "count 2463931.00  \n",
       "mean       14.21  \n",
       "std        46.45  \n",
       "min     -3442.40  \n",
       "25%         6.32  \n",
       "50%        10.18  \n",
       "75%        16.17  \n",
       "max      8513.18  "
      ]
     },
     "execution_count": 9,
     "metadata": {},
     "output_type": "execute_result"
    }
   ],
   "source": [
    "jan_df.describe()"
   ]
  },
  {
   "attachments": {},
   "cell_type": "markdown",
   "metadata": {},
   "source": [
    "## Q3. Dropping outliers\n",
    "Next, we need to check the distribution of the duration variable. There are some outliers. Let's remove them and keep only the records where the duration was between 1 and 60 minutes (inclusive).\n",
    "\n",
    "What fraction of the records left after you dropped the outliers?\n",
    "\n",
    "__Answer__ \n",
    "\n",
    "The fraction of records remaining after excluding those outliers is __98.28%__"
   ]
  },
  {
   "cell_type": "code",
   "execution_count": 10,
   "metadata": {
    "tags": [
     "remove_cell"
    ]
   },
   "outputs": [],
   "source": [
    "def remove_outliers(df: pd.DataFrame, filters: dict[str,dict[str,float]]) -> pd.DataFrame:\n",
    "    \"\"\"Function to remove outliers of a column based on two values\n",
    "\n",
    "    Args:\n",
    "        df (pd.DataFrame): Dataframe to remove outliers from\n",
    "        filters (dict[str,dict[str,float]]): Dictionary with column to filter with start and end values\n",
    "    Returns:\n",
    "        pd.DataFrame: filtered_dataframe\n",
    "    \"\"\"\n",
    "\n",
    "    df_filtered = df.copy()\n",
    "\n",
    "    for key, val in filters.items():\n",
    "        df_filtered = df_filtered[df_filtered[key].between(val['start'], val['end'], inclusive = val['inclusive'])]\n",
    "\n",
    "    return df_filtered"
   ]
  },
  {
   "cell_type": "code",
   "execution_count": 11,
   "metadata": {
    "tags": [
     "remove_input"
    ]
   },
   "outputs": [
    {
     "name": "stdout",
     "output_type": "stream",
     "text": [
      "Number of Rows Before: 2463931\n",
      "Number of Rows After: 2421440\n",
      "Fraction of Records Remain: 98.28%\n"
     ]
    }
   ],
   "source": [
    "jan_df_no_outliers = remove_outliers(jan_df, DURATION_FILTER)\n",
    "print(f'Number of Rows Before: {len(jan_df)}')\n",
    "print(f'Number of Rows After: {len(jan_df_no_outliers)}')\n",
    "print(f'Fraction of Records Remain: {len(jan_df_no_outliers)/ len(jan_df):.2%}')"
   ]
  },
  {
   "attachments": {},
   "cell_type": "markdown",
   "metadata": {},
   "source": [
    "\n",
    "## Q4. One-hot encoding\n",
    "Let's apply one-hot encoding to the pickup and dropoff location IDs. We'll use only these two features for our model.\n",
    "\n",
    "Turn the dataframe into a list of dictionaries\n",
    "Fit a dictionary vectorizer\n",
    "Get a feature matrix from it\n",
    "What's the dimensionality of this matrix (number of columns)?\n",
    "\n",
    "__Answer__ \n",
    "\n",
    "The dimensionality of the DictVectorizer after applying `fit_transform` is __515__"
   ]
  },
  {
   "cell_type": "code",
   "execution_count": 12,
   "metadata": {
    "tags": [
     "hide_cell",
     "hide_input"
    ]
   },
   "outputs": [
    {
     "name": "stdout",
     "output_type": "stream",
     "text": [
      "Number of features after using the DictVectorizer class is: 515\n"
     ]
    }
   ],
   "source": [
    "df_indep = jan_df_no_outliers[INDEP_VARS].to_dict(orient = 'records')\n",
    "df_dep = jan_df_no_outliers[TARGET_VAR]\n",
    "\n",
    "d_vect = DictVectorizer()\n",
    "df_indep_trans = d_vect.fit_transform(df_indep)\n",
    "\n",
    "print(f'Number of features after using the DictVectorizer class is: {len(d_vect.get_feature_names_out())}')"
   ]
  },
  {
   "attachments": {},
   "cell_type": "markdown",
   "metadata": {},
   "source": [
    "## Q5. Training a model\n",
    "Now let's use the feature matrix from the previous step to train a model.\n",
    "\n",
    "Train a plain linear regression model with default parameters\n",
    "Calculate the RMSE of the model on the training data\n",
    "What's the RMSE on train?\n",
    "\n",
    "__Answer__ \n"
   ]
  },
  {
   "cell_type": "code",
   "execution_count": 13,
   "metadata": {
    "tags": [
     "hide_cell",
     "hide_input"
    ]
   },
   "outputs": [
    {
     "name": "stdout",
     "output_type": "stream",
     "text": [
      "The RMSE of the trained model on the training set is 6.986190836477672\n"
     ]
    }
   ],
   "source": [
    "lr = LinearRegression()\n",
    "lr.fit(df_indep_trans, df_dep)\n",
    "print(f'The RMSE of the trained model on the training set is {mean_squared_error(df_dep, lr.predict(df_indep_trans), squared=False)}')"
   ]
  },
  {
   "attachments": {},
   "cell_type": "markdown",
   "metadata": {},
   "source": [
    "## Q6. Evaluating the model\n",
    "Now let's apply this model to the validation dataset (February 2022).\n",
    "\n",
    "What's the RMSE on validation?\n",
    "\n",
    "__Answer__ \n",
    "\n",
    "The RMSE on the validation set is __7.79__"
   ]
  },
  {
   "cell_type": "code",
   "execution_count": 14,
   "metadata": {
    "tags": [
     "hide_cell",
     "hide_input"
    ]
   },
   "outputs": [
    {
     "name": "stdout",
     "output_type": "stream",
     "text": [
      "The RMSE of the trained model on the training set is 7.78640879016696\n"
     ]
    }
   ],
   "source": [
    "feb_df_filtered = remove_outliers(feb_df, DURATION_FILTER)\n",
    "df_val_indep_trans_feb = d_vect.transform(feb_df_filtered[INDEP_VARS].to_dict(orient='records'))\n",
    "df_dep_feb = feb_df_filtered[TARGET_VAR]\n",
    "val_preds = lr.predict(df_val_indep_trans_feb)\n",
    "print(f'The RMSE of the trained model on the training set is {mean_squared_error(df_dep_feb, val_preds, squared=False)}')"
   ]
  },
  {
   "cell_type": "code",
   "execution_count": null,
   "metadata": {},
   "outputs": [],
   "source": []
  }
 ],
 "metadata": {
  "kernelspec": {
   "display_name": "base",
   "language": "python",
   "name": "python3"
  },
  "language_info": {
   "codemirror_mode": {
    "name": "ipython",
    "version": 3
   },
   "file_extension": ".py",
   "mimetype": "text/x-python",
   "name": "python",
   "nbconvert_exporter": "python",
   "pygments_lexer": "ipython3",
   "version": "3.10.9"
  },
  "orig_nbformat": 4
 },
 "nbformat": 4,
 "nbformat_minor": 2
}
