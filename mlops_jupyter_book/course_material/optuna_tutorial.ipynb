{
 "cells": [
  {
   "attachments": {},
   "cell_type": "markdown",
   "metadata": {},
   "source": [
    "# Module 2 - Optuna for Hyperparameter Tuning\n",
    "In this section we discuss how to use [Optuna](https://optuna.org/) to optimise the hyperparameters of our models. Optuna also hgas integrations with MLflow so we will see how it interacts with that to log experiments too!"
   ]
  },
  {
   "attachments": {},
   "cell_type": "markdown",
   "metadata": {},
   "source": [
    "## Why Optuna?\n",
    "\n",
    "Optuna is seen to be the gold standard in hyperparameter tuning, outshining the like of sklearn, skopt and hyperopt because it plugs gaps that all of these have (such as visualisations, integrations, bayesian search etc). Optuna has a very similar API to what hyperopt has so if you want to make the switch it should be fairly straight forward. \n",
    "\n",
    "Optuna has built itself on 5 pillar that make it stand out as a hyperparameter optimisation module:\n",
    "\n",
    "1. Lightweight, versatile, and platform agnostic architecture\n",
    "    - Handle a wide variety of tasks with a simple installation that has few requirements.\n",
    "2. Pythonic search spaces\n",
    "    - Define search spaces using familiar Python syntax including conditionals and loops.\n",
    "3. Efficient optimization algorithms\n",
    "    - Adopt state-of-the-art algorithms for sampling hyperparameters and efficiently pruning unpromising trials.\n",
    "4. Easy parallelization\n",
    "    - Scale studies to tens or hundreds or workers with little or no changes to the code.\n",
    "5. Quick visualization\n",
    "    - Inspect optimization histories from a variety of plotting functions."
   ]
  },
  {
   "cell_type": "code",
   "execution_count": 1,
   "metadata": {
    "tags": [
     "remove_cell"
    ]
   },
   "outputs": [],
   "source": [
    "import sys\n",
    "\n",
    "sys.path.append(\"/home/ubuntu/sh-mlops-zoomcamp/mlops_jupyter_book\")\n",
    "from utils.utils import ROOT_DIR, render_itable, init_jb_table_style\n",
    "from itables import init_notebook_mode\n",
    "import optuna\n",
    "import sklearn\n",
    "from plotly.subplots import make_subplots\n",
    "import plotly.graph_objects as go\n",
    "from sklearn.ensemble import RandomForestRegressor\n",
    "from sklearn.svm import SVR\n",
    "from sklearn.datasets import fetch_california_housing\n",
    "import os\n",
    "\n",
    "init_jb_table_style()\n",
    "init_notebook_mode(all_interactive=True, connected=True)"
   ]
  },
  {
   "attachments": {},
   "cell_type": "markdown",
   "metadata": {},
   "source": [
    "## Ok Sounds Great, How Does it Work?\n",
    "Optuna runs on basically 2 things, an `Objective` and a `Study` and we define both of these.\n",
    "\n",
    "### Objective\n",
    "Think of an objective as what we are trying to solve for. Usually this means we are trying to minimise or maximise a value (Log Loss, RMSE etc.). What the objective returns is the value of what we are trying to minimise/maximise and within the objective this is also where we define the search spaces for all of our hyperparameters:\n",
    "- Objective returns the value we want to maximise / minimise\n",
    "- Objective also defines the search space for all of our parameters\n",
    "\n",
    "### Study\n",
    "A study is where we put our objective into practice and run _n_ number of `Trials` on the objective function, each trial trying new hyperparameters to find the best ones for our objective.\n",
    "\n",
    "The larger the number of trials the longer the optimisation will take but the more confident you'll be that you have found the best combination (given the search spaces defined in the objective!) "
   ]
  },
  {
   "attachments": {},
   "cell_type": "markdown",
   "metadata": {},
   "source": [
    "## Different Search Spaces in Optuna\n",
    "\n",
    "Below is a quick list of the different search spaces in Optuna and what they represent:\n",
    "\n",
    "if your objective has a `trial` parameter, you can use the `suggest` functions\n",
    "- suggest_int(name, low, high, step=1, log=False) -> Random integer betwen low and high, step and log optional\n",
    "- suggest_categorical(name: str, choices: Sequence[None | bool | int | float | str]) -> random category from provided values. Can be both strings or numbers\n",
    "- suggest_float(name, low, high, *, step=None, log=False) -> Random float betwen low and high, step and log optional\n",
    "\n",
    "If you are using Optuna with one of it's integrations or there is no `trial` element you can use it's distrubtions to pass to the integration:\n",
    "- optuna.distributions.IntDistribution(low, high, log=False, step=1)\n",
    "- optuna.distributions.CategoricalDistribution(choices)\n",
    "- optuna.distributions.FloatDistribution(low, high, log=False, step=None)\n"
   ]
  },
  {
   "cell_type": "code",
   "execution_count": 2,
   "metadata": {
    "tags": [
     "hide_input"
    ]
   },
   "outputs": [
    {
     "name": "stderr",
     "output_type": "stream",
     "text": [
      "[I 2023-06-05 00:16:12,510] A new study created in memory with name: no-name-bbc7c957-74af-4ed8-8508-05f0261f08a6\n"
     ]
    },
    {
     "data": {
      "application/vnd.jupyter.widget-view+json": {
       "model_id": "517d6c3ac4354a159729268848073814",
       "version_major": 2,
       "version_minor": 0
      },
      "text/plain": [
       "  0%|          | 0/10 [00:00<?, ?it/s]"
      ]
     },
     "metadata": {},
     "output_type": "display_data"
    },
    {
     "name": "stdout",
     "output_type": "stream",
     "text": [
      "[I 2023-06-05 00:16:19,314] Trial 0 finished with value: 0.33047156633286323 and parameters: {'regressor': 'RandomForest', 'rf_max_depth': 9}. Best is trial 0 with value: 0.33047156633286323.\n",
      "[I 2023-06-05 00:16:26,096] Trial 4 finished with value: 0.3307464950107637 and parameters: {'regressor': 'RandomForest', 'rf_max_depth': 9}. Best is trial 0 with value: 0.33047156633286323.\n",
      "[I 2023-06-05 00:16:31,725] Trial 3 finished with value: 1.3652234231503118 and parameters: {'regressor': 'SVR', 'svr_c': 0.38110068482016557}. Best is trial 0 with value: 0.33047156633286323.\n",
      "[I 2023-06-05 00:16:31,955] Trial 1 finished with value: 1.2776235719424631 and parameters: {'regressor': 'SVR', 'svr_c': 3.30629516406425}. Best is trial 0 with value: 0.33047156633286323.\n",
      "[I 2023-06-05 00:16:32,632] Trial 2 finished with value: 0.9628589165378122 and parameters: {'regressor': 'SVR', 'svr_c': 20.724974309108617}. Best is trial 0 with value: 0.33047156633286323.\n",
      "[I 2023-06-05 00:16:34,246] Trial 5 finished with value: 0.31314997691299934 and parameters: {'regressor': 'RandomForest', 'rf_max_depth': 10}. Best is trial 5 with value: 0.31314997691299934.\n",
      "[I 2023-06-05 00:16:37,887] Trial 9 finished with value: 0.5381362628049817 and parameters: {'regressor': 'RandomForest', 'rf_max_depth': 4}. Best is trial 5 with value: 0.31314997691299934.\n",
      "[I 2023-06-05 00:16:41,337] Trial 7 finished with value: 0.28476742790597126 and parameters: {'regressor': 'RandomForest', 'rf_max_depth': 13}. Best is trial 7 with value: 0.28476742790597126.\n",
      "[I 2023-06-05 00:16:50,078] Trial 6 finished with value: 0.7426363712949804 and parameters: {'regressor': 'SVR', 'svr_c': 52.36429505724733}. Best is trial 7 with value: 0.28476742790597126.\n",
      "[I 2023-06-05 00:16:51,157] Trial 8 finished with value: 1.3740981827844005 and parameters: {'regressor': 'SVR', 'svr_c': 0.17093070207804176}. Best is trial 7 with value: 0.28476742790597126.\n"
     ]
    }
   ],
   "source": [
    "# Define an objective function to be minimized.\n",
    "def objective(trial):\n",
    "    # Invoke suggest methods of a Trial object to generate hyperparameters.\n",
    "    regressor_name = trial.suggest_categorical(\"regressor\", [\"SVR\", \"RandomForest\"])\n",
    "    if regressor_name == \"SVR\":\n",
    "        svr_c = trial.suggest_float(\"svr_c\", 1e-2, 1e2, log=True)\n",
    "        # svr_kernel = trial.suggest_categorical(\"kernel\", [\"linear\", \"poly\", \"rbf\"])\n",
    "        regressor_obj = SVR(C=svr_c)\n",
    "    else:\n",
    "        rf_max_depth = trial.suggest_int(\"rf_max_depth\", 2, 16)\n",
    "        regressor_obj = RandomForestRegressor(max_depth=rf_max_depth)\n",
    "\n",
    "    X, y = fetch_california_housing(return_X_y=True)\n",
    "    X_train, X_val, y_train, y_val = sklearn.model_selection.train_test_split(X, y, random_state=0)\n",
    "\n",
    "    regressor_obj.fit(X_train, y_train)\n",
    "    y_pred = regressor_obj.predict(X_val)\n",
    "\n",
    "    error = sklearn.metrics.mean_squared_error(y_val, y_pred)\n",
    "\n",
    "    return error  # An objective value linked with the Trial object.\n",
    "\n",
    "\n",
    "study = optuna.create_study()  # Create a new study.\n",
    "study.optimize(\n",
    "    objective, n_trials=10, show_progress_bar=True, n_jobs=-1\n",
    ")  # Invoke optimization of the objective function."
   ]
  },
  {
   "cell_type": "code",
   "execution_count": 3,
   "metadata": {
    "tags": [
     "remove_input"
    ]
   },
   "outputs": [
    {
     "name": "stdout",
     "output_type": "stream",
     "text": [
      " Best params: {'regressor': 'RandomForest', 'rf_max_depth': 13} \n",
      " Best_value: 0.28476742790597126 \n"
     ]
    }
   ],
   "source": [
    "print(f\" Best params: {study.best_params} \\n Best_value: {study.best_value} \")"
   ]
  },
  {
   "attachments": {},
   "cell_type": "markdown",
   "metadata": {},
   "source": [
    "## Using Optuna with MLflow\n",
    "Optuna has integrations with a [bunch of different 3rd party libraries](https://optuna.readthedocs.io/en/stable/reference/integration.html) such as sklearn, MLflow, W&B etc. \n",
    "The MLflow integration allows you to log all of the experiments run into your mlflow server"
   ]
  },
  {
   "cell_type": "code",
   "execution_count": 4,
   "metadata": {
    "tags": [
     "remove_output",
     "hide_input"
    ]
   },
   "outputs": [
    {
     "name": "stdout",
     "output_type": "stream",
     "text": [
      "env: MLFLOW_TRACKING_URI=sqlite:///mlflow.db\n"
     ]
    },
    {
     "data": {
      "text/plain": [
       "<Experiment: artifact_location='/home/ubuntu/sh-mlops-zoomcamp/mlruns/4', creation_time=1685826086193, experiment_id='4', last_update_time=1685826086193, lifecycle_stage='active', name='optuna_test', tags={}>"
      ]
     },
     "execution_count": 4,
     "metadata": {},
     "output_type": "execute_result"
    }
   ],
   "source": [
    "# Setting the tracking uri database to use and also setting the experiment name\n",
    "# If the experiment exists then we log in to that experiment. If not, it creates a new experiment\n",
    "import mlflow\n",
    "from optuna.integration.mlflow import MLflowCallback\n",
    "\n",
    "experiment_name = \"optuna_test\"\n",
    "mlflow.set_tracking_uri(\"sqlite:///mlflow.db\")\n",
    "mlflow.set_experiment(experiment_name)"
   ]
  },
  {
   "cell_type": "code",
   "execution_count": 5,
   "metadata": {
    "tags": [
     "remove_output"
    ]
   },
   "outputs": [
    {
     "name": "stderr",
     "output_type": "stream",
     "text": [
      "/tmp/ipykernel_1640/3363804102.py:1: ExperimentalWarning:\n",
      "\n",
      "MLflowCallback is experimental (supported from v1.4.0). The interface can change in the future.\n",
      "\n"
     ]
    }
   ],
   "source": [
    "mlflc = MLflowCallback(\n",
    "    tracking_uri=os.environ.get(\"MLFLOW_TRACKING_URI\"),\n",
    "    metric_name=\"mean_squared_error\",\n",
    ")"
   ]
  },
  {
   "cell_type": "code",
   "execution_count": 6,
   "metadata": {
    "tags": [
     "hide_input"
    ]
   },
   "outputs": [
    {
     "name": "stderr",
     "output_type": "stream",
     "text": [
      "/tmp/ipykernel_1640/8800801.py:2: ExperimentalWarning:\n",
      "\n",
      "track_in_mlflow is experimental (supported from v2.9.0). The interface can change in the future.\n",
      "\n",
      "[I 2023-06-05 00:16:52,272] A new study created in memory with name: optuna_test\n"
     ]
    },
    {
     "data": {
      "application/vnd.jupyter.widget-view+json": {
       "model_id": "4a9414b5b5944741b859f8b2906bfaaa",
       "version_major": 2,
       "version_minor": 0
      },
      "text/plain": [
       "  0%|          | 0/20 [00:00<?, ?it/s]"
      ]
     },
     "metadata": {},
     "output_type": "display_data"
    },
    {
     "name": "stderr",
     "output_type": "stream",
     "text": [
      "/home/ubuntu/anaconda3/lib/python3.10/site-packages/_distutils_hack/__init__.py:33: UserWarning:\n",
      "\n",
      "Setuptools is replacing distutils.\n",
      "\n"
     ]
    },
    {
     "name": "stdout",
     "output_type": "stream",
     "text": [
      "[I 2023-06-05 00:17:13,595] Trial 0 finished with value: 0.9964742184325133 and parameters: {'regressor': 'SVR', 'svr_c': 18.214176515999654}. Best is trial 0 with value: 0.9964742184325133.\n",
      "[I 2023-06-05 00:17:19,558] Trial 1 finished with value: 0.47999287347127256 and parameters: {'regressor': 'RandomForest', 'rf_max_depth': 5}. Best is trial 1 with value: 0.47999287347127256.\n",
      "[I 2023-06-05 00:17:24,836] Trial 2 finished with value: 0.5371519934604444 and parameters: {'regressor': 'RandomForest', 'rf_max_depth': 4}. Best is trial 1 with value: 0.47999287347127256.\n",
      "[I 2023-06-05 00:17:38,615] Trial 3 finished with value: 0.27155540343253526 and parameters: {'regressor': 'RandomForest', 'rf_max_depth': 28}. Best is trial 3 with value: 0.27155540343253526.\n",
      "[I 2023-06-05 00:17:58,842] Trial 4 finished with value: 1.3799042769133372 and parameters: {'regressor': 'SVR', 'svr_c': 0.040151985047117054}. Best is trial 3 with value: 0.27155540343253526.\n",
      "[I 2023-06-05 00:18:12,687] Trial 5 finished with value: 0.27321322132654674 and parameters: {'regressor': 'RandomForest', 'rf_max_depth': 30}. Best is trial 3 with value: 0.27155540343253526.\n",
      "[I 2023-06-05 00:18:20,565] Trial 6 finished with value: 0.3543311299914989 and parameters: {'regressor': 'RandomForest', 'rf_max_depth': 8}. Best is trial 3 with value: 0.27155540343253526.\n",
      "[I 2023-06-05 00:18:41,926] Trial 7 finished with value: 1.3773072401967148 and parameters: {'regressor': 'SVR', 'svr_c': 0.09864924462996498}. Best is trial 3 with value: 0.27155540343253526.\n",
      "[I 2023-06-05 00:18:48,104] Trial 8 finished with value: 0.4761852186689486 and parameters: {'regressor': 'RandomForest', 'rf_max_depth': 5}. Best is trial 3 with value: 0.27155540343253526.\n",
      "[I 2023-06-05 00:19:02,086] Trial 9 finished with value: 0.27265588763658516 and parameters: {'regressor': 'RandomForest', 'rf_max_depth': 31}. Best is trial 3 with value: 0.27155540343253526.\n",
      "[I 2023-06-05 00:19:23,081] Trial 10 finished with value: 0.6595522288507566 and parameters: {'regressor': 'SVR', 'svr_c': 92.22895830782406}. Best is trial 3 with value: 0.27155540343253526.\n",
      "[I 2023-06-05 00:19:37,051] Trial 11 finished with value: 0.27330630624057506 and parameters: {'regressor': 'RandomForest', 'rf_max_depth': 32}. Best is trial 3 with value: 0.27155540343253526.\n",
      "[I 2023-06-05 00:19:51,512] Trial 12 finished with value: 0.2770560063071193 and parameters: {'regressor': 'RandomForest', 'rf_max_depth': 23}. Best is trial 3 with value: 0.27155540343253526.\n",
      "[I 2023-06-05 00:20:05,194] Trial 13 finished with value: 0.2725765429099849 and parameters: {'regressor': 'RandomForest', 'rf_max_depth': 23}. Best is trial 3 with value: 0.27155540343253526.\n",
      "[I 2023-06-05 00:20:18,833] Trial 14 finished with value: 0.27341672460332395 and parameters: {'regressor': 'RandomForest', 'rf_max_depth': 21}. Best is trial 3 with value: 0.27155540343253526.\n",
      "[I 2023-06-05 00:20:32,459] Trial 15 finished with value: 0.27368843172643276 and parameters: {'regressor': 'RandomForest', 'rf_max_depth': 24}. Best is trial 3 with value: 0.27155540343253526.\n",
      "[I 2023-06-05 00:20:44,312] Trial 16 finished with value: 0.28049607860124676 and parameters: {'regressor': 'RandomForest', 'rf_max_depth': 14}. Best is trial 3 with value: 0.27155540343253526.\n",
      "[I 2023-06-05 00:20:58,333] Trial 17 finished with value: 0.27228623876656893 and parameters: {'regressor': 'RandomForest', 'rf_max_depth': 26}. Best is trial 3 with value: 0.27155540343253526.\n",
      "[I 2023-06-05 00:21:18,726] Trial 18 finished with value: 1.3140986684139406 and parameters: {'regressor': 'SVR', 'svr_c': 1.959094952475857}. Best is trial 3 with value: 0.27155540343253526.\n",
      "[I 2023-06-05 00:21:32,738] Trial 19 finished with value: 0.27361407410567234 and parameters: {'regressor': 'RandomForest', 'rf_max_depth': 27}. Best is trial 3 with value: 0.27155540343253526.\n"
     ]
    }
   ],
   "source": [
    "# Define an objective function to be minimized and track it in ml_flow\n",
    "@mlflc.track_in_mlflow()\n",
    "def objective(trial):\n",
    "    # Invoke suggest methods of a Trial object to generate hyperparameters.\n",
    "    regressor_name = trial.suggest_categorical(\"regressor\", [\"SVR\", \"RandomForest\"])\n",
    "    if regressor_name == \"SVR\":\n",
    "        svr_c = trial.suggest_float(\"svr_c\", 1e-2, 1e2, log=True)\n",
    "        regressor_obj = SVR(C=svr_c)\n",
    "    else:\n",
    "        rf_max_depth = trial.suggest_int(\"rf_max_depth\", 2, 32)\n",
    "        regressor_obj = RandomForestRegressor(max_depth=rf_max_depth)\n",
    "\n",
    "    X, y = fetch_california_housing(return_X_y=True)\n",
    "    X_train, X_val, y_train, y_val = sklearn.model_selection.train_test_split(X, y, random_state=0)\n",
    "    mlflow.log_param(\"model\", regressor_name)\n",
    "    mlflow.log_params(regressor_obj.get_params(deep=True))\n",
    "    regressor_obj.fit(X_train, y_train)\n",
    "    y_pred = regressor_obj.predict(X_val)\n",
    "\n",
    "    error = sklearn.metrics.mean_squared_error(y_val, y_pred)\n",
    "    mlflow.log_metric(\"mse\", error)\n",
    "    mlflow.sklearn.log_model(regressor_obj, \"model\")\n",
    "\n",
    "    return error  # An objective value linked with the Trial object.\n",
    "\n",
    "\n",
    "study = optuna.create_study(\n",
    "    study_name=experiment_name, pruner=optuna.pruners.HyperbandPruner(), direction=\"minimize\"\n",
    ")  # Create a new study.\n",
    "study.optimize(\n",
    "    objective, n_trials=20, show_progress_bar=True, n_jobs=-1, callbacks=[mlflc]\n",
    ")  # Add the mlflow callback to the study."
   ]
  },
  {
   "attachments": {},
   "cell_type": "markdown",
   "metadata": {},
   "source": [
    "```{admonition} Accessing MLflow Models\n",
    ":class: tip\n",
    "After you are finished with an experiment you can extract all the results and put them into a dataframe for easy viewing!\n",
    "The `mlflow.search_runs()` method will write everything to a dataframe and then you can use this to find specific run_ids\n",
    "to use in later parts of your code\n",
    "'''"
   ]
  },
  {
   "cell_type": "code",
   "execution_count": 7,
   "metadata": {
    "tags": [
     "remove_input"
    ]
   },
   "outputs": [
    {
     "name": "stdout",
     "output_type": "stream",
     "text": [
      "best model run id = 50407ff6ae594a87b5f2081254fda3db\n"
     ]
    }
   ],
   "source": [
    "df = mlflow.search_runs()\n",
    "best_model_run_id = df[df[\"metrics.mse\"] == df[\"metrics.mse\"].min()][\"run_id\"].values[0]\n",
    "print(f\"best model run id = {best_model_run_id}\")"
   ]
  },
  {
   "cell_type": "code",
   "execution_count": 68,
   "metadata": {
    "tags": [
     "remove_input"
    ]
   },
   "outputs": [
    {
     "data": {
      "text/plain": [
       "4.4283009000000035"
      ]
     },
     "execution_count": 68,
     "metadata": {},
     "output_type": "execute_result"
    }
   ],
   "source": [
    "# Inference after loading the logged model\n",
    "model_uri = \"runs:/{}/model\".format(best_model_run_id)\n",
    "loaded_model = mlflow.sklearn.load_model(model_uri)\n",
    "\n",
    "X, y = fetch_california_housing(return_X_y=True)\n",
    "loaded_model.predict(X)[0]"
   ]
  },
  {
   "attachments": {},
   "cell_type": "markdown",
   "metadata": {},
   "source": [
    "# Additional Optuna Features\n",
    "\n",
    "## Pruning\n",
    "[Pruning](https://optuna.readthedocs.io/en/v2.0.0/tutorial/pruning.html) is a fantastic feature in Optuna that allows early stopping if a particular set of hyperparameters seems to be far worse than the best configuration we have already found. It works by looking at each step of a model being trained and assess its performance, comparing it to the perfromance of our previous models at the same step. This is a great way to remove redundant trials and speed up the hyperparameter search\n",
    "\n",
    "This works for any model that learns incrementally and that we can access these incremental steps. Examples are:\n",
    "- SGD Regressor / Classifiers\n",
    "- XGBoost\n",
    "- Pytorch\n",
    "- catboost etc.\n",
    "\n",
    "__NOTE__: You can implement pruning for other models such as Random Forest, Linear Reg etc. in Sklearn, the issue is there is no partial observability so you only know if the trial should be pruned or not after the trial is finished which defeats the purpose"
   ]
  },
  {
   "cell_type": "code",
   "execution_count": 61,
   "metadata": {
    "tags": [
     "hide_input"
    ]
   },
   "outputs": [
    {
     "name": "stderr",
     "output_type": "stream",
     "text": [
      "[I 2023-06-05 00:28:57,657] A new study created in memory with name: no-name-1b81733e-dcef-43ac-a6dd-0b26a733f811\n"
     ]
    },
    {
     "data": {
      "application/vnd.jupyter.widget-view+json": {
       "model_id": "41c526f11b1b4f03ad0a493e76fccc79",
       "version_major": 2,
       "version_minor": 0
      },
      "text/plain": [
       "  0%|          | 0/20 [00:00<?, ?it/s]"
      ]
     },
     "metadata": {},
     "output_type": "display_data"
    },
    {
     "name": "stdout",
     "output_type": "stream",
     "text": [
      "[I 2023-06-05 00:28:58,723] Trial 1 finished with value: 0.26315789473684215 and parameters: {'alpha': 0.009436863669364146, 'loss': 'perceptron'}. Best is trial 1 with value: 0.26315789473684215.\n",
      "[I 2023-06-05 00:28:59,087] Trial 3 finished with value: 0.42105263157894735 and parameters: {'alpha': 0.06635642546476274, 'loss': 'huber'}. Best is trial 1 with value: 0.26315789473684215.\n",
      "[I 2023-06-05 00:28:59,206] Trial 2 finished with value: 0.3421052631578947 and parameters: {'alpha': 0.05662170987898821, 'loss': 'log_loss'}. Best is trial 1 with value: 0.26315789473684215.\n",
      "[I 2023-06-05 00:28:59,417] Trial 0 finished with value: 0.13157894736842102 and parameters: {'alpha': 0.007637790576813233, 'loss': 'log_loss'}. Best is trial 0 with value: 0.13157894736842102.\n",
      "[I 2023-06-05 00:28:59,719] Trial 4 finished with value: 0.10526315789473684 and parameters: {'alpha': 0.027904362274394405, 'loss': 'perceptron'}. Best is trial 4 with value: 0.10526315789473684.\n",
      "[I 2023-06-05 00:28:59,734] Trial 7 pruned. \n",
      "[I 2023-06-05 00:28:59,739] Trial 5 pruned. \n",
      "[I 2023-06-05 00:28:59,865] Trial 8 pruned. \n",
      "[I 2023-06-05 00:28:59,911] Trial 9 pruned. \n",
      "[I 2023-06-05 00:29:00,015] Trial 12 pruned. \n",
      "[I 2023-06-05 00:29:00,020] Trial 11 pruned. \n",
      "[I 2023-06-05 00:29:00,199] Trial 14 pruned. \n",
      "[I 2023-06-05 00:29:00,295] Trial 6 finished with value: 0.23684210526315785 and parameters: {'alpha': 0.017588828779930062, 'loss': 'hinge'}. Best is trial 4 with value: 0.10526315789473684.\n",
      "[I 2023-06-05 00:29:00,427] Trial 15 pruned. \n",
      "[I 2023-06-05 00:29:00,469] Trial 16 pruned. \n",
      "[I 2023-06-05 00:29:00,903] Trial 10 finished with value: 0.052631578947368474 and parameters: {'alpha': 0.06274032996942024, 'loss': 'perceptron'}. Best is trial 10 with value: 0.052631578947368474.\n",
      "[I 2023-06-05 00:29:01,666] Trial 17 finished with value: 0.07894736842105265 and parameters: {'alpha': 0.0006967644460649201, 'loss': 'perceptron'}. Best is trial 10 with value: 0.052631578947368474.\n",
      "[I 2023-06-05 00:29:01,844] Trial 18 finished with value: 0.26315789473684215 and parameters: {'alpha': 0.0020464958970863893, 'loss': 'perceptron'}. Best is trial 10 with value: 0.052631578947368474.\n",
      "[I 2023-06-05 00:29:01,847] Trial 13 finished with value: 0.052631578947368474 and parameters: {'alpha': 0.002273298363806228, 'loss': 'log_loss'}. Best is trial 10 with value: 0.052631578947368474.\n",
      "[I 2023-06-05 00:29:01,969] Trial 19 finished with value: 0.07894736842105265 and parameters: {'alpha': 0.038457082722959585, 'loss': 'perceptron'}. Best is trial 10 with value: 0.052631578947368474.\n"
     ]
    }
   ],
   "source": [
    "# Define an objective function to be minimized.\n",
    "def objective(trial):\n",
    "    iris = sklearn.datasets.load_iris()\n",
    "    classes = list(set(iris.target))\n",
    "    train_x, valid_x, train_y, valid_y = sklearn.model_selection.train_test_split(\n",
    "        iris.data, iris.target, test_size=0.25, random_state=0\n",
    "    )\n",
    "\n",
    "    alpha = trial.suggest_float(\"alpha\", 1e-5, 1e-1)\n",
    "    loss = trial.suggest_categorical(\"loss\", [\"hinge\", \"log_loss\", \"perceptron\", \"huber\"])\n",
    "    clf = sklearn.linear_model.SGDClassifier(alpha=alpha, loss=loss, random_state=42)\n",
    "\n",
    "    for step in range(100):\n",
    "        clf.partial_fit(train_x, train_y, classes=classes)\n",
    "\n",
    "        # Report intermediate objective value.\n",
    "        intermediate_value = 1.0 - clf.score(valid_x, valid_y)\n",
    "        trial.report(intermediate_value, step)\n",
    "\n",
    "        # Handle pruning based on the intermediate value.\n",
    "        if trial.should_prune():\n",
    "            raise optuna.TrialPruned()\n",
    "\n",
    "    return 1.0 - clf.score(valid_x, valid_y)\n",
    "\n",
    "\n",
    "sampler = optuna.samplers.TPESampler(seed=10)\n",
    "study = optuna.create_study(\n",
    "    direction=\"minimize\",\n",
    "    sampler=sampler,\n",
    "    pruner=optuna.pruners.MedianPruner(n_startup_trials=5, n_warmup_steps=5, interval_steps=3),\n",
    ")  # Create a new study.\n",
    "study.optimize(\n",
    "    objective,\n",
    "    n_trials=20,\n",
    "    show_progress_bar=True,\n",
    "    n_jobs=-1,\n",
    ")  # Invoke optimization of the objective function."
   ]
  },
  {
   "cell_type": "code",
   "execution_count": 62,
   "metadata": {
    "tags": [
     "remove_input"
    ]
   },
   "outputs": [
    {
     "name": "stdout",
     "output_type": "stream",
     "text": [
      "  Number of finished trials:  20\n",
      "  Number of pruned trials:  9\n",
      "  Number of complete trials:  11\n"
     ]
    }
   ],
   "source": [
    "# Calculating the pruned and completed trials\n",
    "pruned_trials = [t for t in study.trials if t.state == optuna.trial.TrialState.PRUNED]\n",
    "complete_trials = [t for t in study.trials if t.state == optuna.trial.TrialState.COMPLETE]\n",
    "\n",
    "print(\"  Number of finished trials: \", len(study.trials))\n",
    "print(\"  Number of pruned trials: \", len(pruned_trials))\n",
    "print(\"  Number of complete trials: \", len(complete_trials))"
   ]
  },
  {
   "attachments": {},
   "cell_type": "markdown",
   "metadata": {},
   "source": [
    "## Visualisations\n",
    "When you complete a study using Optuna, you get a boat load of really useful plots that can both help inform you of your current experiment but also can help you fine tune future ones too.\n",
    "Below is a (non-exhaustive) table of useful plots that you get for free just by running a study:\n",
    "\n",
    "\n",
    "| Name      | Use                                       | Function Name                             |\n",
    "|-----------|-------------------------------------------|-------------------------------------------|\n",
    "|Contour Plot               |Creates a 2D contour map to visualise hyperparameters Vs objective|optuna.visualization.plot_contour|\n",
    "|Hyperparameter Importances |Bar chart showing normalised hyperparameter importances|optuna.visualization.plot_param_importances|\n",
    "|Parallel Coordinates       |Coordinate plot showing the lineage of hyperparameters to the final objective value|optuna.visualization.plot_parallel_coordinate|\n",
    "|Optimisation History       |History of Objective Function value for each trial ran|optuna.visualization.plot_optimization_history|\n",
    "|Intermediate Values        |Intermediate values for each trial (Only works with partial fit models)|optuna.visualization.plot_intermediate_values|\n",
    "\n",
    "If you want to see a full list of possible plots they can be found [here.](https://optuna.readthedocs.io/en/stable/reference/visualization/index.html)\n",
    "\n",
    "Below is an example of 4 of the plots that can be rendered right out of the box using Optuna:"
   ]
  },
  {
   "cell_type": "code",
   "execution_count": 87,
   "metadata": {
    "tags": [
     "remove_input"
    ]
   },
   "outputs": [
    {
     "data": {
      "text/html": [
       "<div>                            <div id=\"f9a5f81b-7c6f-475d-8499-a006ef55a210\" class=\"plotly-graph-div\" style=\"height:525px; width:100%;\"></div>            <script type=\"text/javascript\">                require([\"plotly\"], function(Plotly) {                    window.PLOTLYENV=window.PLOTLYENV || {};                                    if (document.getElementById(\"f9a5f81b-7c6f-475d-8499-a006ef55a210\")) {                    Plotly.newPlot(                        \"f9a5f81b-7c6f-475d-8499-a006ef55a210\",                        [{\"colorbar\":{\"title\":{\"text\":\"Objective Value\"}},\"colorscale\":[[0.0,\"rgb(247,251,255)\"],[0.125,\"rgb(222,235,247)\"],[0.25,\"rgb(198,219,239)\"],[0.375,\"rgb(158,202,225)\"],[0.5,\"rgb(107,174,214)\"],[0.625,\"rgb(66,146,198)\"],[0.75,\"rgb(33,113,181)\"],[0.875,\"rgb(8,81,156)\"],[1.0,\"rgb(8,48,107)\"]],\"connectgaps\":true,\"contours\":{\"coloring\":\"heatmap\"},\"hoverinfo\":\"none\",\"line\":{\"smoothing\":1.3},\"reversescale\":true,\"x\":[-0.002586218604869971,0.0006967644460649201,0.0020464958970863893,0.002273298363806228,0.007637790576813233,0.009436863669364146,0.017588828779930062,0.027904362274394405,0.038457082722959585,0.05662170987898821,0.06274032996942024,0.06635642546476274,0.06963940851569762],\"y\":[\"hinge\",\"huber\",\"log_loss\",\"perceptron\"],\"z\":[[null,null,null,null,null,null,0.23684210526315785,null,null,null,null,null,null],[null,null,null,null,null,null,null,null,null,null,null,0.42105263157894735,null],[null,null,null,0.052631578947368474,0.13157894736842102,null,null,null,null,0.3421052631578947,null,null,null],[null,0.07894736842105265,0.26315789473684215,null,null,0.26315789473684215,null,0.10526315789473684,0.07894736842105265,null,0.052631578947368474,null,null]],\"type\":\"contour\",\"xaxis\":\"x\",\"yaxis\":\"y\"},{\"marker\":{\"color\":\"black\",\"line\":{\"color\":\"Grey\",\"width\":2.0}},\"mode\":\"markers\",\"showlegend\":false,\"x\":[0.007637790576813233,0.009436863669364146,0.05662170987898821,0.06635642546476274,0.027904362274394405,0.017588828779930062,0.06274032996942024,0.002273298363806228,0.0006967644460649201,0.0020464958970863893,0.038457082722959585],\"y\":[\"log_loss\",\"perceptron\",\"log_loss\",\"huber\",\"perceptron\",\"hinge\",\"perceptron\",\"log_loss\",\"perceptron\",\"perceptron\",\"perceptron\"],\"type\":\"scatter\",\"xaxis\":\"x\",\"yaxis\":\"y\"},{\"cliponaxis\":false,\"hovertemplate\":[\"loss (CategoricalDistribution): 0.3332361121969631<extra></extra>\",\"alpha (FloatDistribution): 0.6667638878030369<extra></extra>\"],\"marker\":{\"color\":\"rgb(66,146,198)\"},\"orientation\":\"h\",\"text\":[\"0.33\",\"0.67\"],\"textposition\":\"outside\",\"x\":[0.3332361121969631,0.6667638878030369],\"y\":[\"loss\",\"alpha\"],\"type\":\"bar\",\"xaxis\":\"x2\",\"yaxis\":\"y2\"},{\"mode\":\"markers\",\"name\":\"Objective Value\",\"x\":[0,1,2,3,4,6,10,13,17,18,19],\"y\":[0.13157894736842102,0.26315789473684215,0.3421052631578947,0.42105263157894735,0.10526315789473684,0.23684210526315785,0.052631578947368474,0.052631578947368474,0.07894736842105265,0.26315789473684215,0.07894736842105265],\"type\":\"scatter\",\"xaxis\":\"x3\",\"yaxis\":\"y3\"},{\"name\":\"Best Value\",\"x\":[0,1,2,3,4,6,10,13,17,18,19],\"y\":[0.13157894736842102,0.13157894736842102,0.13157894736842102,0.13157894736842102,0.10526315789473684,0.10526315789473684,0.052631578947368474,0.052631578947368474,0.052631578947368474,0.052631578947368474,0.052631578947368474],\"type\":\"scatter\",\"xaxis\":\"x3\",\"yaxis\":\"y3\"},{\"marker\":{\"maxdisplayed\":10},\"mode\":\"lines+markers\",\"name\":\"Trial0\",\"x\":[0,1,2,3,4,5,6,7,8,9,10,11,12,13,14,15,16,17,18,19,20,21,22,23,24,25,26,27,28,29,30,31,32,33,34,35,36,37,38,39,40,41,42,43,44,45,46,47,48,49,50,51,52,53,54,55,56,57,58,59,60,61,62,63,64,65,66,67,68,69,70,71,72,73,74,75,76,77,78,79,80,81,82,83,84,85,86,87,88,89,90,91,92,93,94,95,96,97,98,99],\"y\":[0.13157894736842102,0.42105263157894735,0.42105263157894735,0.052631578947368474,0.07894736842105265,0.07894736842105265,0.07894736842105265,0.07894736842105265,0.07894736842105265,0.07894736842105265,0.07894736842105265,0.07894736842105265,0.07894736842105265,0.07894736842105265,0.07894736842105265,0.07894736842105265,0.07894736842105265,0.07894736842105265,0.07894736842105265,0.07894736842105265,0.07894736842105265,0.10526315789473684,0.10526315789473684,0.13157894736842102,0.13157894736842102,0.1578947368421053,0.1578947368421053,0.1842105263157895,0.1842105263157895,0.1842105263157895,0.1842105263157895,0.1842105263157895,0.1842105263157895,0.1842105263157895,0.1842105263157895,0.1842105263157895,0.1842105263157895,0.1842105263157895,0.1842105263157895,0.1842105263157895,0.1842105263157895,0.1842105263157895,0.1842105263157895,0.1842105263157895,0.1842105263157895,0.1842105263157895,0.1842105263157895,0.1842105263157895,0.1842105263157895,0.1842105263157895,0.1842105263157895,0.1842105263157895,0.1842105263157895,0.1842105263157895,0.1842105263157895,0.1842105263157895,0.1842105263157895,0.1842105263157895,0.1842105263157895,0.1842105263157895,0.1842105263157895,0.1842105263157895,0.1842105263157895,0.1842105263157895,0.1842105263157895,0.1842105263157895,0.1842105263157895,0.1578947368421053,0.1578947368421053,0.1578947368421053,0.1578947368421053,0.1578947368421053,0.1578947368421053,0.1578947368421053,0.1578947368421053,0.1578947368421053,0.1578947368421053,0.1578947368421053,0.1578947368421053,0.1578947368421053,0.1578947368421053,0.1578947368421053,0.1578947368421053,0.1578947368421053,0.1578947368421053,0.1578947368421053,0.1578947368421053,0.1578947368421053,0.1578947368421053,0.13157894736842102,0.13157894736842102,0.13157894736842102,0.13157894736842102,0.13157894736842102,0.13157894736842102,0.13157894736842102,0.13157894736842102,0.13157894736842102,0.13157894736842102,0.13157894736842102],\"type\":\"scatter\",\"xaxis\":\"x4\",\"yaxis\":\"y4\"},{\"marker\":{\"maxdisplayed\":10},\"mode\":\"lines+markers\",\"name\":\"Trial1\",\"x\":[0,1,2,3,4,5,6,7,8,9,10,11,12,13,14,15,16,17,18,19,20,21,22,23,24,25,26,27,28,29,30,31,32,33,34,35,36,37,38,39,40,41,42,43,44,45,46,47,48,49,50,51,52,53,54,55,56,57,58,59,60,61,62,63,64,65,66,67,68,69,70,71,72,73,74,75,76,77,78,79,80,81,82,83,84,85,86,87,88,89,90,91,92,93,94,95,96,97,98,99],\"y\":[0.42105263157894735,0.42105263157894735,0.13157894736842102,0.07894736842105265,0.10526315789473684,0.23684210526315785,0.42105263157894735,0.3421052631578947,0.052631578947368474,0.07894736842105265,0.10526315789473684,0.02631578947368418,0.052631578947368474,0.07894736842105265,0.052631578947368474,0.07894736842105265,0.10526315789473684,0.1842105263157895,0.052631578947368474,0.02631578947368418,0.02631578947368418,0.052631578947368474,0.052631578947368474,0.02631578947368418,0.1842105263157895,0.052631578947368474,0.07894736842105265,0.02631578947368418,0.052631578947368474,0.052631578947368474,0.02631578947368418,0.23684210526315785,0.26315789473684215,0.26315789473684215,0.052631578947368474,0.23684210526315785,0.26315789473684215,0.13157894736842102,0.13157894736842102,0.13157894736842102,0.02631578947368418,0.13157894736842102,0.2894736842105263,0.26315789473684215,0.23684210526315785,0.13157894736842102,0.052631578947368474,0.26315789473684215,0.23684210526315785,0.23684210526315785,0.07894736842105265,0.052631578947368474,0.26315789473684215,0.23684210526315785,0.2894736842105263,0.13157894736842102,0.07894736842105265,0.23684210526315785,0.23684210526315785,0.07894736842105265,0.02631578947368418,0.02631578947368418,0.23684210526315785,0.1578947368421053,0.052631578947368474,0.23684210526315785,0.1578947368421053,0.052631578947368474,0.02631578947368418,0.02631578947368418,0.23684210526315785,0.10526315789473684,0.052631578947368474,0.1578947368421053,0.07894736842105265,0.07894736842105265,0.21052631578947367,0.10526315789473684,0.02631578947368418,0.02631578947368418,0.26315789473684215,0.1578947368421053,0.10526315789473684,0.10526315789473684,0.23684210526315785,0.1578947368421053,0.10526315789473684,0.26315789473684215,0.13157894736842102,0.07894736842105265,0.3157894736842105,0.26315789473684215,0.2894736842105263,0.3157894736842105,0.07894736842105265,0.26315789473684215,0.2894736842105263,0.3157894736842105,0.2894736842105263,0.26315789473684215],\"type\":\"scatter\",\"xaxis\":\"x4\",\"yaxis\":\"y4\"},{\"marker\":{\"maxdisplayed\":10},\"mode\":\"lines+markers\",\"name\":\"Trial2\",\"x\":[0,1,2,3,4,5,6,7,8,9,10,11,12,13,14,15,16,17,18,19,20,21,22,23,24,25,26,27,28,29,30,31,32,33,34,35,36,37,38,39,40,41,42,43,44,45,46,47,48,49,50,51,52,53,54,55,56,57,58,59,60,61,62,63,64,65,66,67,68,69,70,71,72,73,74,75,76,77,78,79,80,81,82,83,84,85,86,87,88,89,90,91,92,93,94,95,96,97,98,99],\"y\":[0.42105263157894735,0.42105263157894735,0.42105263157894735,0.42105263157894735,0.39473684210526316,0.39473684210526316,0.39473684210526316,0.39473684210526316,0.39473684210526316,0.368421052631579,0.368421052631579,0.368421052631579,0.368421052631579,0.368421052631579,0.368421052631579,0.368421052631579,0.368421052631579,0.368421052631579,0.368421052631579,0.368421052631579,0.368421052631579,0.368421052631579,0.368421052631579,0.368421052631579,0.368421052631579,0.368421052631579,0.368421052631579,0.368421052631579,0.368421052631579,0.368421052631579,0.368421052631579,0.368421052631579,0.368421052631579,0.368421052631579,0.368421052631579,0.368421052631579,0.368421052631579,0.368421052631579,0.368421052631579,0.368421052631579,0.368421052631579,0.368421052631579,0.368421052631579,0.368421052631579,0.3421052631578947,0.3421052631578947,0.3421052631578947,0.3421052631578947,0.3421052631578947,0.3421052631578947,0.3421052631578947,0.3421052631578947,0.3421052631578947,0.3421052631578947,0.3421052631578947,0.3421052631578947,0.3421052631578947,0.3421052631578947,0.3421052631578947,0.3421052631578947,0.3421052631578947,0.3421052631578947,0.3421052631578947,0.3421052631578947,0.3421052631578947,0.3421052631578947,0.3421052631578947,0.3421052631578947,0.3421052631578947,0.3421052631578947,0.3421052631578947,0.3421052631578947,0.3421052631578947,0.3421052631578947,0.3421052631578947,0.3421052631578947,0.3421052631578947,0.3421052631578947,0.3421052631578947,0.3421052631578947,0.3421052631578947,0.3421052631578947,0.3421052631578947,0.3421052631578947,0.3421052631578947,0.3421052631578947,0.3421052631578947,0.3421052631578947,0.3421052631578947,0.3421052631578947,0.3421052631578947,0.3421052631578947,0.3421052631578947,0.3421052631578947,0.3421052631578947,0.3421052631578947,0.3421052631578947,0.3421052631578947,0.3421052631578947,0.3421052631578947],\"type\":\"scatter\",\"xaxis\":\"x4\",\"yaxis\":\"y4\"},{\"marker\":{\"maxdisplayed\":10},\"mode\":\"lines+markers\",\"name\":\"Trial3\",\"x\":[0,1,2,3,4,5,6,7,8,9,10,11,12,13,14,15,16,17,18,19,20,21,22,23,24,25,26,27,28,29,30,31,32,33,34,35,36,37,38,39,40,41,42,43,44,45,46,47,48,49,50,51,52,53,54,55,56,57,58,59,60,61,62,63,64,65,66,67,68,69,70,71,72,73,74,75,76,77,78,79,80,81,82,83,84,85,86,87,88,89,90,91,92,93,94,95,96,97,98,99],\"y\":[0.631578947368421,0.42105263157894735,0.42105263157894735,0.42105263157894735,0.42105263157894735,0.42105263157894735,0.42105263157894735,0.42105263157894735,0.42105263157894735,0.42105263157894735,0.42105263157894735,0.42105263157894735,0.42105263157894735,0.42105263157894735,0.42105263157894735,0.42105263157894735,0.42105263157894735,0.42105263157894735,0.42105263157894735,0.42105263157894735,0.42105263157894735,0.42105263157894735,0.42105263157894735,0.42105263157894735,0.42105263157894735,0.42105263157894735,0.42105263157894735,0.42105263157894735,0.42105263157894735,0.42105263157894735,0.42105263157894735,0.42105263157894735,0.42105263157894735,0.42105263157894735,0.42105263157894735,0.42105263157894735,0.42105263157894735,0.42105263157894735,0.42105263157894735,0.42105263157894735,0.42105263157894735,0.42105263157894735,0.42105263157894735,0.42105263157894735,0.42105263157894735,0.42105263157894735,0.42105263157894735,0.42105263157894735,0.42105263157894735,0.42105263157894735,0.42105263157894735,0.42105263157894735,0.42105263157894735,0.42105263157894735,0.42105263157894735,0.42105263157894735,0.42105263157894735,0.42105263157894735,0.42105263157894735,0.42105263157894735,0.42105263157894735,0.42105263157894735,0.42105263157894735,0.42105263157894735,0.42105263157894735,0.42105263157894735,0.42105263157894735,0.42105263157894735,0.42105263157894735,0.42105263157894735,0.42105263157894735,0.42105263157894735,0.42105263157894735,0.42105263157894735,0.42105263157894735,0.42105263157894735,0.42105263157894735,0.42105263157894735,0.42105263157894735,0.42105263157894735,0.42105263157894735,0.42105263157894735,0.42105263157894735,0.42105263157894735,0.42105263157894735,0.42105263157894735,0.42105263157894735,0.42105263157894735,0.42105263157894735,0.42105263157894735,0.42105263157894735,0.42105263157894735,0.42105263157894735,0.42105263157894735,0.42105263157894735,0.42105263157894735,0.42105263157894735,0.42105263157894735,0.42105263157894735,0.42105263157894735],\"type\":\"scatter\",\"xaxis\":\"x4\",\"yaxis\":\"y4\"},{\"marker\":{\"maxdisplayed\":10},\"mode\":\"lines+markers\",\"name\":\"Trial4\",\"x\":[0,1,2,3,4,5,6,7,8,9,10,11,12,13,14,15,16,17,18,19,20,21,22,23,24,25,26,27,28,29,30,31,32,33,34,35,36,37,38,39,40,41,42,43,44,45,46,47,48,49,50,51,52,53,54,55,56,57,58,59,60,61,62,63,64,65,66,67,68,69,70,71,72,73,74,75,76,77,78,79,80,81,82,83,84,85,86,87,88,89,90,91,92,93,94,95,96,97,98,99],\"y\":[0.3157894736842105,0.1842105263157895,0.1842105263157895,0.10526315789473684,0.07894736842105265,0.10526315789473684,0.4473684210526315,0.1578947368421053,0.13157894736842102,0.052631578947368474,0.07894736842105265,0.07894736842105265,0.052631578947368474,0.07894736842105265,0.052631578947368474,0.23684210526315785,0.02631578947368418,0.23684210526315785,0.10526315789473684,0.07894736842105265,0.07894736842105265,0.26315789473684215,0.052631578947368474,0.052631578947368474,0.052631578947368474,0.07894736842105265,0.02631578947368418,0.13157894736842102,0.2894736842105263,0.23684210526315785,0.23684210526315785,0.07894736842105265,0.2894736842105263,0.23684210526315785,0.13157894736842102,0.26315789473684215,0.26315789473684215,0.13157894736842102,0.26315789473684215,0.23684210526315785,0.1842105263157895,0.02631578947368418,0.23684210526315785,0.10526315789473684,0.052631578947368474,0.23684210526315785,0.10526315789473684,0.07894736842105265,0.21052631578947367,0.21052631578947367,0.052631578947368474,0.1578947368421053,0.07894736842105265,0.02631578947368418,0.13157894736842102,0.07894736842105265,0.02631578947368418,0.1578947368421053,0.052631578947368474,0.02631578947368418,0.1578947368421053,0.07894736842105265,0.3157894736842105,0.052631578947368474,0.052631578947368474,0.3157894736842105,0.07894736842105265,0.3421052631578947,0.07894736842105265,0.02631578947368418,0.1578947368421053,0.1578947368421053,0.02631578947368418,0.07894736842105265,0.10526315789473684,0.1578947368421053,0.13157894736842102,0.1842105263157895,0.26315789473684215,0.02631578947368418,0.2894736842105263,0.10526315789473684,0.1842105263157895,0.1578947368421053,0.07894736842105265,0.10526315789473684,0.07894736842105265,0.1578947368421053,0.10526315789473684,0.07894736842105265,0.10526315789473684,0.10526315789473684,0.1578947368421053,0.10526315789473684,0.07894736842105265,0.10526315789473684,0.052631578947368474,0.1578947368421053,0.052631578947368474,0.10526315789473684],\"type\":\"scatter\",\"xaxis\":\"x4\",\"yaxis\":\"y4\"},{\"marker\":{\"maxdisplayed\":10},\"mode\":\"lines+markers\",\"name\":\"Trial5\",\"x\":[0,1,2,3,4,5,6,7,8,9,10,11,12,13,14,15,16,17,18,19,20,21,22,23,24,25,26,27,28,29,30,31,32,33,34,35],\"y\":[0.736842105263158,0.42105263157894735,0.42105263157894735,0.42105263157894735,0.42105263157894735,0.42105263157894735,0.42105263157894735,0.42105263157894735,0.42105263157894735,0.42105263157894735,0.42105263157894735,0.42105263157894735,0.42105263157894735,0.42105263157894735,0.42105263157894735,0.42105263157894735,0.42105263157894735,0.42105263157894735,0.42105263157894735,0.42105263157894735,0.42105263157894735,0.42105263157894735,0.42105263157894735,0.42105263157894735,0.42105263157894735,0.42105263157894735,0.42105263157894735,0.42105263157894735,0.42105263157894735,0.42105263157894735,0.42105263157894735,0.42105263157894735,0.42105263157894735,0.42105263157894735,0.42105263157894735,0.42105263157894735],\"type\":\"scatter\",\"xaxis\":\"x4\",\"yaxis\":\"y4\"},{\"marker\":{\"maxdisplayed\":10},\"mode\":\"lines+markers\",\"name\":\"Trial6\",\"x\":[0,1,2,3,4,5,6,7,8,9,10,11,12,13,14,15,16,17,18,19,20,21,22,23,24,25,26,27,28,29,30,31,32,33,34,35,36,37,38,39,40,41,42,43,44,45,46,47,48,49,50,51,52,53,54,55,56,57,58,59,60,61,62,63,64,65,66,67,68,69,70,71,72,73,74,75,76,77,78,79,80,81,82,83,84,85,86,87,88,89,90,91,92,93,94,95,96,97,98,99],\"y\":[0.42105263157894735,0.42105263157894735,0.6578947368421053,0.5526315789473684,0.42105263157894735,0.2894736842105263,0.26315789473684215,0.3157894736842105,0.368421052631579,0.368421052631579,0.368421052631579,0.3157894736842105,0.23684210526315785,0.21052631578947367,0.3421052631578947,0.3157894736842105,0.3421052631578947,0.26315789473684215,0.3157894736842105,0.3157894736842105,0.1842105263157895,0.2894736842105263,0.07894736842105265,0.1842105263157895,0.23684210526315785,0.052631578947368474,0.07894736842105265,0.21052631578947367,0.07894736842105265,0.1842105263157895,0.2894736842105263,0.21052631578947367,0.23684210526315785,0.23684210526315785,0.23684210526315785,0.23684210526315785,0.23684210526315785,0.21052631578947367,0.21052631578947367,0.21052631578947367,0.23684210526315785,0.23684210526315785,0.23684210526315785,0.23684210526315785,0.13157894736842102,0.23684210526315785,0.21052631578947367,0.23684210526315785,0.23684210526315785,0.23684210526315785,0.23684210526315785,0.23684210526315785,0.23684210526315785,0.23684210526315785,0.10526315789473684,0.23684210526315785,0.21052631578947367,0.23684210526315785,0.23684210526315785,0.23684210526315785,0.23684210526315785,0.10526315789473684,0.13157894736842102,0.10526315789473684,0.10526315789473684,0.10526315789473684,0.1578947368421053,0.1842105263157895,0.23684210526315785,0.21052631578947367,0.21052631578947367,0.10526315789473684,0.10526315789473684,0.21052631578947367,0.23684210526315785,0.13157894736842102,0.23684210526315785,0.23684210526315785,0.26315789473684215,0.23684210526315785,0.26315789473684215,0.23684210526315785,0.23684210526315785,0.26315789473684215,0.23684210526315785,0.23684210526315785,0.23684210526315785,0.23684210526315785,0.23684210526315785,0.23684210526315785,0.23684210526315785,0.23684210526315785,0.23684210526315785,0.23684210526315785,0.23684210526315785,0.23684210526315785,0.23684210526315785,0.23684210526315785,0.23684210526315785,0.23684210526315785],\"type\":\"scatter\",\"xaxis\":\"x4\",\"yaxis\":\"y4\"},{\"marker\":{\"maxdisplayed\":10},\"mode\":\"lines+markers\",\"name\":\"Trial7\",\"x\":[0,1,2,3,4,5,6,7,8,9,10,11,12,13,14],\"y\":[0.42105263157894735,0.42105263157894735,0.42105263157894735,0.42105263157894735,0.42105263157894735,0.42105263157894735,0.42105263157894735,0.42105263157894735,0.42105263157894735,0.42105263157894735,0.42105263157894735,0.42105263157894735,0.42105263157894735,0.42105263157894735,0.42105263157894735],\"type\":\"scatter\",\"xaxis\":\"x4\",\"yaxis\":\"y4\"},{\"marker\":{\"maxdisplayed\":10},\"mode\":\"lines+markers\",\"name\":\"Trial8\",\"x\":[0,1,2,3,4,5],\"y\":[0.5789473684210527,0.42105263157894735,0.3157894736842105,0.39473684210526316,0.42105263157894735,0.39473684210526316],\"type\":\"scatter\",\"xaxis\":\"x4\",\"yaxis\":\"y4\"},{\"marker\":{\"maxdisplayed\":10},\"mode\":\"lines+markers\",\"name\":\"Trial9\",\"x\":[0,1,2,3,4,5],\"y\":[0.4736842105263158,0.42105263157894735,0.4736842105263158,0.42105263157894735,0.42105263157894735,0.42105263157894735],\"type\":\"scatter\",\"xaxis\":\"x4\",\"yaxis\":\"y4\"},{\"marker\":{\"maxdisplayed\":10},\"mode\":\"lines+markers\",\"name\":\"Trial10\",\"x\":[0,1,2,3,4,5,6,7,8,9,10,11,12,13,14,15,16,17,18,19,20,21,22,23,24,25,26,27,28,29,30,31,32,33,34,35,36,37,38,39,40,41,42,43,44,45,46,47,48,49,50,51,52,53,54,55,56,57,58,59,60,61,62,63,64,65,66,67,68,69,70,71,72,73,74,75,76,77,78,79,80,81,82,83,84,85,86,87,88,89,90,91,92,93,94,95,96,97,98,99],\"y\":[0.13157894736842102,0.21052631578947367,0.21052631578947367,0.07894736842105265,0.23684210526315785,0.1842105263157895,0.21052631578947367,0.052631578947368474,0.1578947368421053,0.10526315789473684,0.13157894736842102,0.13157894736842102,0.07894736842105265,0.368421052631579,0.0,0.10526315789473684,0.10526315789473684,0.0,0.052631578947368474,0.2894736842105263,0.26315789473684215,0.07894736842105265,0.26315789473684215,0.23684210526315785,0.21052631578947367,0.23684210526315785,0.1578947368421053,0.3421052631578947,0.2894736842105263,0.10526315789473684,0.2894736842105263,0.26315789473684215,0.10526315789473684,0.0,0.1842105263157895,0.26315789473684215,0.21052631578947367,0.052631578947368474,0.26315789473684215,0.13157894736842102,0.23684210526315785,0.10526315789473684,0.07894736842105265,0.2894736842105263,0.052631578947368474,0.1842105263157895,0.052631578947368474,0.052631578947368474,0.10526315789473684,0.1842105263157895,0.3157894736842105,0.10526315789473684,0.3157894736842105,0.07894736842105265,0.10526315789473684,0.3157894736842105,0.2894736842105263,0.26315789473684215,0.1578947368421053,0.10526315789473684,0.21052631578947367,0.3421052631578947,0.13157894736842102,0.1578947368421053,0.13157894736842102,0.1578947368421053,0.10526315789473684,0.1578947368421053,0.1842105263157895,0.1578947368421053,0.23684210526315785,0.1578947368421053,0.10526315789473684,0.26315789473684215,0.2894736842105263,0.13157894736842102,0.1578947368421053,0.21052631578947367,0.13157894736842102,0.052631578947368474,0.10526315789473684,0.02631578947368418,0.10526315789473684,0.07894736842105265,0.10526315789473684,0.07894736842105265,0.10526315789473684,0.07894736842105265,0.10526315789473684,0.10526315789473684,0.13157894736842102,0.07894736842105265,0.10526315789473684,0.07894736842105265,0.10526315789473684,0.052631578947368474,0.13157894736842102,0.052631578947368474,0.10526315789473684,0.052631578947368474],\"type\":\"scatter\",\"xaxis\":\"x4\",\"yaxis\":\"y4\"},{\"marker\":{\"maxdisplayed\":10},\"mode\":\"lines+markers\",\"name\":\"Trial11\",\"x\":[0,1,2,3,4,5],\"y\":[0.42105263157894735,0.42105263157894735,0.631578947368421,0.42105263157894735,0.4473684210526315,0.368421052631579],\"type\":\"scatter\",\"xaxis\":\"x4\",\"yaxis\":\"y4\"},{\"marker\":{\"maxdisplayed\":10},\"mode\":\"lines+markers\",\"name\":\"Trial12\",\"x\":[0,1,2,3,4,5],\"y\":[0.42105263157894735,0.42105263157894735,0.368421052631579,0.3421052631578947,0.39473684210526316,0.368421052631579],\"type\":\"scatter\",\"xaxis\":\"x4\",\"yaxis\":\"y4\"},{\"marker\":{\"maxdisplayed\":10},\"mode\":\"lines+markers\",\"name\":\"Trial13\",\"x\":[0,1,2,3,4,5,6,7,8,9,10,11,12,13,14,15,16,17,18,19,20,21,22,23,24,25,26,27,28,29,30,31,32,33,34,35,36,37,38,39,40,41,42,43,44,45,46,47,48,49,50,51,52,53,54,55,56,57,58,59,60,61,62,63,64,65,66,67,68,69,70,71,72,73,74,75,76,77,78,79,80,81,82,83,84,85,86,87,88,89,90,91,92,93,94,95,96,97,98,99],\"y\":[0.42105263157894735,0.39473684210526316,0.42105263157894735,0.1842105263157895,0.07894736842105265,0.07894736842105265,0.07894736842105265,0.07894736842105265,0.052631578947368474,0.07894736842105265,0.13157894736842102,0.07894736842105265,0.13157894736842102,0.07894736842105265,0.07894736842105265,0.07894736842105265,0.07894736842105265,0.07894736842105265,0.07894736842105265,0.07894736842105265,0.07894736842105265,0.07894736842105265,0.07894736842105265,0.13157894736842102,0.13157894736842102,0.10526315789473684,0.07894736842105265,0.07894736842105265,0.07894736842105265,0.07894736842105265,0.07894736842105265,0.07894736842105265,0.10526315789473684,0.10526315789473684,0.10526315789473684,0.10526315789473684,0.10526315789473684,0.10526315789473684,0.10526315789473684,0.10526315789473684,0.10526315789473684,0.10526315789473684,0.10526315789473684,0.07894736842105265,0.07894736842105265,0.07894736842105265,0.07894736842105265,0.07894736842105265,0.07894736842105265,0.07894736842105265,0.07894736842105265,0.07894736842105265,0.07894736842105265,0.07894736842105265,0.07894736842105265,0.07894736842105265,0.052631578947368474,0.07894736842105265,0.07894736842105265,0.07894736842105265,0.07894736842105265,0.07894736842105265,0.052631578947368474,0.052631578947368474,0.052631578947368474,0.052631578947368474,0.052631578947368474,0.052631578947368474,0.052631578947368474,0.052631578947368474,0.052631578947368474,0.052631578947368474,0.052631578947368474,0.052631578947368474,0.052631578947368474,0.052631578947368474,0.052631578947368474,0.052631578947368474,0.052631578947368474,0.052631578947368474,0.052631578947368474,0.052631578947368474,0.052631578947368474,0.052631578947368474,0.052631578947368474,0.052631578947368474,0.052631578947368474,0.052631578947368474,0.052631578947368474,0.052631578947368474,0.052631578947368474,0.052631578947368474,0.052631578947368474,0.052631578947368474,0.052631578947368474,0.052631578947368474,0.052631578947368474,0.052631578947368474,0.052631578947368474,0.052631578947368474],\"type\":\"scatter\",\"xaxis\":\"x4\",\"yaxis\":\"y4\"},{\"marker\":{\"maxdisplayed\":10},\"mode\":\"lines+markers\",\"name\":\"Trial14\",\"x\":[0,1,2,3,4,5],\"y\":[0.42105263157894735,0.42105263157894735,0.42105263157894735,0.42105263157894735,0.42105263157894735,0.42105263157894735],\"type\":\"scatter\",\"xaxis\":\"x4\",\"yaxis\":\"y4\"},{\"marker\":{\"maxdisplayed\":10},\"mode\":\"lines+markers\",\"name\":\"Trial15\",\"x\":[0,1,2,3,4,5],\"y\":[0.42105263157894735,0.42105263157894735,0.368421052631579,0.3421052631578947,0.3421052631578947,0.3421052631578947],\"type\":\"scatter\",\"xaxis\":\"x4\",\"yaxis\":\"y4\"},{\"marker\":{\"maxdisplayed\":10},\"mode\":\"lines+markers\",\"name\":\"Trial16\",\"x\":[0,1,2,3,4,5],\"y\":[0.42105263157894735,0.42105263157894735,0.368421052631579,0.3421052631578947,0.3421052631578947,0.3421052631578947],\"type\":\"scatter\",\"xaxis\":\"x4\",\"yaxis\":\"y4\"},{\"marker\":{\"maxdisplayed\":10},\"mode\":\"lines+markers\",\"name\":\"Trial17\",\"x\":[0,1,2,3,4,5,6,7,8,9,10,11,12,13,14,15,16,17,18,19,20,21,22,23,24,25,26,27,28,29,30,31,32,33,34,35,36,37,38,39,40,41,42,43,44,45,46,47,48,49,50,51,52,53,54,55,56,57,58,59,60,61,62,63,64,65,66,67,68,69,70,71,72,73,74,75,76,77,78,79,80,81,82,83,84,85,86,87,88,89,90,91,92,93,94,95,96,97,98,99],\"y\":[0.42105263157894735,0.42105263157894735,0.42105263157894735,0.42105263157894735,0.21052631578947367,0.2894736842105263,0.3421052631578947,0.10526315789473684,0.368421052631579,0.07894736842105265,0.10526315789473684,0.23684210526315785,0.07894736842105265,0.07894736842105265,0.1842105263157895,0.07894736842105265,0.07894736842105265,0.1578947368421053,0.26315789473684215,0.13157894736842102,0.052631578947368474,0.07894736842105265,0.1578947368421053,0.1578947368421053,0.13157894736842102,0.10526315789473684,0.10526315789473684,0.13157894736842102,0.10526315789473684,0.368421052631579,0.1578947368421053,0.368421052631579,0.13157894736842102,0.23684210526315785,0.23684210526315785,0.10526315789473684,0.13157894736842102,0.10526315789473684,0.1578947368421053,0.368421052631579,0.3421052631578947,0.1842105263157895,0.1842105263157895,0.13157894736842102,0.3421052631578947,0.13157894736842102,0.368421052631579,0.1842105263157895,0.2894736842105263,0.13157894736842102,0.2894736842105263,0.3421052631578947,0.3421052631578947,0.1842105263157895,0.3421052631578947,0.3157894736842105,0.3157894736842105,0.3157894736842105,0.3157894736842105,0.1842105263157895,0.2894736842105263,0.2894736842105263,0.2894736842105263,0.2894736842105263,0.1842105263157895,0.2894736842105263,0.2894736842105263,0.3157894736842105,0.2894736842105263,0.2894736842105263,0.1842105263157895,0.2894736842105263,0.2894736842105263,0.2894736842105263,0.3157894736842105,0.2894736842105263,0.1578947368421053,0.2894736842105263,0.2894736842105263,0.2894736842105263,0.2894736842105263,0.3157894736842105,0.13157894736842102,0.13157894736842102,0.1842105263157895,0.13157894736842102,0.13157894736842102,0.02631578947368418,0.052631578947368474,0.052631578947368474,0.052631578947368474,0.052631578947368474,0.052631578947368474,0.07894736842105265,0.052631578947368474,0.07894736842105265,0.07894736842105265,0.052631578947368474,0.07894736842105265,0.07894736842105265],\"type\":\"scatter\",\"xaxis\":\"x4\",\"yaxis\":\"y4\"},{\"marker\":{\"maxdisplayed\":10},\"mode\":\"lines+markers\",\"name\":\"Trial18\",\"x\":[0,1,2,3,4,5,6,7,8,9,10,11,12,13,14,15,16,17,18,19,20,21,22,23,24,25,26,27,28,29,30,31,32,33,34,35,36,37,38,39,40,41,42,43,44,45,46,47,48,49,50,51,52,53,54,55,56,57,58,59,60,61,62,63,64,65,66,67,68,69,70,71,72,73,74,75,76,77,78,79,80,81,82,83,84,85,86,87,88,89,90,91,92,93,94,95,96,97,98,99],\"y\":[0.42105263157894735,0.39473684210526316,0.368421052631579,0.2894736842105263,0.21052631578947367,0.13157894736842102,0.07894736842105265,0.07894736842105265,0.368421052631579,0.07894736842105265,0.052631578947368474,0.1842105263157895,0.23684210526315785,0.052631578947368474,0.21052631578947367,0.1578947368421053,0.1578947368421053,0.1842105263157895,0.052631578947368474,0.07894736842105265,0.21052631578947367,0.07894736842105265,0.10526315789473684,0.21052631578947367,0.10526315789473684,0.10526315789473684,0.052631578947368474,0.10526315789473684,0.10526315789473684,0.10526315789473684,0.2894736842105263,0.052631578947368474,0.10526315789473684,0.2894736842105263,0.052631578947368474,0.10526315789473684,0.2894736842105263,0.052631578947368474,0.3421052631578947,0.1842105263157895,0.052631578947368474,0.052631578947368474,0.1842105263157895,0.1842105263157895,0.1842105263157895,0.1842105263157895,0.1842105263157895,0.1842105263157895,0.1842105263157895,0.1842105263157895,0.13157894736842102,0.052631578947368474,0.07894736842105265,0.02631578947368418,0.07894736842105265,0.052631578947368474,0.052631578947368474,0.052631578947368474,0.052631578947368474,0.052631578947368474,0.052631578947368474,0.13157894736842102,0.052631578947368474,0.13157894736842102,0.052631578947368474,0.13157894736842102,0.13157894736842102,0.07894736842105265,0.10526315789473684,0.13157894736842102,0.26315789473684215,0.052631578947368474,0.23684210526315785,0.13157894736842102,0.26315789473684215,0.21052631578947367,0.23684210526315785,0.1578947368421053,0.13157894736842102,0.2894736842105263,0.26315789473684215,0.2894736842105263,0.1578947368421053,0.2894736842105263,0.2894736842105263,0.23684210526315785,0.3421052631578947,0.26315789473684215,0.02631578947368418,0.052631578947368474,0.052631578947368474,0.10526315789473684,0.26315789473684215,0.23684210526315785,0.2894736842105263,0.07894736842105265,0.23684210526315785,0.1578947368421053,0.3157894736842105,0.26315789473684215],\"type\":\"scatter\",\"xaxis\":\"x4\",\"yaxis\":\"y4\"},{\"marker\":{\"maxdisplayed\":10},\"mode\":\"lines+markers\",\"name\":\"Trial19\",\"x\":[0,1,2,3,4,5,6,7,8,9,10,11,12,13,14,15,16,17,18,19,20,21,22,23,24,25,26,27,28,29,30,31,32,33,34,35,36,37,38,39,40,41,42,43,44,45,46,47,48,49,50,51,52,53,54,55,56,57,58,59,60,61,62,63,64,65,66,67,68,69,70,71,72,73,74,75,76,77,78,79,80,81,82,83,84,85,86,87,88,89,90,91,92,93,94,95,96,97,98,99],\"y\":[0.42105263157894735,0.42105263157894735,0.1578947368421053,0.39473684210526316,0.07894736842105265,0.368421052631579,0.02631578947368418,0.13157894736842102,0.10526315789473684,0.26315789473684215,0.07894736842105265,0.07894736842105265,0.07894736842105265,0.052631578947368474,0.07894736842105265,0.07894736842105265,0.07894736842105265,0.052631578947368474,0.07894736842105265,0.07894736842105265,0.052631578947368474,0.052631578947368474,0.052631578947368474,0.07894736842105265,0.23684210526315785,0.26315789473684215,0.1842105263157895,0.2894736842105263,0.26315789473684215,0.02631578947368418,0.0,0.23684210526315785,0.13157894736842102,0.052631578947368474,0.26315789473684215,0.21052631578947367,0.052631578947368474,0.3157894736842105,0.10526315789473684,0.23684210526315785,0.10526315789473684,0.02631578947368418,0.1578947368421053,0.052631578947368474,0.23684210526315785,0.23684210526315785,0.052631578947368474,0.23684210526315785,0.07894736842105265,0.052631578947368474,0.07894736842105265,0.07894736842105265,0.13157894736842102,0.052631578947368474,0.1578947368421053,0.07894736842105265,0.2894736842105263,0.13157894736842102,0.052631578947368474,0.10526315789473684,0.2894736842105263,0.23684210526315785,0.26315789473684215,0.052631578947368474,0.3157894736842105,0.26315789473684215,0.07894736842105265,0.10526315789473684,0.052631578947368474,0.1842105263157895,0.10526315789473684,0.1842105263157895,0.10526315789473684,0.10526315789473684,0.21052631578947367,0.10526315789473684,0.26315789473684215,0.10526315789473684,0.26315789473684215,0.26315789473684215,0.1578947368421053,0.07894736842105265,0.10526315789473684,0.1578947368421053,0.052631578947368474,0.1578947368421053,0.07894736842105265,0.10526315789473684,0.10526315789473684,0.13157894736842102,0.10526315789473684,0.1578947368421053,0.10526315789473684,0.07894736842105265,0.10526315789473684,0.07894736842105265,0.10526315789473684,0.052631578947368474,0.10526315789473684,0.07894736842105265],\"type\":\"scatter\",\"xaxis\":\"x4\",\"yaxis\":\"y4\"}],                        {\"template\":{\"data\":{\"histogram2dcontour\":[{\"type\":\"histogram2dcontour\",\"colorbar\":{\"outlinewidth\":0,\"ticks\":\"\"},\"colorscale\":[[0.0,\"#0d0887\"],[0.1111111111111111,\"#46039f\"],[0.2222222222222222,\"#7201a8\"],[0.3333333333333333,\"#9c179e\"],[0.4444444444444444,\"#bd3786\"],[0.5555555555555556,\"#d8576b\"],[0.6666666666666666,\"#ed7953\"],[0.7777777777777778,\"#fb9f3a\"],[0.8888888888888888,\"#fdca26\"],[1.0,\"#f0f921\"]]}],\"choropleth\":[{\"type\":\"choropleth\",\"colorbar\":{\"outlinewidth\":0,\"ticks\":\"\"}}],\"histogram2d\":[{\"type\":\"histogram2d\",\"colorbar\":{\"outlinewidth\":0,\"ticks\":\"\"},\"colorscale\":[[0.0,\"#0d0887\"],[0.1111111111111111,\"#46039f\"],[0.2222222222222222,\"#7201a8\"],[0.3333333333333333,\"#9c179e\"],[0.4444444444444444,\"#bd3786\"],[0.5555555555555556,\"#d8576b\"],[0.6666666666666666,\"#ed7953\"],[0.7777777777777778,\"#fb9f3a\"],[0.8888888888888888,\"#fdca26\"],[1.0,\"#f0f921\"]]}],\"heatmap\":[{\"type\":\"heatmap\",\"colorbar\":{\"outlinewidth\":0,\"ticks\":\"\"},\"colorscale\":[[0.0,\"#0d0887\"],[0.1111111111111111,\"#46039f\"],[0.2222222222222222,\"#7201a8\"],[0.3333333333333333,\"#9c179e\"],[0.4444444444444444,\"#bd3786\"],[0.5555555555555556,\"#d8576b\"],[0.6666666666666666,\"#ed7953\"],[0.7777777777777778,\"#fb9f3a\"],[0.8888888888888888,\"#fdca26\"],[1.0,\"#f0f921\"]]}],\"heatmapgl\":[{\"type\":\"heatmapgl\",\"colorbar\":{\"outlinewidth\":0,\"ticks\":\"\"},\"colorscale\":[[0.0,\"#0d0887\"],[0.1111111111111111,\"#46039f\"],[0.2222222222222222,\"#7201a8\"],[0.3333333333333333,\"#9c179e\"],[0.4444444444444444,\"#bd3786\"],[0.5555555555555556,\"#d8576b\"],[0.6666666666666666,\"#ed7953\"],[0.7777777777777778,\"#fb9f3a\"],[0.8888888888888888,\"#fdca26\"],[1.0,\"#f0f921\"]]}],\"contourcarpet\":[{\"type\":\"contourcarpet\",\"colorbar\":{\"outlinewidth\":0,\"ticks\":\"\"}}],\"contour\":[{\"type\":\"contour\",\"colorbar\":{\"outlinewidth\":0,\"ticks\":\"\"},\"colorscale\":[[0.0,\"#0d0887\"],[0.1111111111111111,\"#46039f\"],[0.2222222222222222,\"#7201a8\"],[0.3333333333333333,\"#9c179e\"],[0.4444444444444444,\"#bd3786\"],[0.5555555555555556,\"#d8576b\"],[0.6666666666666666,\"#ed7953\"],[0.7777777777777778,\"#fb9f3a\"],[0.8888888888888888,\"#fdca26\"],[1.0,\"#f0f921\"]]}],\"surface\":[{\"type\":\"surface\",\"colorbar\":{\"outlinewidth\":0,\"ticks\":\"\"},\"colorscale\":[[0.0,\"#0d0887\"],[0.1111111111111111,\"#46039f\"],[0.2222222222222222,\"#7201a8\"],[0.3333333333333333,\"#9c179e\"],[0.4444444444444444,\"#bd3786\"],[0.5555555555555556,\"#d8576b\"],[0.6666666666666666,\"#ed7953\"],[0.7777777777777778,\"#fb9f3a\"],[0.8888888888888888,\"#fdca26\"],[1.0,\"#f0f921\"]]}],\"mesh3d\":[{\"type\":\"mesh3d\",\"colorbar\":{\"outlinewidth\":0,\"ticks\":\"\"}}],\"scatter\":[{\"fillpattern\":{\"fillmode\":\"overlay\",\"size\":10,\"solidity\":0.2},\"type\":\"scatter\"}],\"parcoords\":[{\"type\":\"parcoords\",\"line\":{\"colorbar\":{\"outlinewidth\":0,\"ticks\":\"\"}}}],\"scatterpolargl\":[{\"type\":\"scatterpolargl\",\"marker\":{\"colorbar\":{\"outlinewidth\":0,\"ticks\":\"\"}}}],\"bar\":[{\"error_x\":{\"color\":\"#2a3f5f\"},\"error_y\":{\"color\":\"#2a3f5f\"},\"marker\":{\"line\":{\"color\":\"#E5ECF6\",\"width\":0.5},\"pattern\":{\"fillmode\":\"overlay\",\"size\":10,\"solidity\":0.2}},\"type\":\"bar\"}],\"scattergeo\":[{\"type\":\"scattergeo\",\"marker\":{\"colorbar\":{\"outlinewidth\":0,\"ticks\":\"\"}}}],\"scatterpolar\":[{\"type\":\"scatterpolar\",\"marker\":{\"colorbar\":{\"outlinewidth\":0,\"ticks\":\"\"}}}],\"histogram\":[{\"marker\":{\"pattern\":{\"fillmode\":\"overlay\",\"size\":10,\"solidity\":0.2}},\"type\":\"histogram\"}],\"scattergl\":[{\"type\":\"scattergl\",\"marker\":{\"colorbar\":{\"outlinewidth\":0,\"ticks\":\"\"}}}],\"scatter3d\":[{\"type\":\"scatter3d\",\"line\":{\"colorbar\":{\"outlinewidth\":0,\"ticks\":\"\"}},\"marker\":{\"colorbar\":{\"outlinewidth\":0,\"ticks\":\"\"}}}],\"scattermapbox\":[{\"type\":\"scattermapbox\",\"marker\":{\"colorbar\":{\"outlinewidth\":0,\"ticks\":\"\"}}}],\"scatterternary\":[{\"type\":\"scatterternary\",\"marker\":{\"colorbar\":{\"outlinewidth\":0,\"ticks\":\"\"}}}],\"scattercarpet\":[{\"type\":\"scattercarpet\",\"marker\":{\"colorbar\":{\"outlinewidth\":0,\"ticks\":\"\"}}}],\"carpet\":[{\"aaxis\":{\"endlinecolor\":\"#2a3f5f\",\"gridcolor\":\"white\",\"linecolor\":\"white\",\"minorgridcolor\":\"white\",\"startlinecolor\":\"#2a3f5f\"},\"baxis\":{\"endlinecolor\":\"#2a3f5f\",\"gridcolor\":\"white\",\"linecolor\":\"white\",\"minorgridcolor\":\"white\",\"startlinecolor\":\"#2a3f5f\"},\"type\":\"carpet\"}],\"table\":[{\"cells\":{\"fill\":{\"color\":\"#EBF0F8\"},\"line\":{\"color\":\"white\"}},\"header\":{\"fill\":{\"color\":\"#C8D4E3\"},\"line\":{\"color\":\"white\"}},\"type\":\"table\"}],\"barpolar\":[{\"marker\":{\"line\":{\"color\":\"#E5ECF6\",\"width\":0.5},\"pattern\":{\"fillmode\":\"overlay\",\"size\":10,\"solidity\":0.2}},\"type\":\"barpolar\"}],\"pie\":[{\"automargin\":true,\"type\":\"pie\"}]},\"layout\":{\"autotypenumbers\":\"strict\",\"colorway\":[\"#636efa\",\"#EF553B\",\"#00cc96\",\"#ab63fa\",\"#FFA15A\",\"#19d3f3\",\"#FF6692\",\"#B6E880\",\"#FF97FF\",\"#FECB52\"],\"font\":{\"color\":\"#2a3f5f\"},\"hovermode\":\"closest\",\"hoverlabel\":{\"align\":\"left\"},\"paper_bgcolor\":\"white\",\"plot_bgcolor\":\"#E5ECF6\",\"polar\":{\"bgcolor\":\"#E5ECF6\",\"angularaxis\":{\"gridcolor\":\"white\",\"linecolor\":\"white\",\"ticks\":\"\"},\"radialaxis\":{\"gridcolor\":\"white\",\"linecolor\":\"white\",\"ticks\":\"\"}},\"ternary\":{\"bgcolor\":\"#E5ECF6\",\"aaxis\":{\"gridcolor\":\"white\",\"linecolor\":\"white\",\"ticks\":\"\"},\"baxis\":{\"gridcolor\":\"white\",\"linecolor\":\"white\",\"ticks\":\"\"},\"caxis\":{\"gridcolor\":\"white\",\"linecolor\":\"white\",\"ticks\":\"\"}},\"coloraxis\":{\"colorbar\":{\"outlinewidth\":0,\"ticks\":\"\"}},\"colorscale\":{\"sequential\":[[0.0,\"#0d0887\"],[0.1111111111111111,\"#46039f\"],[0.2222222222222222,\"#7201a8\"],[0.3333333333333333,\"#9c179e\"],[0.4444444444444444,\"#bd3786\"],[0.5555555555555556,\"#d8576b\"],[0.6666666666666666,\"#ed7953\"],[0.7777777777777778,\"#fb9f3a\"],[0.8888888888888888,\"#fdca26\"],[1.0,\"#f0f921\"]],\"sequentialminus\":[[0.0,\"#0d0887\"],[0.1111111111111111,\"#46039f\"],[0.2222222222222222,\"#7201a8\"],[0.3333333333333333,\"#9c179e\"],[0.4444444444444444,\"#bd3786\"],[0.5555555555555556,\"#d8576b\"],[0.6666666666666666,\"#ed7953\"],[0.7777777777777778,\"#fb9f3a\"],[0.8888888888888888,\"#fdca26\"],[1.0,\"#f0f921\"]],\"diverging\":[[0,\"#8e0152\"],[0.1,\"#c51b7d\"],[0.2,\"#de77ae\"],[0.3,\"#f1b6da\"],[0.4,\"#fde0ef\"],[0.5,\"#f7f7f7\"],[0.6,\"#e6f5d0\"],[0.7,\"#b8e186\"],[0.8,\"#7fbc41\"],[0.9,\"#4d9221\"],[1,\"#276419\"]]},\"xaxis\":{\"gridcolor\":\"white\",\"linecolor\":\"white\",\"ticks\":\"\",\"title\":{\"standoff\":15},\"zerolinecolor\":\"white\",\"automargin\":true,\"zerolinewidth\":2},\"yaxis\":{\"gridcolor\":\"white\",\"linecolor\":\"white\",\"ticks\":\"\",\"title\":{\"standoff\":15},\"zerolinecolor\":\"white\",\"automargin\":true,\"zerolinewidth\":2},\"scene\":{\"xaxis\":{\"backgroundcolor\":\"#E5ECF6\",\"gridcolor\":\"white\",\"linecolor\":\"white\",\"showbackground\":true,\"ticks\":\"\",\"zerolinecolor\":\"white\",\"gridwidth\":2},\"yaxis\":{\"backgroundcolor\":\"#E5ECF6\",\"gridcolor\":\"white\",\"linecolor\":\"white\",\"showbackground\":true,\"ticks\":\"\",\"zerolinecolor\":\"white\",\"gridwidth\":2},\"zaxis\":{\"backgroundcolor\":\"#E5ECF6\",\"gridcolor\":\"white\",\"linecolor\":\"white\",\"showbackground\":true,\"ticks\":\"\",\"zerolinecolor\":\"white\",\"gridwidth\":2}},\"shapedefaults\":{\"line\":{\"color\":\"#2a3f5f\"}},\"annotationdefaults\":{\"arrowcolor\":\"#2a3f5f\",\"arrowhead\":0,\"arrowwidth\":1},\"geo\":{\"bgcolor\":\"white\",\"landcolor\":\"#E5ECF6\",\"subunitcolor\":\"white\",\"showland\":true,\"showlakes\":true,\"lakecolor\":\"white\"},\"title\":{\"x\":0.05},\"mapbox\":{\"style\":\"light\"}}},\"xaxis\":{\"anchor\":\"y\",\"domain\":[0.0,0.45]},\"yaxis\":{\"anchor\":\"x\",\"domain\":[0.625,1.0]},\"xaxis2\":{\"anchor\":\"y2\",\"domain\":[0.55,1.0]},\"yaxis2\":{\"anchor\":\"x2\",\"domain\":[0.625,1.0]},\"xaxis3\":{\"anchor\":\"y3\",\"domain\":[0.0,0.45]},\"yaxis3\":{\"anchor\":\"x3\",\"domain\":[0.0,0.375]},\"xaxis4\":{\"anchor\":\"y4\",\"domain\":[0.55,1.0]},\"yaxis4\":{\"anchor\":\"x4\",\"domain\":[0.0,0.375]},\"annotations\":[{\"font\":{\"size\":16},\"showarrow\":false,\"text\":\"Contour Plot of Alpha Vs Loss\",\"x\":0.225,\"xanchor\":\"center\",\"xref\":\"paper\",\"y\":1.0,\"yanchor\":\"bottom\",\"yref\":\"paper\"},{\"font\":{\"size\":16},\"showarrow\":false,\"text\":\"Parameter Importance\",\"x\":0.775,\"xanchor\":\"center\",\"xref\":\"paper\",\"y\":1.0,\"yanchor\":\"bottom\",\"yref\":\"paper\"},{\"font\":{\"size\":16},\"showarrow\":false,\"text\":\"Optimisation History\",\"x\":0.225,\"xanchor\":\"center\",\"xref\":\"paper\",\"y\":0.375,\"yanchor\":\"bottom\",\"yref\":\"paper\"},{\"font\":{\"size\":16},\"showarrow\":false,\"text\":\"Optimisation Pruning Plot\",\"x\":0.775,\"xanchor\":\"center\",\"xref\":\"paper\",\"y\":0.375,\"yanchor\":\"bottom\",\"yref\":\"paper\"}],\"showlegend\":false},                        {\"responsive\": true}                    ).then(function(){\n",
       "                            \n",
       "var gd = document.getElementById('f9a5f81b-7c6f-475d-8499-a006ef55a210');\n",
       "var x = new MutationObserver(function (mutations, observer) {{\n",
       "        var display = window.getComputedStyle(gd).display;\n",
       "        if (!display || display === 'none') {{\n",
       "            console.log([gd, 'removed!']);\n",
       "            Plotly.purge(gd);\n",
       "            observer.disconnect();\n",
       "        }}\n",
       "}});\n",
       "\n",
       "// Listen for the removal of the full notebook cells\n",
       "var notebookContainer = gd.closest('#notebook-container');\n",
       "if (notebookContainer) {{\n",
       "    x.observe(notebookContainer, {childList: true});\n",
       "}}\n",
       "\n",
       "// Listen for the clearing of the current output cell\n",
       "var outputEl = gd.closest('.output');\n",
       "if (outputEl) {{\n",
       "    x.observe(outputEl, {childList: true});\n",
       "}}\n",
       "\n",
       "                        })                };                });            </script>        </div>"
      ]
     },
     "metadata": {},
     "output_type": "display_data"
    }
   ],
   "source": [
    "subplots = make_subplots(\n",
    "    rows=2,\n",
    "    cols=2,\n",
    "    subplot_titles=(\n",
    "        \"Contour Plot of Alpha Vs Loss\",\n",
    "        \"Parameter Importance\",\n",
    "        \"Optimisation History\",\n",
    "        \"Optimisation Pruning Plot\",\n",
    "    ),\n",
    ")\n",
    "contour = optuna.visualization.plot_contour(study, params=[\"alpha\", \"loss\"]).data\n",
    "param_importances = optuna.visualization.plot_param_importances(study).data\n",
    "optim_hist = optuna.visualization.plot_optimization_history(study).data\n",
    "intermediate_vals = optuna.visualization.plot_intermediate_values(study).data\n",
    "\n",
    "subplots.add_traces(contour, 1, 1)\n",
    "subplots.add_traces(param_importances, 1, 2)\n",
    "subplots.add_traces(optim_hist, 2, 1)\n",
    "subplots.add_traces(intermediate_vals, 2, 2)\n",
    "subplots.update_layout(showlegend=False)\n",
    "subplots.show()"
   ]
  },
  {
   "attachments": {},
   "cell_type": "markdown",
   "metadata": {},
   "source": [
    "## Further Reading\n",
    "\n",
    "Some Further reading in case you are interested in Optuna and want to explore a bit more :) \n",
    "1. [What is Optuna and Examples Youtube Video](https://www.youtube.com/watch?v=P6NwZVl8ttc&t=997s&ab_channel=PyTorch)\n",
    "2. [Optuna Examples Including Integrations](https://github.com/optuna/optuna-examples)\n",
    "3. [Optuna Dashboard for Visualisations](https://optuna.org/#dashboard)\n"
   ]
  }
 ],
 "metadata": {
  "kernelspec": {
   "display_name": "base",
   "language": "python",
   "name": "python3"
  },
  "language_info": {
   "codemirror_mode": {
    "name": "ipython",
    "version": 3
   },
   "file_extension": ".py",
   "mimetype": "text/x-python",
   "name": "python",
   "nbconvert_exporter": "python",
   "pygments_lexer": "ipython3",
   "version": "3.10.9"
  },
  "orig_nbformat": 4
 },
 "nbformat": 4,
 "nbformat_minor": 2
}
