{
 "cells": [
  {
   "cell_type": "code",
   "execution_count": 1,
   "id": "0aeef86f",
   "metadata": {},
   "outputs": [
    {
     "name": "stdout",
     "output_type": "stream",
     "text": [
      "Python 3.9.12\r\n"
     ]
    }
   ],
   "source": [
    "!python -V"
   ]
  },
  {
   "cell_type": "code",
   "execution_count": 2,
   "id": "fcc61054",
   "metadata": {},
   "outputs": [],
   "source": [
    "import pandas as pd\n",
    "import seaborn as sns\n",
    "import matplotlib.pyplot as plt\n",
    "\n",
    "from sklearn.feature_extraction import DictVectorizer\n",
    "from sklearn.linear_model import LinearRegression\n",
    "from sklearn.linear_model import Lasso\n",
    "from sklearn.linear_model import Ridge\n",
    "\n",
    "from sklearn.metrics import mean_squared_error\n",
    "\n",
    "import pickle"
   ]
  },
  {
   "cell_type": "code",
   "execution_count": 3,
   "id": "b2378032",
   "metadata": {},
   "outputs": [],
   "source": [
    "#Create a function for the test data\n",
    "def read_dataframe(filename):\n",
    "    df = pd.read_parquet(filename)\n",
    "    \n",
    "    df['duration'] = df.dropOff_datetime - df.pickup_datetime\n",
    "    df.duration = df.duration.apply(lambda td: td.total_seconds()/60)\n",
    "    \n",
    "    #df = df[(df.duration >= 1) & (df.duration <= 60)]\n",
    "    \n",
    "    categorical = ['PUlocationID', 'DOlocationID']\n",
    "    df[categorical] = df[categorical].astype(str)\n",
    "    \n",
    "    return df"
   ]
  },
  {
   "cell_type": "code",
   "execution_count": 4,
   "id": "ecb4e6b7",
   "metadata": {},
   "outputs": [],
   "source": [
    "df_train = read_dataframe(\"./data/fhv_tripdata_2021-01.parquet\")\n",
    "df_val = read_dataframe(\"./data/fhv_tripdata_2021-02.parquet\")"
   ]
  },
  {
   "cell_type": "code",
   "execution_count": 14,
   "id": "ffff8034",
   "metadata": {},
   "outputs": [
    {
     "data": {
      "text/plain": [
       "index                              int64\n",
       "dispatching_base_num              object\n",
       "pickup_datetime           datetime64[ns]\n",
       "dropOff_datetime          datetime64[ns]\n",
       "PUlocationID                      object\n",
       "DOlocationID                      object\n",
       "SR_Flag                           object\n",
       "Affiliated_base_number            object\n",
       "duration                         float64\n",
       "dtype: object"
      ]
     },
     "execution_count": 14,
     "metadata": {},
     "output_type": "execute_result"
    }
   ],
   "source": [
    "df_train.dtypes"
   ]
  },
  {
   "cell_type": "markdown",
   "id": "0fbdef81",
   "metadata": {},
   "source": [
    "# Q1\n",
    "\n",
    "How many records in January"
   ]
  },
  {
   "cell_type": "code",
   "execution_count": 5,
   "id": "d6439a58",
   "metadata": {},
   "outputs": [
    {
     "data": {
      "text/plain": [
       "(1154112, 8)"
      ]
     },
     "execution_count": 5,
     "metadata": {},
     "output_type": "execute_result"
    }
   ],
   "source": [
    "df_train.shape"
   ]
  },
  {
   "cell_type": "markdown",
   "id": "f0ef409c",
   "metadata": {},
   "source": [
    "# Q2 \n",
    "\n",
    "What's the average trip duration in January"
   ]
  },
  {
   "cell_type": "code",
   "execution_count": 6,
   "id": "37e179f9",
   "metadata": {},
   "outputs": [
    {
     "data": {
      "text/plain": [
       "19.1672240937939"
      ]
     },
     "execution_count": 6,
     "metadata": {},
     "output_type": "execute_result"
    }
   ],
   "source": [
    "df_train['duration'].mean()"
   ]
  },
  {
   "cell_type": "code",
   "execution_count": 7,
   "id": "b1b992c3",
   "metadata": {},
   "outputs": [
    {
     "data": {
      "text/plain": [
       "19.167224093791006"
      ]
     },
     "execution_count": 7,
     "metadata": {},
     "output_type": "execute_result"
    }
   ],
   "source": [
    "df_train['duration'].mean(skipna = False)"
   ]
  },
  {
   "cell_type": "markdown",
   "id": "e01e1c40",
   "metadata": {},
   "source": [
    "# Duration Dist\n",
    "\n",
    "Check the distribution of the duration variable. There are some outliers. Keep only those between 1 and 60 mins. How many records were dropped\n"
   ]
  },
  {
   "cell_type": "code",
   "execution_count": 8,
   "id": "e46c0d72",
   "metadata": {},
   "outputs": [
    {
     "data": {
      "text/plain": [
       "<AxesSubplot:xlabel='duration', ylabel='Count'>"
      ]
     },
     "execution_count": 8,
     "metadata": {},
     "output_type": "execute_result"
    },
    {
     "data": {
      "image/png": "[encoded data removed]",
      "text/plain": [
       "<Figure size 432x288 with 1 Axes>"
      ]
     },
     "metadata": {
      "needs_background": "light"
     },
     "output_type": "display_data"
    }
   ],
   "source": [
    "sns.histplot(df_train['duration'].sample(10000))"
   ]
  },
  {
   "cell_type": "code",
   "execution_count": 9,
   "id": "3801403a",
   "metadata": {},
   "outputs": [
    {
     "data": {
      "text/plain": [
       "44286"
      ]
     },
     "execution_count": 9,
     "metadata": {},
     "output_type": "execute_result"
    }
   ],
   "source": [
    "df_train.shape[0] - df_train[(df_train.duration >= 1) & (df_train.duration <= 60)].shape[0]"
   ]
  },
  {
   "cell_type": "code",
   "execution_count": 10,
   "id": "9c5e7466",
   "metadata": {},
   "outputs": [],
   "source": [
    "df_train = df_train[(df_train.duration >= 1) & (df_train.duration <= 60)].reset_index()\n",
    "df_val = df_val[(df_val.duration >= 1) & (df_val.duration <= 60)].reset_index()"
   ]
  },
  {
   "cell_type": "markdown",
   "id": "6dfac344",
   "metadata": {},
   "source": [
    "# Q3 Missing Values\n",
    "\n",
    "pickuplocation ID has a lot of missing values. Fill with -1. "
   ]
  },
  {
   "cell_type": "code",
   "execution_count": 83,
   "id": "e5030036",
   "metadata": {},
   "outputs": [],
   "source": [
    "df_train = pd.read_parquet(\"./data/fhv_tripdata_2021-01.parquet\")"
   ]
  },
  {
   "cell_type": "code",
   "execution_count": 11,
   "id": "7279a5c0",
   "metadata": {},
   "outputs": [
    {
     "data": {
      "text/plain": [
       "0.8352732770722617"
      ]
     },
     "execution_count": 11,
     "metadata": {},
     "output_type": "execute_result"
    }
   ],
   "source": [
    "df_train[df_train['PUlocationID'] == \"nan\"].shape[0] / df_train.shape[0]"
   ]
  },
  {
   "cell_type": "code",
   "execution_count": 12,
   "id": "bdced00a",
   "metadata": {},
   "outputs": [],
   "source": [
    "df_train.loc[df_train['PUlocationID'] == \"nan\",\"PUlocationID\"] = -1\n",
    "df_train.loc[df_train['DOlocationID'] == \"nan\",\"DOlocationID\"] = -1 "
   ]
  },
  {
   "cell_type": "code",
   "execution_count": 13,
   "id": "ad30f5ad",
   "metadata": {},
   "outputs": [],
   "source": [
    "df_val.loc[df_val['PUlocationID'] == \"nan\",\"PUlocationID\"] = -1\n",
    "df_val.loc[df_val['DOlocationID'] == \"nan\",\"DOlocationID\"] = -1 "
   ]
  },
  {
   "cell_type": "markdown",
   "id": "5025b924",
   "metadata": {},
   "source": [
    "# Q4 One-hot encoding"
   ]
  },
  {
   "cell_type": "code",
   "execution_count": 17,
   "id": "247bd759",
   "metadata": {},
   "outputs": [],
   "source": [
    "categorical = ['PUlocationID', 'DOlocationID']"
   ]
  },
  {
   "cell_type": "code",
   "execution_count": 18,
   "id": "1c63ebee",
   "metadata": {},
   "outputs": [],
   "source": [
    "def encode_cat_to_dict(categor_list,df):\n",
    "    df[categor_list] = df[categor_list].astype(str)\n",
    "    df_dicts = df[categor_list].to_dict(orient = \"records\")\n",
    "    \n",
    "    return df_dicts\n",
    "    "
   ]
  },
  {
   "cell_type": "code",
   "execution_count": 20,
   "id": "2803db74",
   "metadata": {},
   "outputs": [],
   "source": [
    "train_dicts = encode_cat_to_dict(categorical, df_train)\n",
    "val_dicts = encode_cat_to_dict(categorical, df_val)"
   ]
  },
  {
   "cell_type": "code",
   "execution_count": 21,
   "id": "6caffed5",
   "metadata": {},
   "outputs": [],
   "source": [
    "dv = DictVectorizer()"
   ]
  },
  {
   "cell_type": "code",
   "execution_count": 24,
   "id": "50616f88",
   "metadata": {},
   "outputs": [],
   "source": [
    "X_train = dv.fit_transform(train_dicts)\n",
    "X_val = dv.transform(val_dicts)"
   ]
  },
  {
   "cell_type": "code",
   "execution_count": 25,
   "id": "f9f475c6",
   "metadata": {},
   "outputs": [
    {
     "data": {
      "text/plain": [
       "<1109826x525 sparse matrix of type '<class 'numpy.float64'>'\n",
       "\twith 2219652 stored elements in Compressed Sparse Row format>"
      ]
     },
     "execution_count": 25,
     "metadata": {},
     "output_type": "execute_result"
    }
   ],
   "source": [
    "X_train"
   ]
  },
  {
   "cell_type": "code",
   "execution_count": 26,
   "id": "563d36aa",
   "metadata": {},
   "outputs": [
    {
     "data": {
      "text/plain": [
       "<990113x525 sparse matrix of type '<class 'numpy.float64'>'\n",
       "\twith 1980223 stored elements in Compressed Sparse Row format>"
      ]
     },
     "execution_count": 26,
     "metadata": {},
     "output_type": "execute_result"
    }
   ],
   "source": [
    "X_val"
   ]
  },
  {
   "cell_type": "markdown",
   "id": "54f0e50a",
   "metadata": {},
   "source": [
    "# Q5 Train Model"
   ]
  },
  {
   "cell_type": "code",
   "execution_count": 27,
   "id": "3ca09a80",
   "metadata": {},
   "outputs": [],
   "source": [
    "target = 'duration'\n",
    "y_train = df_train[target].values\n",
    "y_val = df_val[target].values"
   ]
  },
  {
   "cell_type": "code",
   "execution_count": 28,
   "id": "9a869bc1",
   "metadata": {},
   "outputs": [
    {
     "data": {
      "text/plain": [
       "LinearRegression()"
      ]
     },
     "execution_count": 28,
     "metadata": {},
     "output_type": "execute_result"
    }
   ],
   "source": [
    "lr = LinearRegression()\n",
    "lr.fit(X_train, y_train)"
   ]
  },
  {
   "cell_type": "code",
   "execution_count": 29,
   "id": "a80d9642",
   "metadata": {},
   "outputs": [],
   "source": [
    "y_pred = lr.predict(X_train)"
   ]
  },
  {
   "cell_type": "code",
   "execution_count": 30,
   "id": "42a4c0f9",
   "metadata": {},
   "outputs": [
    {
     "name": "stderr",
     "output_type": "stream",
     "text": [
      "/home/ubuntu/anaconda3/lib/python3.9/site-packages/seaborn/distributions.py:2619: FutureWarning: `distplot` is a deprecated function and will be removed in a future version. Please adapt your code to use either `displot` (a figure-level function with similar flexibility) or `histplot` (an axes-level function for histograms).\n",
      "  warnings.warn(msg, FutureWarning)\n",
      "/home/ubuntu/anaconda3/lib/python3.9/site-packages/seaborn/distributions.py:2619: FutureWarning: `distplot` is a deprecated function and will be removed in a future version. Please adapt your code to use either `displot` (a figure-level function with similar flexibility) or `histplot` (an axes-level function for histograms).\n",
      "  warnings.warn(msg, FutureWarning)\n"
     ]
    },
    {
     "data": {
      "text/plain": [
       "<matplotlib.legend.Legend at 0x7f4a7ff198b0>"
      ]
     },
     "execution_count": 30,
     "metadata": {},
     "output_type": "execute_result"
    },
    {
     "data": {
      "image/png": "[encoded data removed]",
      "text/plain": [
       "<Figure size 432x288 with 1 Axes>"
      ]
     },
     "metadata": {
      "needs_background": "light"
     },
     "output_type": "display_data"
    }
   ],
   "source": [
    "sns.distplot(y_pred, label = \"prediction\")\n",
    "sns.distplot(y_train, label = \"actual\")\n",
    "\n",
    "plt.legend()"
   ]
  },
  {
   "cell_type": "code",
   "execution_count": 31,
   "id": "23a3093e",
   "metadata": {},
   "outputs": [
    {
     "data": {
      "text/plain": [
       "10.5285191072072"
      ]
     },
     "execution_count": 31,
     "metadata": {},
     "output_type": "execute_result"
    }
   ],
   "source": [
    "#model is wrong on average by 9 mins = RMSE\n",
    "mean_squared_error(y_train, y_pred, squared = False)"
   ]
  },
  {
   "cell_type": "markdown",
   "id": "aa11e164",
   "metadata": {},
   "source": [
    "# Q6 Evaluation the Model \n",
    "\n",
    "Apply to the validation dataset. "
   ]
  },
  {
   "cell_type": "code",
   "execution_count": 33,
   "id": "f0a8dd3d",
   "metadata": {},
   "outputs": [
    {
     "data": {
      "text/plain": [
       "11.014283163400654"
      ]
     },
     "execution_count": 33,
     "metadata": {},
     "output_type": "execute_result"
    }
   ],
   "source": [
    "y_pred = lr.predict(X_val)\n",
    "y_train = df_val[target].values\n",
    "\n",
    "mean_squared_error(y_train, y_pred, squared = False)"
   ]
  },
  {
   "cell_type": "code",
   "execution_count": null,
   "id": "c42316a0",
   "metadata": {},
   "outputs": [],
   "source": []
  }
 ],
 "metadata": {
  "kernelspec": {
   "display_name": "Python 3 (ipykernel)",
   "language": "python",
   "name": "python3"
  },
  "language_info": {
   "codemirror_mode": {
    "name": "ipython",
    "version": 3
   },
   "file_extension": ".py",
   "mimetype": "text/x-python",
   "name": "python",
   "nbconvert_exporter": "python",
   "pygments_lexer": "ipython3",
   "version": "3.9.12"
  }
 },
 "nbformat": 4,
 "nbformat_minor": 5
}
