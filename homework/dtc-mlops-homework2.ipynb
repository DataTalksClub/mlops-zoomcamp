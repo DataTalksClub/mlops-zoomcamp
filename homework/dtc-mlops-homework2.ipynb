{
 "cells": [
  {
   "cell_type": "markdown",
   "id": "c80cf1f7",
   "metadata": {},
   "source": [
    "# Q1"
   ]
  },
  {
   "cell_type": "code",
   "execution_count": 1,
   "id": "b32c2c1b",
   "metadata": {},
   "outputs": [
    {
     "name": "stdout",
     "output_type": "stream",
     "text": [
      "/bin/bash: line 1: mlflow: command not found\r\n"
     ]
    }
   ],
   "source": [
    "!mlflow --version"
   ]
  },
  {
   "cell_type": "markdown",
   "id": "02544315",
   "metadata": {},
   "source": [
    "# Q2\n",
    "\n",
    "We'll use the same dataset used in the videos of the 1st and 2nd module: \"Green Taxi Trip Records\".Download the data for January, February and March 2021 in parquet format from here.\n",
    "\n",
    "Use the script preprocess_data.py located in the folder homework to preprocess the data.\n",
    "\n",
    "The script will load the data from the folder <TAXI_DATA_FOLDER> (the folder where you have downloaded the data),\n",
    "fit a DictVectorizer on the training set (January 2021 data),\n",
    "save the preprocessed datasets and the model to disk\n",
    "Your task is to download the datasets and then execute this command:\n",
    "\n",
    "python preprocess_data.py --raw_data_path <TAXI_DATA_FOLDER> --dest_path ./output\n",
    "\n",
    "\n",
    "Tip: go to 02-experiment-tracking/homework/ folder before executing the command and change the value of <TAXI_DATA_FOLDER> to the location where you saved the data.\n",
    "\n",
    "How many files were saved to OUTPUT_FOLDER?\n",
    "\n",
    "1\n",
    "3\n",
    "4\n",
    "7"
   ]
  },
  {
   "cell_type": "code",
   "execution_count": null,
   "id": "81e068a7",
   "metadata": {},
   "outputs": [],
   "source": [
    "4 3 pickels plus the dict victorizer. "
   ]
  },
  {
   "cell_type": "markdown",
   "id": "9385b500",
   "metadata": {},
   "source": [
    "# Q3\n",
    "\n",
    "We will train a random forest regressor on the taxi dataset.\n",
    "\n",
    "We have prepared the training script train.py for this exercise, which can be also found in the folder homework. The script will load the datasets produced by the previous step, train the model on the training set and finally calculate the RMSE on the validation set.\n",
    "\n",
    "Your task is to modify the script to enable autologging with MLflow, execute the script and then launch the MLflow UI to check that the experiment run was properly tracked.\n",
    "\n",
    "Tip 1: don't forget to wrap the training code with a with mlflow.start_run(): statement as we showed in the videos.\n",
    "\n",
    "Tip 2: don't modify the hyperparameters of the model to make sure that the training will finish quickly.\n",
    "\n",
    "How many parameters are automatically logged by MLflow?\n",
    "\n",
    "19\n",
    "17\n",
    "10\n",
    "20"
   ]
  },
  {
   "cell_type": "markdown",
   "id": "87c49528",
   "metadata": {},
   "source": [
    "17 - when mlflow is started make sure to connect to the url "
   ]
  },
  {
   "cell_type": "markdown",
   "id": "212eff44",
   "metadata": {},
   "source": [
    "Q4. Launch the tracking server locally\n",
    "We want to manage the entire lifecycle of our ML model. In this step, you'll need to launch a tracking server. This way we will also have access to the model registry.\n",
    "\n",
    "Your task is to\n",
    "\n",
    "launch the tracking server on your local machine\n",
    "select a SQLite db for the backend store and a folder called artifacts for the artifacts store\n",
    "You should keep the tracking server running to work on the next two exercises that use the server.\n",
    "\n",
    "In addition to backend-store-uri, what else do you need to pass to properly configure the server?\n",
    "\n",
    "- default-artifact-root\n",
    "- serve-artifacts\n",
    "- artifacts-only\n",
    "- artifacts-destination"
   ]
  },
  {
   "cell_type": "markdown",
   "id": "a5232152",
   "metadata": {},
   "source": [
    "-- default-artifact-root\n",
    "\n",
    "Directory in which to store artifacts for any new experiments created. For tracking server backends that rely on SQL, this option is required in order to store artifacts. Note that this flag does not impact already-created experiments with any previous configuration of an MLflow server instance. By default, data will be logged to the mlflow-artifacts:/ uri proxy if the –serve-artifacts option is enabled. Otherwise, the default location will be ./mlruns.\n",
    "\n",
    "-- serve-artifacts\n",
    "\n",
    "If specified, enables serving of artifact uploads, downloads, and list requests by routing these requests to the storage location that is specified by ‘–artifact-destination’ directly through a proxy. The default location that these requests are served from is a local ‘./mlartifacts’ directory which can be overridden via the ‘–artifacts-destination’ argument. Default: False\n",
    "\n",
    "-- serve-artifacts\n",
    "\n",
    "If specified, configures the mlflow server to be used only for proxied artifact serving. With this mode enabled, functionality of the mlflow tracking service (e.g. run creation, metric logging, and parameter logging) is disabled. The server will only expose endpoints for uploading, downloading, and listing artifacts. Default: False\n",
    "\n",
    "-- artifacts-destination\n",
    "\n",
    "The base artifact location from which to resolve artifact upload/download/list requests (e.g. ‘s3://my-bucket’). Defaults to a local ‘./mlartifacts’ directory. This option only applies when the tracking server is configured to stream artifacts and the experiment’s artifact root location is http or mlflow-artifacts URI."
   ]
  },
  {
   "cell_type": "markdown",
   "id": "448d578b",
   "metadata": {},
   "source": [
    "-- default-artifact-root"
   ]
  },
  {
   "cell_type": "markdown",
   "id": "132017cd",
   "metadata": {},
   "source": [
    "#q5\n",
    "\n",
    "Now let's try to reduce the validation error by tuning the hyperparameters of the random forest regressor using hyperopt.\n",
    "\n",
    "We have prepared the script hpo.py for this exercise.\n",
    "\n",
    "Your task is to modify the script hpo.py and make sure that the validation RMSE is logged to MLflow for each run of the hyperparameter optimization (you will need to add a few lines of code to the objective function) and run the script without passing any parameters.\n",
    "\n",
    "After that, open the MLflow UI and explore the runs from the experiment called random-forest-hyperopt to answer the question below.\n",
    "\n",
    "Important: don't use autologging for this exercise.\n",
    "\n",
    "The idea is to just log the information that you need to answer the question below, including:\n",
    "\n",
    "the list of hyperparameters that are passed to the objective function during the optimization.\n",
    "the RMSE obtained on the validation set (February 2021 data).\n",
    "What's the best validation RMSE that you got?\n",
    "\n",
    "- 6.128\n",
    "- 6.628\n",
    "- 7.128\n",
    "- 7.628"
   ]
  },
  {
   "cell_type": "code",
   "execution_count": null,
   "id": "2cad4b08",
   "metadata": {},
   "outputs": [],
   "source": []
  }
 ],
 "metadata": {
  "kernelspec": {
   "display_name": "Python 3 (ipykernel)",
   "language": "python",
   "name": "python3"
  },
  "language_info": {
   "codemirror_mode": {
    "name": "ipython",
    "version": 3
   },
   "file_extension": ".py",
   "mimetype": "text/x-python",
   "name": "python",
   "nbconvert_exporter": "python",
   "pygments_lexer": "ipython3",
   "version": "3.9.12"
  }
 },
 "nbformat": 4,
 "nbformat_minor": 5
}
